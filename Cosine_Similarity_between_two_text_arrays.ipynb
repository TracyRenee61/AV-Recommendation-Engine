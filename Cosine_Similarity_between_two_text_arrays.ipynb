{
  "nbformat": 4,
  "nbformat_minor": 0,
  "metadata": {
    "colab": {
      "name": " Cosine_Similarity between two text arrays.ipynb",
      "provenance": []
    },
    "kernelspec": {
      "name": "python3",
      "display_name": "Python 3"
    },
    "language_info": {
      "name": "python"
    }
  },
  "cells": [
    {
      "cell_type": "markdown",
      "metadata": {
        "id": "ZxyshVJaL9oE"
      },
      "source": [
        "Import"
      ]
    },
    {
      "cell_type": "code",
      "metadata": {
        "id": "8xaR52ZeLpQu"
      },
      "source": [
        "import pandas as pd\n",
        "import numpy as np"
      ],
      "execution_count": 137,
      "outputs": []
    },
    {
      "cell_type": "markdown",
      "metadata": {
        "id": "yQK1rpU_gPhI"
      },
      "source": [
        "Load file"
      ]
    },
    {
      "cell_type": "code",
      "metadata": {
        "colab": {
          "base_uri": "https://localhost:8080/",
          "height": 895
        },
        "id": "izn48HX9gSDJ",
        "outputId": "42fce4e7-390e-448d-ed67-ca8c510b09bb"
      },
      "source": [
        "df = pd.read_csv(\"https://raw.githubusercontent.com/TracyRenee61/AV-Recommendation-Engine/master/Tracy-Mike%20Compatibility%20-%20Sheet1.csv\")\n",
        "df"
      ],
      "execution_count": 138,
      "outputs": [
        {
          "output_type": "execute_result",
          "data": {
            "text/html": [
              "<div>\n",
              "<style scoped>\n",
              "    .dataframe tbody tr th:only-of-type {\n",
              "        vertical-align: middle;\n",
              "    }\n",
              "\n",
              "    .dataframe tbody tr th {\n",
              "        vertical-align: top;\n",
              "    }\n",
              "\n",
              "    .dataframe thead th {\n",
              "        text-align: right;\n",
              "    }\n",
              "</style>\n",
              "<table border=\"1\" class=\"dataframe\">\n",
              "  <thead>\n",
              "    <tr style=\"text-align: right;\">\n",
              "      <th></th>\n",
              "      <th>tracy_likes</th>\n",
              "      <th>mike_likes</th>\n",
              "      <th>tracy_dislikes</th>\n",
              "      <th>mike_dislikes</th>\n",
              "    </tr>\n",
              "  </thead>\n",
              "  <tbody>\n",
              "    <tr>\n",
              "      <th>0</th>\n",
              "      <td>rock music</td>\n",
              "      <td>pop music</td>\n",
              "      <td>classical music</td>\n",
              "      <td>classical music</td>\n",
              "    </tr>\n",
              "    <tr>\n",
              "      <th>1</th>\n",
              "      <td>family</td>\n",
              "      <td>family</td>\n",
              "      <td>separation</td>\n",
              "      <td>separation</td>\n",
              "    </tr>\n",
              "    <tr>\n",
              "      <th>2</th>\n",
              "      <td>picnics</td>\n",
              "      <td>picnics</td>\n",
              "      <td>solitude</td>\n",
              "      <td>solitude</td>\n",
              "    </tr>\n",
              "    <tr>\n",
              "      <th>3</th>\n",
              "      <td>relationships</td>\n",
              "      <td>relationships</td>\n",
              "      <td>loners</td>\n",
              "      <td>loners</td>\n",
              "    </tr>\n",
              "    <tr>\n",
              "      <th>4</th>\n",
              "      <td>health</td>\n",
              "      <td>health</td>\n",
              "      <td>gluttony</td>\n",
              "      <td>gluttony</td>\n",
              "    </tr>\n",
              "    <tr>\n",
              "      <th>5</th>\n",
              "      <td>work</td>\n",
              "      <td>work</td>\n",
              "      <td>idleness</td>\n",
              "      <td>overwork</td>\n",
              "    </tr>\n",
              "    <tr>\n",
              "      <th>6</th>\n",
              "      <td>money</td>\n",
              "      <td>financial stability</td>\n",
              "      <td>poverty</td>\n",
              "      <td>poverty</td>\n",
              "    </tr>\n",
              "    <tr>\n",
              "      <th>7</th>\n",
              "      <td>a nice home</td>\n",
              "      <td>a home</td>\n",
              "      <td>living in a dump</td>\n",
              "      <td>homelessness</td>\n",
              "    </tr>\n",
              "    <tr>\n",
              "      <th>8</th>\n",
              "      <td>friendships</td>\n",
              "      <td>friendships</td>\n",
              "      <td>abandonment</td>\n",
              "      <td>abandonment</td>\n",
              "    </tr>\n",
              "    <tr>\n",
              "      <th>9</th>\n",
              "      <td>career</td>\n",
              "      <td>job</td>\n",
              "      <td>unemployment</td>\n",
              "      <td>unemployment</td>\n",
              "    </tr>\n",
              "    <tr>\n",
              "      <th>10</th>\n",
              "      <td>cooking</td>\n",
              "      <td>eating</td>\n",
              "      <td>scarcity</td>\n",
              "      <td>scarcity</td>\n",
              "    </tr>\n",
              "    <tr>\n",
              "      <th>11</th>\n",
              "      <td>moderate exercise</td>\n",
              "      <td>exercise</td>\n",
              "      <td>laziness</td>\n",
              "      <td>extremes</td>\n",
              "    </tr>\n",
              "    <tr>\n",
              "      <th>12</th>\n",
              "      <td>marriage</td>\n",
              "      <td>divorce</td>\n",
              "      <td>divorce</td>\n",
              "      <td>marriage</td>\n",
              "    </tr>\n",
              "    <tr>\n",
              "      <th>13</th>\n",
              "      <td>independence</td>\n",
              "      <td>independence</td>\n",
              "      <td>depending on others</td>\n",
              "      <td>aloneness</td>\n",
              "    </tr>\n",
              "    <tr>\n",
              "      <th>14</th>\n",
              "      <td>clothes</td>\n",
              "      <td>sports clothing</td>\n",
              "      <td>ill fitting clothing</td>\n",
              "      <td>ill fitting clothing</td>\n",
              "    </tr>\n",
              "    <tr>\n",
              "      <th>15</th>\n",
              "      <td>shoes</td>\n",
              "      <td>sports shoes</td>\n",
              "      <td>ill fitting shoes</td>\n",
              "      <td>ill fitting shoes</td>\n",
              "    </tr>\n",
              "    <tr>\n",
              "      <th>16</th>\n",
              "      <td>astrology</td>\n",
              "      <td>astrology</td>\n",
              "      <td>black majic</td>\n",
              "      <td>black majic</td>\n",
              "    </tr>\n",
              "    <tr>\n",
              "      <th>17</th>\n",
              "      <td>tarot</td>\n",
              "      <td>ufos</td>\n",
              "      <td>sorcery</td>\n",
              "      <td>sorcery</td>\n",
              "    </tr>\n",
              "    <tr>\n",
              "      <th>18</th>\n",
              "      <td>numerology</td>\n",
              "      <td>ghosts</td>\n",
              "      <td>demons</td>\n",
              "      <td>demons</td>\n",
              "    </tr>\n",
              "    <tr>\n",
              "      <th>19</th>\n",
              "      <td>angels</td>\n",
              "      <td>angels</td>\n",
              "      <td>the devil</td>\n",
              "      <td>the devil</td>\n",
              "    </tr>\n",
              "    <tr>\n",
              "      <th>20</th>\n",
              "      <td>bible</td>\n",
              "      <td>bible</td>\n",
              "      <td>koran</td>\n",
              "      <td>boring books</td>\n",
              "    </tr>\n",
              "    <tr>\n",
              "      <th>21</th>\n",
              "      <td>david icke</td>\n",
              "      <td>jane austen</td>\n",
              "      <td>extremists</td>\n",
              "      <td>extremists</td>\n",
              "    </tr>\n",
              "    <tr>\n",
              "      <th>22</th>\n",
              "      <td>donald trump</td>\n",
              "      <td>jeremy corbyn</td>\n",
              "      <td>david cameron</td>\n",
              "      <td>david cameron</td>\n",
              "    </tr>\n",
              "    <tr>\n",
              "      <th>23</th>\n",
              "      <td>studing</td>\n",
              "      <td>reading</td>\n",
              "      <td>nothing to do</td>\n",
              "      <td>too much to do</td>\n",
              "    </tr>\n",
              "    <tr>\n",
              "      <th>24</th>\n",
              "      <td>vacations</td>\n",
              "      <td>vacations</td>\n",
              "      <td>boredom</td>\n",
              "      <td>staying home</td>\n",
              "    </tr>\n",
              "    <tr>\n",
              "      <th>25</th>\n",
              "      <td>self help groups</td>\n",
              "      <td>politics</td>\n",
              "      <td>self pity</td>\n",
              "      <td>self pity</td>\n",
              "    </tr>\n",
              "    <tr>\n",
              "      <th>26</th>\n",
              "      <td>looking to the future</td>\n",
              "      <td>looking to the future</td>\n",
              "      <td>bad memories</td>\n",
              "      <td>bad memories</td>\n",
              "    </tr>\n",
              "  </tbody>\n",
              "</table>\n",
              "</div>"
            ],
            "text/plain": [
              "              tracy_likes  ...         mike_dislikes\n",
              "0              rock music  ...       classical music\n",
              "1                  family  ...            separation\n",
              "2                 picnics  ...              solitude\n",
              "3           relationships  ...                loners\n",
              "4                  health  ...              gluttony\n",
              "5                    work  ...              overwork\n",
              "6                   money  ...               poverty\n",
              "7             a nice home  ...          homelessness\n",
              "8             friendships  ...           abandonment\n",
              "9                  career  ...          unemployment\n",
              "10                cooking  ...              scarcity\n",
              "11      moderate exercise  ...              extremes\n",
              "12               marriage  ...              marriage\n",
              "13           independence  ...             aloneness\n",
              "14                clothes  ...  ill fitting clothing\n",
              "15                  shoes  ...     ill fitting shoes\n",
              "16              astrology  ...           black majic\n",
              "17                  tarot  ...               sorcery\n",
              "18             numerology  ...                demons\n",
              "19                 angels  ...             the devil\n",
              "20                  bible  ...          boring books\n",
              "21             david icke  ...            extremists\n",
              "22           donald trump  ...         david cameron\n",
              "23                studing  ...        too much to do\n",
              "24              vacations  ...          staying home\n",
              "25       self help groups  ...             self pity\n",
              "26  looking to the future  ...          bad memories\n",
              "\n",
              "[27 rows x 4 columns]"
            ]
          },
          "metadata": {
            "tags": []
          },
          "execution_count": 138
        }
      ]
    },
    {
      "cell_type": "code",
      "metadata": {
        "colab": {
          "base_uri": "https://localhost:8080/"
        },
        "id": "4ddlcWypi1R-",
        "outputId": "4b5c6745-ff0b-4fc8-fc78-0139cc32cf16"
      },
      "source": [
        "df.shape"
      ],
      "execution_count": 139,
      "outputs": [
        {
          "output_type": "execute_result",
          "data": {
            "text/plain": [
              "(27, 4)"
            ]
          },
          "metadata": {
            "tags": []
          },
          "execution_count": 139
        }
      ]
    },
    {
      "cell_type": "markdown",
      "metadata": {
        "id": "YwRXRGealyZu"
      },
      "source": [
        "Convert to text string"
      ]
    },
    {
      "cell_type": "code",
      "metadata": {
        "colab": {
          "base_uri": "https://localhost:8080/"
        },
        "id": "ZC6SxJrRl16u",
        "outputId": "a5325b94-2f73-4f13-a887-13e8382d0265"
      },
      "source": [
        "tl = \" \".join(df.tracy_likes)\n",
        "print(tl)"
      ],
      "execution_count": 140,
      "outputs": [
        {
          "output_type": "stream",
          "text": [
            "rock music family picnics relationships health work money a nice home friendships career cooking moderate exercise marriage independence clothes shoes astrology tarot numerology angels bible david icke donald trump studing vacations self help groups looking to the future\n"
          ],
          "name": "stdout"
        }
      ]
    },
    {
      "cell_type": "code",
      "metadata": {
        "colab": {
          "base_uri": "https://localhost:8080/"
        },
        "id": "DdcSACK7mjZ-",
        "outputId": "01bf58c8-c458-4371-dd39-87f7ddd55bdb"
      },
      "source": [
        "ml = \" \".join(df.mike_likes)\n",
        "print(ml)"
      ],
      "execution_count": 141,
      "outputs": [
        {
          "output_type": "stream",
          "text": [
            "pop music family picnics relationships health work financial stability a home friendships job eating exercise divorce independence sports clothing sports shoes astrology ufos ghosts angels bible jane austen jeremy corbyn reading vacations politics looking to the future\n"
          ],
          "name": "stdout"
        }
      ]
    },
    {
      "cell_type": "code",
      "metadata": {
        "colab": {
          "base_uri": "https://localhost:8080/"
        },
        "id": "u2SlYe0BmqC4",
        "outputId": "b38f6275-7b70-4414-de7f-16098509a915"
      },
      "source": [
        "td = \" \".join(df.tracy_likes)\n",
        "print(td)"
      ],
      "execution_count": 142,
      "outputs": [
        {
          "output_type": "stream",
          "text": [
            "rock music family picnics relationships health work money a nice home friendships career cooking moderate exercise marriage independence clothes shoes astrology tarot numerology angels bible david icke donald trump studing vacations self help groups looking to the future\n"
          ],
          "name": "stdout"
        }
      ]
    },
    {
      "cell_type": "code",
      "metadata": {
        "colab": {
          "base_uri": "https://localhost:8080/"
        },
        "id": "EweO2cafmxLa",
        "outputId": "e544971f-ec3c-4a6a-dcc0-c8c04f120739"
      },
      "source": [
        "md = \" \".join(df.mike_dislikes)\n",
        "print(ml)"
      ],
      "execution_count": 143,
      "outputs": [
        {
          "output_type": "stream",
          "text": [
            "pop music family picnics relationships health work financial stability a home friendships job eating exercise divorce independence sports clothing sports shoes astrology ufos ghosts angels bible jane austen jeremy corbyn reading vacations politics looking to the future\n"
          ],
          "name": "stdout"
        }
      ]
    },
    {
      "cell_type": "markdown",
      "metadata": {
        "id": "5TBh2uIupd4_"
      },
      "source": [
        "Join likes and dislikes"
      ]
    },
    {
      "cell_type": "code",
      "metadata": {
        "colab": {
          "base_uri": "https://localhost:8080/",
          "height": 87
        },
        "id": "xlzKR5vlpiCn",
        "outputId": "2bd1339a-64e6-4989-a3a6-9fb1a549ead1"
      },
      "source": [
        "t = tl + \" \" + td\n",
        "t"
      ],
      "execution_count": 144,
      "outputs": [
        {
          "output_type": "execute_result",
          "data": {
            "application/vnd.google.colaboratory.intrinsic+json": {
              "type": "string"
            },
            "text/plain": [
              "'rock music family picnics relationships health work money a nice home friendships career cooking moderate exercise marriage independence clothes shoes astrology tarot numerology angels bible david icke donald trump studing vacations self help groups looking to the future rock music family picnics relationships health work money a nice home friendships career cooking moderate exercise marriage independence clothes shoes astrology tarot numerology angels bible david icke donald trump studing vacations self help groups looking to the future'"
            ]
          },
          "metadata": {
            "tags": []
          },
          "execution_count": 144
        }
      ]
    },
    {
      "cell_type": "code",
      "metadata": {
        "colab": {
          "base_uri": "https://localhost:8080/",
          "height": 87
        },
        "id": "OgognjNlpoSL",
        "outputId": "74503e89-b9fa-471e-9063-4fb23328c149"
      },
      "source": [
        "m = ml + \" \" + md\n",
        "m"
      ],
      "execution_count": 145,
      "outputs": [
        {
          "output_type": "execute_result",
          "data": {
            "application/vnd.google.colaboratory.intrinsic+json": {
              "type": "string"
            },
            "text/plain": [
              "'pop music family picnics relationships health work financial stability a home friendships job eating exercise divorce independence sports clothing sports shoes astrology ufos ghosts angels bible jane austen jeremy corbyn reading vacations politics looking to the future classical music separation solitude loners gluttony overwork poverty homelessness abandonment unemployment scarcity extremes marriage aloneness ill fitting clothing ill fitting shoes black majic sorcery demons the devil boring books extremists david cameron too much to do staying home self pity bad memories'"
            ]
          },
          "metadata": {
            "tags": []
          },
          "execution_count": 145
        }
      ]
    },
    {
      "cell_type": "markdown",
      "metadata": {
        "id": "ypT6KrFisQ-y"
      },
      "source": [
        "Corpus"
      ]
    },
    {
      "cell_type": "code",
      "metadata": {
        "id": "IVTBfWNIsTJg"
      },
      "source": [
        "corpus = [t, m]"
      ],
      "execution_count": 146,
      "outputs": []
    },
    {
      "cell_type": "markdown",
      "metadata": {
        "id": "EqYSlFk_hXBt"
      },
      "source": [
        "TdIdf Vectorizer"
      ]
    },
    {
      "cell_type": "code",
      "metadata": {
        "colab": {
          "base_uri": "https://localhost:8080/",
          "height": 161
        },
        "id": "yftIa0Lxskbs",
        "outputId": "57a4e36b-9a2e-4444-fb5d-ebfd4caa6277"
      },
      "source": [
        "#see:- https://kanoki.org/2018/12/27/text-matching-cosine-similarity/\n",
        "\n",
        "from sklearn.feature_extraction.text import TfidfVectorizer\n",
        "\n",
        "vectorizer = TfidfVectorizer()\n",
        "trsfm=vectorizer.fit_transform(corpus)\n",
        "pd.DataFrame(trsfm.toarray(),columns=vectorizer.get_feature_names(),index=['t_doc','m_doc'])"
      ],
      "execution_count": 147,
      "outputs": [
        {
          "output_type": "execute_result",
          "data": {
            "text/html": [
              "<div>\n",
              "<style scoped>\n",
              "    .dataframe tbody tr th:only-of-type {\n",
              "        vertical-align: middle;\n",
              "    }\n",
              "\n",
              "    .dataframe tbody tr th {\n",
              "        vertical-align: top;\n",
              "    }\n",
              "\n",
              "    .dataframe thead th {\n",
              "        text-align: right;\n",
              "    }\n",
              "</style>\n",
              "<table border=\"1\" class=\"dataframe\">\n",
              "  <thead>\n",
              "    <tr style=\"text-align: right;\">\n",
              "      <th></th>\n",
              "      <th>abandonment</th>\n",
              "      <th>aloneness</th>\n",
              "      <th>angels</th>\n",
              "      <th>astrology</th>\n",
              "      <th>austen</th>\n",
              "      <th>bad</th>\n",
              "      <th>bible</th>\n",
              "      <th>black</th>\n",
              "      <th>books</th>\n",
              "      <th>boring</th>\n",
              "      <th>cameron</th>\n",
              "      <th>career</th>\n",
              "      <th>classical</th>\n",
              "      <th>clothes</th>\n",
              "      <th>clothing</th>\n",
              "      <th>cooking</th>\n",
              "      <th>corbyn</th>\n",
              "      <th>david</th>\n",
              "      <th>demons</th>\n",
              "      <th>devil</th>\n",
              "      <th>divorce</th>\n",
              "      <th>do</th>\n",
              "      <th>donald</th>\n",
              "      <th>eating</th>\n",
              "      <th>exercise</th>\n",
              "      <th>extremes</th>\n",
              "      <th>extremists</th>\n",
              "      <th>family</th>\n",
              "      <th>financial</th>\n",
              "      <th>fitting</th>\n",
              "      <th>friendships</th>\n",
              "      <th>future</th>\n",
              "      <th>ghosts</th>\n",
              "      <th>gluttony</th>\n",
              "      <th>groups</th>\n",
              "      <th>health</th>\n",
              "      <th>help</th>\n",
              "      <th>home</th>\n",
              "      <th>homelessness</th>\n",
              "      <th>icke</th>\n",
              "      <th>...</th>\n",
              "      <th>job</th>\n",
              "      <th>loners</th>\n",
              "      <th>looking</th>\n",
              "      <th>majic</th>\n",
              "      <th>marriage</th>\n",
              "      <th>memories</th>\n",
              "      <th>moderate</th>\n",
              "      <th>money</th>\n",
              "      <th>much</th>\n",
              "      <th>music</th>\n",
              "      <th>nice</th>\n",
              "      <th>numerology</th>\n",
              "      <th>overwork</th>\n",
              "      <th>picnics</th>\n",
              "      <th>pity</th>\n",
              "      <th>politics</th>\n",
              "      <th>pop</th>\n",
              "      <th>poverty</th>\n",
              "      <th>reading</th>\n",
              "      <th>relationships</th>\n",
              "      <th>rock</th>\n",
              "      <th>scarcity</th>\n",
              "      <th>self</th>\n",
              "      <th>separation</th>\n",
              "      <th>shoes</th>\n",
              "      <th>solitude</th>\n",
              "      <th>sorcery</th>\n",
              "      <th>sports</th>\n",
              "      <th>stability</th>\n",
              "      <th>staying</th>\n",
              "      <th>studing</th>\n",
              "      <th>tarot</th>\n",
              "      <th>the</th>\n",
              "      <th>to</th>\n",
              "      <th>too</th>\n",
              "      <th>trump</th>\n",
              "      <th>ufos</th>\n",
              "      <th>unemployment</th>\n",
              "      <th>vacations</th>\n",
              "      <th>work</th>\n",
              "    </tr>\n",
              "  </thead>\n",
              "  <tbody>\n",
              "    <tr>\n",
              "      <th>t_doc</th>\n",
              "      <td>0.000000</td>\n",
              "      <td>0.000000</td>\n",
              "      <td>0.139171</td>\n",
              "      <td>0.139171</td>\n",
              "      <td>0.000000</td>\n",
              "      <td>0.000000</td>\n",
              "      <td>0.139171</td>\n",
              "      <td>0.000000</td>\n",
              "      <td>0.000000</td>\n",
              "      <td>0.000000</td>\n",
              "      <td>0.000000</td>\n",
              "      <td>0.1956</td>\n",
              "      <td>0.000000</td>\n",
              "      <td>0.1956</td>\n",
              "      <td>0.000000</td>\n",
              "      <td>0.1956</td>\n",
              "      <td>0.000000</td>\n",
              "      <td>0.139171</td>\n",
              "      <td>0.000000</td>\n",
              "      <td>0.000000</td>\n",
              "      <td>0.000000</td>\n",
              "      <td>0.000000</td>\n",
              "      <td>0.1956</td>\n",
              "      <td>0.000000</td>\n",
              "      <td>0.139171</td>\n",
              "      <td>0.000000</td>\n",
              "      <td>0.000000</td>\n",
              "      <td>0.139171</td>\n",
              "      <td>0.000000</td>\n",
              "      <td>0.000000</td>\n",
              "      <td>0.139171</td>\n",
              "      <td>0.139171</td>\n",
              "      <td>0.000000</td>\n",
              "      <td>0.000000</td>\n",
              "      <td>0.1956</td>\n",
              "      <td>0.139171</td>\n",
              "      <td>0.1956</td>\n",
              "      <td>0.139171</td>\n",
              "      <td>0.000000</td>\n",
              "      <td>0.1956</td>\n",
              "      <td>...</td>\n",
              "      <td>0.000000</td>\n",
              "      <td>0.000000</td>\n",
              "      <td>0.139171</td>\n",
              "      <td>0.000000</td>\n",
              "      <td>0.139171</td>\n",
              "      <td>0.000000</td>\n",
              "      <td>0.1956</td>\n",
              "      <td>0.1956</td>\n",
              "      <td>0.000000</td>\n",
              "      <td>0.139171</td>\n",
              "      <td>0.1956</td>\n",
              "      <td>0.1956</td>\n",
              "      <td>0.000000</td>\n",
              "      <td>0.139171</td>\n",
              "      <td>0.000000</td>\n",
              "      <td>0.000000</td>\n",
              "      <td>0.000000</td>\n",
              "      <td>0.000000</td>\n",
              "      <td>0.000000</td>\n",
              "      <td>0.139171</td>\n",
              "      <td>0.1956</td>\n",
              "      <td>0.000000</td>\n",
              "      <td>0.139171</td>\n",
              "      <td>0.000000</td>\n",
              "      <td>0.139171</td>\n",
              "      <td>0.000000</td>\n",
              "      <td>0.000000</td>\n",
              "      <td>0.000000</td>\n",
              "      <td>0.000000</td>\n",
              "      <td>0.000000</td>\n",
              "      <td>0.1956</td>\n",
              "      <td>0.1956</td>\n",
              "      <td>0.139171</td>\n",
              "      <td>0.139171</td>\n",
              "      <td>0.000000</td>\n",
              "      <td>0.1956</td>\n",
              "      <td>0.000000</td>\n",
              "      <td>0.000000</td>\n",
              "      <td>0.139171</td>\n",
              "      <td>0.139171</td>\n",
              "    </tr>\n",
              "    <tr>\n",
              "      <th>m_doc</th>\n",
              "      <td>0.113423</td>\n",
              "      <td>0.113423</td>\n",
              "      <td>0.080702</td>\n",
              "      <td>0.080702</td>\n",
              "      <td>0.113423</td>\n",
              "      <td>0.113423</td>\n",
              "      <td>0.080702</td>\n",
              "      <td>0.113423</td>\n",
              "      <td>0.113423</td>\n",
              "      <td>0.113423</td>\n",
              "      <td>0.113423</td>\n",
              "      <td>0.0000</td>\n",
              "      <td>0.113423</td>\n",
              "      <td>0.0000</td>\n",
              "      <td>0.226847</td>\n",
              "      <td>0.0000</td>\n",
              "      <td>0.113423</td>\n",
              "      <td>0.080702</td>\n",
              "      <td>0.113423</td>\n",
              "      <td>0.113423</td>\n",
              "      <td>0.113423</td>\n",
              "      <td>0.113423</td>\n",
              "      <td>0.0000</td>\n",
              "      <td>0.113423</td>\n",
              "      <td>0.080702</td>\n",
              "      <td>0.113423</td>\n",
              "      <td>0.113423</td>\n",
              "      <td>0.080702</td>\n",
              "      <td>0.113423</td>\n",
              "      <td>0.226847</td>\n",
              "      <td>0.080702</td>\n",
              "      <td>0.080702</td>\n",
              "      <td>0.113423</td>\n",
              "      <td>0.113423</td>\n",
              "      <td>0.0000</td>\n",
              "      <td>0.080702</td>\n",
              "      <td>0.0000</td>\n",
              "      <td>0.161403</td>\n",
              "      <td>0.113423</td>\n",
              "      <td>0.0000</td>\n",
              "      <td>...</td>\n",
              "      <td>0.113423</td>\n",
              "      <td>0.113423</td>\n",
              "      <td>0.080702</td>\n",
              "      <td>0.113423</td>\n",
              "      <td>0.080702</td>\n",
              "      <td>0.113423</td>\n",
              "      <td>0.0000</td>\n",
              "      <td>0.0000</td>\n",
              "      <td>0.113423</td>\n",
              "      <td>0.161403</td>\n",
              "      <td>0.0000</td>\n",
              "      <td>0.0000</td>\n",
              "      <td>0.113423</td>\n",
              "      <td>0.080702</td>\n",
              "      <td>0.113423</td>\n",
              "      <td>0.113423</td>\n",
              "      <td>0.113423</td>\n",
              "      <td>0.113423</td>\n",
              "      <td>0.113423</td>\n",
              "      <td>0.080702</td>\n",
              "      <td>0.0000</td>\n",
              "      <td>0.113423</td>\n",
              "      <td>0.080702</td>\n",
              "      <td>0.113423</td>\n",
              "      <td>0.161403</td>\n",
              "      <td>0.113423</td>\n",
              "      <td>0.113423</td>\n",
              "      <td>0.226847</td>\n",
              "      <td>0.113423</td>\n",
              "      <td>0.113423</td>\n",
              "      <td>0.0000</td>\n",
              "      <td>0.0000</td>\n",
              "      <td>0.161403</td>\n",
              "      <td>0.161403</td>\n",
              "      <td>0.113423</td>\n",
              "      <td>0.0000</td>\n",
              "      <td>0.113423</td>\n",
              "      <td>0.113423</td>\n",
              "      <td>0.080702</td>\n",
              "      <td>0.080702</td>\n",
              "    </tr>\n",
              "  </tbody>\n",
              "</table>\n",
              "<p>2 rows × 84 columns</p>\n",
              "</div>"
            ],
            "text/plain": [
              "       abandonment  aloneness    angels  ...  unemployment  vacations      work\n",
              "t_doc     0.000000   0.000000  0.139171  ...      0.000000   0.139171  0.139171\n",
              "m_doc     0.113423   0.113423  0.080702  ...      0.113423   0.080702  0.080702\n",
              "\n",
              "[2 rows x 84 columns]"
            ]
          },
          "metadata": {
            "tags": []
          },
          "execution_count": 147
        }
      ]
    },
    {
      "cell_type": "markdown",
      "metadata": {
        "id": "GQfgdBBmtod1"
      },
      "source": [
        "Cosine similarity"
      ]
    },
    {
      "cell_type": "code",
      "metadata": {
        "colab": {
          "base_uri": "https://localhost:8080/"
        },
        "id": "Dv-7SiOvtrrN",
        "outputId": "1fd88be3-2fc9-4a8d-b4a3-e046ef281f53"
      },
      "source": [
        "from sklearn.metrics.pairwise import cosine_similarity\n",
        "\n",
        "cosine_similarity(trsfm[0:1], trsfm)"
      ],
      "execution_count": 148,
      "outputs": [
        {
          "output_type": "execute_result",
          "data": {
            "text/plain": [
              "array([[1.       , 0.3032463]])"
            ]
          },
          "metadata": {
            "tags": []
          },
          "execution_count": 148
        }
      ]
    }
  ]
}