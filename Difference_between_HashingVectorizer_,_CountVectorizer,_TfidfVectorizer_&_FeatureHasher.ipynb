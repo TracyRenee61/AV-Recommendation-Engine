{
  "nbformat": 4,
  "nbformat_minor": 0,
  "metadata": {
    "colab": {
      "name": "Difference between HashingVectorizer , CountVectorizer,  TfidfVectorizer & FeatureHasher.ipynb",
      "provenance": []
    },
    "kernelspec": {
      "name": "python3",
      "display_name": "Python 3"
    },
    "language_info": {
      "name": "python"
    }
  },
  "cells": [
    {
      "cell_type": "markdown",
      "metadata": {
        "id": "ZxyshVJaL9oE"
      },
      "source": [
        "Import"
      ]
    },
    {
      "cell_type": "code",
      "metadata": {
        "id": "8xaR52ZeLpQu"
      },
      "source": [
        "import pandas as pd\n",
        "import numpy as np"
      ],
      "execution_count": 178,
      "outputs": []
    },
    {
      "cell_type": "markdown",
      "metadata": {
        "id": "yQK1rpU_gPhI"
      },
      "source": [
        "Load file"
      ]
    },
    {
      "cell_type": "code",
      "metadata": {
        "id": "izn48HX9gSDJ"
      },
      "source": [
        "text1 ='''Tracy loves writing about data science.'''"
      ],
      "execution_count": 179,
      "outputs": []
    },
    {
      "cell_type": "code",
      "metadata": {
        "id": "yMq7Sh9Qjh6D"
      },
      "source": [
        "text2 = '''Tracy loves writing for medium publications.'''"
      ],
      "execution_count": 180,
      "outputs": []
    },
    {
      "cell_type": "code",
      "metadata": {
        "id": "yFT7Rf5vNoEM"
      },
      "source": [
        "text3 = '''Tracy loves studying Python programming.'''"
      ],
      "execution_count": 181,
      "outputs": []
    },
    {
      "cell_type": "code",
      "metadata": {
        "id": "zvfN2SY_Nyn1"
      },
      "source": [
        "text4 = '''Tracy loves entering Kaggle competitions.'''"
      ],
      "execution_count": 182,
      "outputs": []
    },
    {
      "cell_type": "code",
      "metadata": {
        "id": "Qevw1BbbeFfb"
      },
      "source": [
        "text5 = '''Tracy loves making YouTube videos.'''"
      ],
      "execution_count": 183,
      "outputs": []
    },
    {
      "cell_type": "code",
      "metadata": {
        "id": "vIXl-wWfeM-W"
      },
      "source": [
        "text6 = '''Tracy loves getting new subscribers.'''"
      ],
      "execution_count": 184,
      "outputs": []
    },
    {
      "cell_type": "markdown",
      "metadata": {
        "id": "ypT6KrFisQ-y"
      },
      "source": [
        "Corpus"
      ]
    },
    {
      "cell_type": "code",
      "metadata": {
        "id": "IVTBfWNIsTJg",
        "colab": {
          "base_uri": "https://localhost:8080/"
        },
        "outputId": "82598aaf-7179-4d36-a83c-65c0f67ae112"
      },
      "source": [
        "corpus = [text1, text2, text3, text4, text5, text6]\n",
        "corpus"
      ],
      "execution_count": 185,
      "outputs": [
        {
          "output_type": "execute_result",
          "data": {
            "text/plain": [
              "['Tracy loves writing about data science.',\n",
              " 'Tracy loves writing for medium publications.',\n",
              " 'Tracy loves studying Python programming.',\n",
              " 'Tracy loves entering Kaggle competitions.',\n",
              " 'Tracy loves making YouTube videos.',\n",
              " 'Tracy loves getting new subscribers.']"
            ]
          },
          "metadata": {},
          "execution_count": 185
        }
      ]
    },
    {
      "cell_type": "markdown",
      "metadata": {
        "id": "qowJtWCl1Mki"
      },
      "source": [
        "Count Vectorizer"
      ]
    },
    {
      "cell_type": "code",
      "metadata": {
        "colab": {
          "base_uri": "https://localhost:8080/",
          "height": 257
        },
        "id": "7Rv6yyZX1at4",
        "outputId": "36ee50f8-6b00-4259-a1bc-9363daeba871"
      },
      "source": [
        "from sklearn.feature_extraction.text import CountVectorizer\n",
        "\n",
        "count_vec = CountVectorizer()\n",
        "\n",
        "matrix = count_vec.fit_transform(corpus)\n",
        "pd.DataFrame(matrix.toarray(), index=['doc1','doc2', 'doc3', 'doc4', 'doc5', 'doc6'],columns=count_vec.get_feature_names())"
      ],
      "execution_count": 186,
      "outputs": [
        {
          "output_type": "execute_result",
          "data": {
            "text/html": [
              "<div>\n",
              "<style scoped>\n",
              "    .dataframe tbody tr th:only-of-type {\n",
              "        vertical-align: middle;\n",
              "    }\n",
              "\n",
              "    .dataframe tbody tr th {\n",
              "        vertical-align: top;\n",
              "    }\n",
              "\n",
              "    .dataframe thead th {\n",
              "        text-align: right;\n",
              "    }\n",
              "</style>\n",
              "<table border=\"1\" class=\"dataframe\">\n",
              "  <thead>\n",
              "    <tr style=\"text-align: right;\">\n",
              "      <th></th>\n",
              "      <th>about</th>\n",
              "      <th>competitions</th>\n",
              "      <th>data</th>\n",
              "      <th>entering</th>\n",
              "      <th>for</th>\n",
              "      <th>getting</th>\n",
              "      <th>kaggle</th>\n",
              "      <th>loves</th>\n",
              "      <th>making</th>\n",
              "      <th>medium</th>\n",
              "      <th>new</th>\n",
              "      <th>programming</th>\n",
              "      <th>publications</th>\n",
              "      <th>python</th>\n",
              "      <th>science</th>\n",
              "      <th>studying</th>\n",
              "      <th>subscribers</th>\n",
              "      <th>tracy</th>\n",
              "      <th>videos</th>\n",
              "      <th>writing</th>\n",
              "      <th>youtube</th>\n",
              "    </tr>\n",
              "  </thead>\n",
              "  <tbody>\n",
              "    <tr>\n",
              "      <th>doc1</th>\n",
              "      <td>1</td>\n",
              "      <td>0</td>\n",
              "      <td>1</td>\n",
              "      <td>0</td>\n",
              "      <td>0</td>\n",
              "      <td>0</td>\n",
              "      <td>0</td>\n",
              "      <td>1</td>\n",
              "      <td>0</td>\n",
              "      <td>0</td>\n",
              "      <td>0</td>\n",
              "      <td>0</td>\n",
              "      <td>0</td>\n",
              "      <td>0</td>\n",
              "      <td>1</td>\n",
              "      <td>0</td>\n",
              "      <td>0</td>\n",
              "      <td>1</td>\n",
              "      <td>0</td>\n",
              "      <td>1</td>\n",
              "      <td>0</td>\n",
              "    </tr>\n",
              "    <tr>\n",
              "      <th>doc2</th>\n",
              "      <td>0</td>\n",
              "      <td>0</td>\n",
              "      <td>0</td>\n",
              "      <td>0</td>\n",
              "      <td>1</td>\n",
              "      <td>0</td>\n",
              "      <td>0</td>\n",
              "      <td>1</td>\n",
              "      <td>0</td>\n",
              "      <td>1</td>\n",
              "      <td>0</td>\n",
              "      <td>0</td>\n",
              "      <td>1</td>\n",
              "      <td>0</td>\n",
              "      <td>0</td>\n",
              "      <td>0</td>\n",
              "      <td>0</td>\n",
              "      <td>1</td>\n",
              "      <td>0</td>\n",
              "      <td>1</td>\n",
              "      <td>0</td>\n",
              "    </tr>\n",
              "    <tr>\n",
              "      <th>doc3</th>\n",
              "      <td>0</td>\n",
              "      <td>0</td>\n",
              "      <td>0</td>\n",
              "      <td>0</td>\n",
              "      <td>0</td>\n",
              "      <td>0</td>\n",
              "      <td>0</td>\n",
              "      <td>1</td>\n",
              "      <td>0</td>\n",
              "      <td>0</td>\n",
              "      <td>0</td>\n",
              "      <td>1</td>\n",
              "      <td>0</td>\n",
              "      <td>1</td>\n",
              "      <td>0</td>\n",
              "      <td>1</td>\n",
              "      <td>0</td>\n",
              "      <td>1</td>\n",
              "      <td>0</td>\n",
              "      <td>0</td>\n",
              "      <td>0</td>\n",
              "    </tr>\n",
              "    <tr>\n",
              "      <th>doc4</th>\n",
              "      <td>0</td>\n",
              "      <td>1</td>\n",
              "      <td>0</td>\n",
              "      <td>1</td>\n",
              "      <td>0</td>\n",
              "      <td>0</td>\n",
              "      <td>1</td>\n",
              "      <td>1</td>\n",
              "      <td>0</td>\n",
              "      <td>0</td>\n",
              "      <td>0</td>\n",
              "      <td>0</td>\n",
              "      <td>0</td>\n",
              "      <td>0</td>\n",
              "      <td>0</td>\n",
              "      <td>0</td>\n",
              "      <td>0</td>\n",
              "      <td>1</td>\n",
              "      <td>0</td>\n",
              "      <td>0</td>\n",
              "      <td>0</td>\n",
              "    </tr>\n",
              "    <tr>\n",
              "      <th>doc5</th>\n",
              "      <td>0</td>\n",
              "      <td>0</td>\n",
              "      <td>0</td>\n",
              "      <td>0</td>\n",
              "      <td>0</td>\n",
              "      <td>0</td>\n",
              "      <td>0</td>\n",
              "      <td>1</td>\n",
              "      <td>1</td>\n",
              "      <td>0</td>\n",
              "      <td>0</td>\n",
              "      <td>0</td>\n",
              "      <td>0</td>\n",
              "      <td>0</td>\n",
              "      <td>0</td>\n",
              "      <td>0</td>\n",
              "      <td>0</td>\n",
              "      <td>1</td>\n",
              "      <td>1</td>\n",
              "      <td>0</td>\n",
              "      <td>1</td>\n",
              "    </tr>\n",
              "    <tr>\n",
              "      <th>doc6</th>\n",
              "      <td>0</td>\n",
              "      <td>0</td>\n",
              "      <td>0</td>\n",
              "      <td>0</td>\n",
              "      <td>0</td>\n",
              "      <td>1</td>\n",
              "      <td>0</td>\n",
              "      <td>1</td>\n",
              "      <td>0</td>\n",
              "      <td>0</td>\n",
              "      <td>1</td>\n",
              "      <td>0</td>\n",
              "      <td>0</td>\n",
              "      <td>0</td>\n",
              "      <td>0</td>\n",
              "      <td>0</td>\n",
              "      <td>1</td>\n",
              "      <td>1</td>\n",
              "      <td>0</td>\n",
              "      <td>0</td>\n",
              "      <td>0</td>\n",
              "    </tr>\n",
              "  </tbody>\n",
              "</table>\n",
              "</div>"
            ],
            "text/plain": [
              "      about  competitions  data  entering  ...  tracy  videos  writing  youtube\n",
              "doc1      1             0     1         0  ...      1       0        1        0\n",
              "doc2      0             0     0         0  ...      1       0        1        0\n",
              "doc3      0             0     0         0  ...      1       0        0        0\n",
              "doc4      0             1     0         1  ...      1       0        0        0\n",
              "doc5      0             0     0         0  ...      1       1        0        1\n",
              "doc6      0             0     0         0  ...      1       0        0        0\n",
              "\n",
              "[6 rows x 21 columns]"
            ]
          },
          "metadata": {},
          "execution_count": 186
        }
      ]
    },
    {
      "cell_type": "markdown",
      "metadata": {
        "id": "C9HCgUYS2uR8"
      },
      "source": [
        "Tfidf Transformer"
      ]
    },
    {
      "cell_type": "code",
      "metadata": {
        "colab": {
          "base_uri": "https://localhost:8080/"
        },
        "id": "mDPevPJq2w2d",
        "outputId": "d449a1f3-8766-4bc6-d8a9-933d94e30731"
      },
      "source": [
        "from sklearn.feature_extraction.text import TfidfTransformer \n",
        "\n",
        "tf_transformer = TfidfTransformer().fit(matrix)\n",
        "word_count_vec_tf = tf_transformer.transform(matrix)\n",
        "word_count_vec_tf.shape"
      ],
      "execution_count": 187,
      "outputs": [
        {
          "output_type": "execute_result",
          "data": {
            "text/plain": [
              "(6, 21)"
            ]
          },
          "metadata": {},
          "execution_count": 187
        }
      ]
    },
    {
      "cell_type": "code",
      "metadata": {
        "colab": {
          "base_uri": "https://localhost:8080/",
          "height": 257
        },
        "id": "xo0piTBa24rs",
        "outputId": "fcde2730-a5a0-420d-ca06-583edeaba8d5"
      },
      "source": [
        "df0 = pd.DataFrame(word_count_vec_tf.toarray(),columns=count_vec.get_feature_names(),index=['doc1','doc2', 'doc3', 'doc4', 'doc5', 'doc6'])\n",
        "df0"
      ],
      "execution_count": 188,
      "outputs": [
        {
          "output_type": "execute_result",
          "data": {
            "text/html": [
              "<div>\n",
              "<style scoped>\n",
              "    .dataframe tbody tr th:only-of-type {\n",
              "        vertical-align: middle;\n",
              "    }\n",
              "\n",
              "    .dataframe tbody tr th {\n",
              "        vertical-align: top;\n",
              "    }\n",
              "\n",
              "    .dataframe thead th {\n",
              "        text-align: right;\n",
              "    }\n",
              "</style>\n",
              "<table border=\"1\" class=\"dataframe\">\n",
              "  <thead>\n",
              "    <tr style=\"text-align: right;\">\n",
              "      <th></th>\n",
              "      <th>about</th>\n",
              "      <th>competitions</th>\n",
              "      <th>data</th>\n",
              "      <th>entering</th>\n",
              "      <th>for</th>\n",
              "      <th>getting</th>\n",
              "      <th>kaggle</th>\n",
              "      <th>loves</th>\n",
              "      <th>making</th>\n",
              "      <th>medium</th>\n",
              "      <th>new</th>\n",
              "      <th>programming</th>\n",
              "      <th>publications</th>\n",
              "      <th>python</th>\n",
              "      <th>science</th>\n",
              "      <th>studying</th>\n",
              "      <th>subscribers</th>\n",
              "      <th>tracy</th>\n",
              "      <th>videos</th>\n",
              "      <th>writing</th>\n",
              "      <th>youtube</th>\n",
              "    </tr>\n",
              "  </thead>\n",
              "  <tbody>\n",
              "    <tr>\n",
              "      <th>doc1</th>\n",
              "      <td>0.495894</td>\n",
              "      <td>0.000000</td>\n",
              "      <td>0.495894</td>\n",
              "      <td>0.000000</td>\n",
              "      <td>0.000000</td>\n",
              "      <td>0.000000</td>\n",
              "      <td>0.000000</td>\n",
              "      <td>0.220127</td>\n",
              "      <td>0.000000</td>\n",
              "      <td>0.000000</td>\n",
              "      <td>0.000000</td>\n",
              "      <td>0.000000</td>\n",
              "      <td>0.000000</td>\n",
              "      <td>0.000000</td>\n",
              "      <td>0.495894</td>\n",
              "      <td>0.000000</td>\n",
              "      <td>0.000000</td>\n",
              "      <td>0.220127</td>\n",
              "      <td>0.000000</td>\n",
              "      <td>0.40664</td>\n",
              "      <td>0.000000</td>\n",
              "    </tr>\n",
              "    <tr>\n",
              "      <th>doc2</th>\n",
              "      <td>0.000000</td>\n",
              "      <td>0.000000</td>\n",
              "      <td>0.000000</td>\n",
              "      <td>0.000000</td>\n",
              "      <td>0.495894</td>\n",
              "      <td>0.000000</td>\n",
              "      <td>0.000000</td>\n",
              "      <td>0.220127</td>\n",
              "      <td>0.000000</td>\n",
              "      <td>0.495894</td>\n",
              "      <td>0.000000</td>\n",
              "      <td>0.000000</td>\n",
              "      <td>0.495894</td>\n",
              "      <td>0.000000</td>\n",
              "      <td>0.000000</td>\n",
              "      <td>0.000000</td>\n",
              "      <td>0.000000</td>\n",
              "      <td>0.220127</td>\n",
              "      <td>0.000000</td>\n",
              "      <td>0.40664</td>\n",
              "      <td>0.000000</td>\n",
              "    </tr>\n",
              "    <tr>\n",
              "      <th>doc3</th>\n",
              "      <td>0.000000</td>\n",
              "      <td>0.000000</td>\n",
              "      <td>0.000000</td>\n",
              "      <td>0.000000</td>\n",
              "      <td>0.000000</td>\n",
              "      <td>0.000000</td>\n",
              "      <td>0.000000</td>\n",
              "      <td>0.240948</td>\n",
              "      <td>0.000000</td>\n",
              "      <td>0.000000</td>\n",
              "      <td>0.000000</td>\n",
              "      <td>0.542798</td>\n",
              "      <td>0.000000</td>\n",
              "      <td>0.542798</td>\n",
              "      <td>0.000000</td>\n",
              "      <td>0.542798</td>\n",
              "      <td>0.000000</td>\n",
              "      <td>0.240948</td>\n",
              "      <td>0.000000</td>\n",
              "      <td>0.00000</td>\n",
              "      <td>0.000000</td>\n",
              "    </tr>\n",
              "    <tr>\n",
              "      <th>doc4</th>\n",
              "      <td>0.000000</td>\n",
              "      <td>0.542798</td>\n",
              "      <td>0.000000</td>\n",
              "      <td>0.542798</td>\n",
              "      <td>0.000000</td>\n",
              "      <td>0.000000</td>\n",
              "      <td>0.542798</td>\n",
              "      <td>0.240948</td>\n",
              "      <td>0.000000</td>\n",
              "      <td>0.000000</td>\n",
              "      <td>0.000000</td>\n",
              "      <td>0.000000</td>\n",
              "      <td>0.000000</td>\n",
              "      <td>0.000000</td>\n",
              "      <td>0.000000</td>\n",
              "      <td>0.000000</td>\n",
              "      <td>0.000000</td>\n",
              "      <td>0.240948</td>\n",
              "      <td>0.000000</td>\n",
              "      <td>0.00000</td>\n",
              "      <td>0.000000</td>\n",
              "    </tr>\n",
              "    <tr>\n",
              "      <th>doc5</th>\n",
              "      <td>0.000000</td>\n",
              "      <td>0.000000</td>\n",
              "      <td>0.000000</td>\n",
              "      <td>0.000000</td>\n",
              "      <td>0.000000</td>\n",
              "      <td>0.000000</td>\n",
              "      <td>0.000000</td>\n",
              "      <td>0.240948</td>\n",
              "      <td>0.542798</td>\n",
              "      <td>0.000000</td>\n",
              "      <td>0.000000</td>\n",
              "      <td>0.000000</td>\n",
              "      <td>0.000000</td>\n",
              "      <td>0.000000</td>\n",
              "      <td>0.000000</td>\n",
              "      <td>0.000000</td>\n",
              "      <td>0.000000</td>\n",
              "      <td>0.240948</td>\n",
              "      <td>0.542798</td>\n",
              "      <td>0.00000</td>\n",
              "      <td>0.542798</td>\n",
              "    </tr>\n",
              "    <tr>\n",
              "      <th>doc6</th>\n",
              "      <td>0.000000</td>\n",
              "      <td>0.000000</td>\n",
              "      <td>0.000000</td>\n",
              "      <td>0.000000</td>\n",
              "      <td>0.000000</td>\n",
              "      <td>0.542798</td>\n",
              "      <td>0.000000</td>\n",
              "      <td>0.240948</td>\n",
              "      <td>0.000000</td>\n",
              "      <td>0.000000</td>\n",
              "      <td>0.542798</td>\n",
              "      <td>0.000000</td>\n",
              "      <td>0.000000</td>\n",
              "      <td>0.000000</td>\n",
              "      <td>0.000000</td>\n",
              "      <td>0.000000</td>\n",
              "      <td>0.542798</td>\n",
              "      <td>0.240948</td>\n",
              "      <td>0.000000</td>\n",
              "      <td>0.00000</td>\n",
              "      <td>0.000000</td>\n",
              "    </tr>\n",
              "  </tbody>\n",
              "</table>\n",
              "</div>"
            ],
            "text/plain": [
              "         about  competitions      data  ...    videos  writing   youtube\n",
              "doc1  0.495894      0.000000  0.495894  ...  0.000000  0.40664  0.000000\n",
              "doc2  0.000000      0.000000  0.000000  ...  0.000000  0.40664  0.000000\n",
              "doc3  0.000000      0.000000  0.000000  ...  0.000000  0.00000  0.000000\n",
              "doc4  0.000000      0.542798  0.000000  ...  0.000000  0.00000  0.000000\n",
              "doc5  0.000000      0.000000  0.000000  ...  0.542798  0.00000  0.542798\n",
              "doc6  0.000000      0.000000  0.000000  ...  0.000000  0.00000  0.000000\n",
              "\n",
              "[6 rows x 21 columns]"
            ]
          },
          "metadata": {},
          "execution_count": 188
        }
      ]
    },
    {
      "cell_type": "markdown",
      "metadata": {
        "id": "vRV0zGoi1_El"
      },
      "source": [
        "Sum Values"
      ]
    },
    {
      "cell_type": "code",
      "metadata": {
        "colab": {
          "base_uri": "https://localhost:8080/"
        },
        "id": "sTA9r7dP2Btj",
        "outputId": "3349dfad-f40a-44aa-f78e-ca64cbde4f24"
      },
      "source": [
        "df0_sum = df0.sum(axis=1)\n",
        "df0_sum"
      ],
      "execution_count": 189,
      "outputs": [
        {
          "output_type": "execute_result",
          "data": {
            "text/plain": [
              "doc1    2.334575\n",
              "doc2    2.334575\n",
              "doc3    2.110289\n",
              "doc4    2.110289\n",
              "doc5    2.110289\n",
              "doc6    2.110289\n",
              "dtype: float64"
            ]
          },
          "metadata": {},
          "execution_count": 189
        }
      ]
    },
    {
      "cell_type": "markdown",
      "metadata": {
        "id": "sZT7FdMG2E0F"
      },
      "source": [
        "Cosine similarity"
      ]
    },
    {
      "cell_type": "code",
      "metadata": {
        "colab": {
          "base_uri": "https://localhost:8080/"
        },
        "id": "ss56m1Ne2HzY",
        "outputId": "4efacd93-2562-4ef7-970a-064fbf33f2d3"
      },
      "source": [
        "from sklearn.metrics.pairwise import cosine_similarity\n",
        "\n",
        "cosine_similarity(df0[0:1], df0)"
      ],
      "execution_count": 190,
      "outputs": [
        {
          "output_type": "execute_result",
          "data": {
            "text/plain": [
              "array([[1.        , 0.26226788, 0.10607812, 0.10607812, 0.10607812,\n",
              "        0.10607812]])"
            ]
          },
          "metadata": {},
          "execution_count": 190
        }
      ]
    },
    {
      "cell_type": "markdown",
      "metadata": {
        "id": "EqYSlFk_hXBt"
      },
      "source": [
        "Hashing\n",
        "Vectorizer"
      ]
    },
    {
      "cell_type": "code",
      "metadata": {
        "id": "yftIa0Lxskbs",
        "colab": {
          "base_uri": "https://localhost:8080/"
        },
        "outputId": "ee32e8ad-abab-46e8-d4b2-46d45d58ea39"
      },
      "source": [
        "#see:- https://kavita-ganesan.com/hashingvectorizer-vs-countvectorizer/#.YR-sw4hKg2w\n",
        "\n",
        "from sklearn.feature_extraction.text import HashingVectorizer\n",
        "\n",
        "vectorizer = HashingVectorizer(n_features=21)\n",
        "\n",
        "X = vectorizer.fit_transform(corpus)\n",
        "X.shape"
      ],
      "execution_count": 191,
      "outputs": [
        {
          "output_type": "execute_result",
          "data": {
            "text/plain": [
              "(6, 21)"
            ]
          },
          "metadata": {},
          "execution_count": 191
        }
      ]
    },
    {
      "cell_type": "code",
      "metadata": {
        "colab": {
          "base_uri": "https://localhost:8080/",
          "height": 257
        },
        "id": "WYBODwYMdkqH",
        "outputId": "8fa4c235-efb0-4488-e241-6213e283f0d3"
      },
      "source": [
        "matrix = pd.DataFrame(X.toarray(), index=['doc1','doc2', 'doc3', 'doc4', 'doc5', 'doc6'])\n",
        "matrix"
      ],
      "execution_count": 192,
      "outputs": [
        {
          "output_type": "execute_result",
          "data": {
            "text/html": [
              "<div>\n",
              "<style scoped>\n",
              "    .dataframe tbody tr th:only-of-type {\n",
              "        vertical-align: middle;\n",
              "    }\n",
              "\n",
              "    .dataframe tbody tr th {\n",
              "        vertical-align: top;\n",
              "    }\n",
              "\n",
              "    .dataframe thead th {\n",
              "        text-align: right;\n",
              "    }\n",
              "</style>\n",
              "<table border=\"1\" class=\"dataframe\">\n",
              "  <thead>\n",
              "    <tr style=\"text-align: right;\">\n",
              "      <th></th>\n",
              "      <th>0</th>\n",
              "      <th>1</th>\n",
              "      <th>2</th>\n",
              "      <th>3</th>\n",
              "      <th>4</th>\n",
              "      <th>5</th>\n",
              "      <th>6</th>\n",
              "      <th>7</th>\n",
              "      <th>8</th>\n",
              "      <th>9</th>\n",
              "      <th>10</th>\n",
              "      <th>11</th>\n",
              "      <th>12</th>\n",
              "      <th>13</th>\n",
              "      <th>14</th>\n",
              "      <th>15</th>\n",
              "      <th>16</th>\n",
              "      <th>17</th>\n",
              "      <th>18</th>\n",
              "      <th>19</th>\n",
              "      <th>20</th>\n",
              "    </tr>\n",
              "  </thead>\n",
              "  <tbody>\n",
              "    <tr>\n",
              "      <th>doc1</th>\n",
              "      <td>0.000000</td>\n",
              "      <td>0.0</td>\n",
              "      <td>0.0</td>\n",
              "      <td>0.000000</td>\n",
              "      <td>0.0</td>\n",
              "      <td>-0.353553</td>\n",
              "      <td>0.000000</td>\n",
              "      <td>0.000000</td>\n",
              "      <td>0.353553</td>\n",
              "      <td>0.000000</td>\n",
              "      <td>0.353553</td>\n",
              "      <td>0.000000</td>\n",
              "      <td>0.000000</td>\n",
              "      <td>0.000000</td>\n",
              "      <td>0.707107</td>\n",
              "      <td>0.000000</td>\n",
              "      <td>0.353553</td>\n",
              "      <td>0.000000</td>\n",
              "      <td>0.000000</td>\n",
              "      <td>0.0</td>\n",
              "      <td>0.0</td>\n",
              "    </tr>\n",
              "    <tr>\n",
              "      <th>doc2</th>\n",
              "      <td>0.000000</td>\n",
              "      <td>0.0</td>\n",
              "      <td>0.0</td>\n",
              "      <td>0.000000</td>\n",
              "      <td>0.0</td>\n",
              "      <td>0.000000</td>\n",
              "      <td>0.000000</td>\n",
              "      <td>0.000000</td>\n",
              "      <td>0.000000</td>\n",
              "      <td>0.000000</td>\n",
              "      <td>0.408248</td>\n",
              "      <td>0.408248</td>\n",
              "      <td>0.408248</td>\n",
              "      <td>0.000000</td>\n",
              "      <td>0.408248</td>\n",
              "      <td>-0.408248</td>\n",
              "      <td>0.408248</td>\n",
              "      <td>0.000000</td>\n",
              "      <td>0.000000</td>\n",
              "      <td>0.0</td>\n",
              "      <td>0.0</td>\n",
              "    </tr>\n",
              "    <tr>\n",
              "      <th>doc3</th>\n",
              "      <td>0.000000</td>\n",
              "      <td>0.0</td>\n",
              "      <td>0.0</td>\n",
              "      <td>0.000000</td>\n",
              "      <td>0.0</td>\n",
              "      <td>0.000000</td>\n",
              "      <td>0.447214</td>\n",
              "      <td>0.000000</td>\n",
              "      <td>0.000000</td>\n",
              "      <td>0.000000</td>\n",
              "      <td>0.447214</td>\n",
              "      <td>0.000000</td>\n",
              "      <td>-0.447214</td>\n",
              "      <td>0.000000</td>\n",
              "      <td>0.000000</td>\n",
              "      <td>0.000000</td>\n",
              "      <td>0.447214</td>\n",
              "      <td>0.447214</td>\n",
              "      <td>0.000000</td>\n",
              "      <td>0.0</td>\n",
              "      <td>0.0</td>\n",
              "    </tr>\n",
              "    <tr>\n",
              "      <th>doc4</th>\n",
              "      <td>0.000000</td>\n",
              "      <td>0.0</td>\n",
              "      <td>0.0</td>\n",
              "      <td>0.000000</td>\n",
              "      <td>0.0</td>\n",
              "      <td>0.000000</td>\n",
              "      <td>0.000000</td>\n",
              "      <td>0.447214</td>\n",
              "      <td>0.000000</td>\n",
              "      <td>0.000000</td>\n",
              "      <td>0.447214</td>\n",
              "      <td>0.000000</td>\n",
              "      <td>0.000000</td>\n",
              "      <td>0.447214</td>\n",
              "      <td>0.000000</td>\n",
              "      <td>0.000000</td>\n",
              "      <td>0.447214</td>\n",
              "      <td>-0.447214</td>\n",
              "      <td>0.000000</td>\n",
              "      <td>0.0</td>\n",
              "      <td>0.0</td>\n",
              "    </tr>\n",
              "    <tr>\n",
              "      <th>doc5</th>\n",
              "      <td>0.000000</td>\n",
              "      <td>0.0</td>\n",
              "      <td>0.0</td>\n",
              "      <td>-0.447214</td>\n",
              "      <td>0.0</td>\n",
              "      <td>0.000000</td>\n",
              "      <td>0.000000</td>\n",
              "      <td>-0.447214</td>\n",
              "      <td>0.000000</td>\n",
              "      <td>0.447214</td>\n",
              "      <td>0.447214</td>\n",
              "      <td>0.000000</td>\n",
              "      <td>0.000000</td>\n",
              "      <td>0.000000</td>\n",
              "      <td>0.000000</td>\n",
              "      <td>0.000000</td>\n",
              "      <td>0.447214</td>\n",
              "      <td>0.000000</td>\n",
              "      <td>0.000000</td>\n",
              "      <td>0.0</td>\n",
              "      <td>0.0</td>\n",
              "    </tr>\n",
              "    <tr>\n",
              "      <th>doc6</th>\n",
              "      <td>-0.447214</td>\n",
              "      <td>0.0</td>\n",
              "      <td>0.0</td>\n",
              "      <td>0.000000</td>\n",
              "      <td>0.0</td>\n",
              "      <td>0.000000</td>\n",
              "      <td>0.000000</td>\n",
              "      <td>0.000000</td>\n",
              "      <td>0.000000</td>\n",
              "      <td>0.000000</td>\n",
              "      <td>0.447214</td>\n",
              "      <td>0.447214</td>\n",
              "      <td>0.000000</td>\n",
              "      <td>0.000000</td>\n",
              "      <td>0.000000</td>\n",
              "      <td>0.000000</td>\n",
              "      <td>0.447214</td>\n",
              "      <td>0.000000</td>\n",
              "      <td>0.447214</td>\n",
              "      <td>0.0</td>\n",
              "      <td>0.0</td>\n",
              "    </tr>\n",
              "  </tbody>\n",
              "</table>\n",
              "</div>"
            ],
            "text/plain": [
              "            0    1    2         3    4   ...        16        17        18   19   20\n",
              "doc1  0.000000  0.0  0.0  0.000000  0.0  ...  0.353553  0.000000  0.000000  0.0  0.0\n",
              "doc2  0.000000  0.0  0.0  0.000000  0.0  ...  0.408248  0.000000  0.000000  0.0  0.0\n",
              "doc3  0.000000  0.0  0.0  0.000000  0.0  ...  0.447214  0.447214  0.000000  0.0  0.0\n",
              "doc4  0.000000  0.0  0.0  0.000000  0.0  ...  0.447214 -0.447214  0.000000  0.0  0.0\n",
              "doc5  0.000000  0.0  0.0 -0.447214  0.0  ...  0.447214  0.000000  0.000000  0.0  0.0\n",
              "doc6 -0.447214  0.0  0.0  0.000000  0.0  ...  0.447214  0.000000  0.447214  0.0  0.0\n",
              "\n",
              "[6 rows x 21 columns]"
            ]
          },
          "metadata": {},
          "execution_count": 192
        }
      ]
    },
    {
      "cell_type": "code",
      "metadata": {
        "colab": {
          "base_uri": "https://localhost:8080/"
        },
        "id": "yhqGynuOyYtJ",
        "outputId": "a0635e10-a14b-44f2-cfb2-89af55754718"
      },
      "source": [
        "matrix.shape"
      ],
      "execution_count": 193,
      "outputs": [
        {
          "output_type": "execute_result",
          "data": {
            "text/plain": [
              "(6, 21)"
            ]
          },
          "metadata": {},
          "execution_count": 193
        }
      ]
    },
    {
      "cell_type": "markdown",
      "metadata": {
        "id": "ZTIvxcRnwfdh"
      },
      "source": [
        "Tfidf Transformer"
      ]
    },
    {
      "cell_type": "code",
      "metadata": {
        "colab": {
          "base_uri": "https://localhost:8080/"
        },
        "id": "In-j7kkiwh2G",
        "outputId": "c4528696-07a3-4224-eb01-2f53cb762961"
      },
      "source": [
        "from sklearn.feature_extraction.text import TfidfTransformer \n",
        "\n",
        "tf_transformer = TfidfTransformer().fit(matrix)\n",
        "word_count_vec_tf = tf_transformer.transform(matrix)\n",
        "word_count_vec_tf.shape"
      ],
      "execution_count": 194,
      "outputs": [
        {
          "output_type": "execute_result",
          "data": {
            "text/plain": [
              "(6, 21)"
            ]
          },
          "metadata": {},
          "execution_count": 194
        }
      ]
    },
    {
      "cell_type": "code",
      "metadata": {
        "colab": {
          "base_uri": "https://localhost:8080/",
          "height": 257
        },
        "id": "r5bvuEQAw8la",
        "outputId": "6168b0fd-20fb-4207-a620-c4c3600dd7d8"
      },
      "source": [
        "df1 = pd.DataFrame(word_count_vec_tf.toarray(),index=['doc1','doc2', 'doc3', 'doc4', 'doc5', 'doc6'])\n",
        "df1"
      ],
      "execution_count": 195,
      "outputs": [
        {
          "output_type": "execute_result",
          "data": {
            "text/html": [
              "<div>\n",
              "<style scoped>\n",
              "    .dataframe tbody tr th:only-of-type {\n",
              "        vertical-align: middle;\n",
              "    }\n",
              "\n",
              "    .dataframe tbody tr th {\n",
              "        vertical-align: top;\n",
              "    }\n",
              "\n",
              "    .dataframe thead th {\n",
              "        text-align: right;\n",
              "    }\n",
              "</style>\n",
              "<table border=\"1\" class=\"dataframe\">\n",
              "  <thead>\n",
              "    <tr style=\"text-align: right;\">\n",
              "      <th></th>\n",
              "      <th>0</th>\n",
              "      <th>1</th>\n",
              "      <th>2</th>\n",
              "      <th>3</th>\n",
              "      <th>4</th>\n",
              "      <th>5</th>\n",
              "      <th>6</th>\n",
              "      <th>7</th>\n",
              "      <th>8</th>\n",
              "      <th>9</th>\n",
              "      <th>10</th>\n",
              "      <th>11</th>\n",
              "      <th>12</th>\n",
              "      <th>13</th>\n",
              "      <th>14</th>\n",
              "      <th>15</th>\n",
              "      <th>16</th>\n",
              "      <th>17</th>\n",
              "      <th>18</th>\n",
              "      <th>19</th>\n",
              "      <th>20</th>\n",
              "    </tr>\n",
              "  </thead>\n",
              "  <tbody>\n",
              "    <tr>\n",
              "      <th>doc1</th>\n",
              "      <td>0.000000</td>\n",
              "      <td>0.0</td>\n",
              "      <td>0.0</td>\n",
              "      <td>0.000000</td>\n",
              "      <td>0.0</td>\n",
              "      <td>-0.443513</td>\n",
              "      <td>0.000000</td>\n",
              "      <td>0.000000</td>\n",
              "      <td>0.443513</td>\n",
              "      <td>0.000000</td>\n",
              "      <td>0.196875</td>\n",
              "      <td>0.000000</td>\n",
              "      <td>0.000000</td>\n",
              "      <td>0.000000</td>\n",
              "      <td>0.727374</td>\n",
              "      <td>0.000000</td>\n",
              "      <td>0.196875</td>\n",
              "      <td>0.000000</td>\n",
              "      <td>0.000000</td>\n",
              "      <td>0.0</td>\n",
              "      <td>0.0</td>\n",
              "    </tr>\n",
              "    <tr>\n",
              "      <th>doc2</th>\n",
              "      <td>0.000000</td>\n",
              "      <td>0.0</td>\n",
              "      <td>0.0</td>\n",
              "      <td>0.000000</td>\n",
              "      <td>0.0</td>\n",
              "      <td>0.000000</td>\n",
              "      <td>0.000000</td>\n",
              "      <td>0.000000</td>\n",
              "      <td>0.000000</td>\n",
              "      <td>0.000000</td>\n",
              "      <td>0.240337</td>\n",
              "      <td>0.443974</td>\n",
              "      <td>0.443974</td>\n",
              "      <td>0.000000</td>\n",
              "      <td>0.443974</td>\n",
              "      <td>-0.541422</td>\n",
              "      <td>0.240337</td>\n",
              "      <td>0.000000</td>\n",
              "      <td>0.000000</td>\n",
              "      <td>0.0</td>\n",
              "      <td>0.0</td>\n",
              "    </tr>\n",
              "    <tr>\n",
              "      <th>doc3</th>\n",
              "      <td>0.000000</td>\n",
              "      <td>0.0</td>\n",
              "      <td>0.0</td>\n",
              "      <td>0.000000</td>\n",
              "      <td>0.0</td>\n",
              "      <td>0.000000</td>\n",
              "      <td>0.604239</td>\n",
              "      <td>0.000000</td>\n",
              "      <td>0.000000</td>\n",
              "      <td>0.000000</td>\n",
              "      <td>0.268221</td>\n",
              "      <td>0.000000</td>\n",
              "      <td>-0.495485</td>\n",
              "      <td>0.000000</td>\n",
              "      <td>0.000000</td>\n",
              "      <td>0.000000</td>\n",
              "      <td>0.268221</td>\n",
              "      <td>0.495485</td>\n",
              "      <td>0.000000</td>\n",
              "      <td>0.0</td>\n",
              "      <td>0.0</td>\n",
              "    </tr>\n",
              "    <tr>\n",
              "      <th>doc4</th>\n",
              "      <td>0.000000</td>\n",
              "      <td>0.0</td>\n",
              "      <td>0.0</td>\n",
              "      <td>0.000000</td>\n",
              "      <td>0.0</td>\n",
              "      <td>0.000000</td>\n",
              "      <td>0.000000</td>\n",
              "      <td>0.495485</td>\n",
              "      <td>0.000000</td>\n",
              "      <td>0.000000</td>\n",
              "      <td>0.268221</td>\n",
              "      <td>0.000000</td>\n",
              "      <td>0.000000</td>\n",
              "      <td>0.604239</td>\n",
              "      <td>0.000000</td>\n",
              "      <td>0.000000</td>\n",
              "      <td>0.268221</td>\n",
              "      <td>-0.495485</td>\n",
              "      <td>0.000000</td>\n",
              "      <td>0.0</td>\n",
              "      <td>0.0</td>\n",
              "    </tr>\n",
              "    <tr>\n",
              "      <th>doc5</th>\n",
              "      <td>0.000000</td>\n",
              "      <td>0.0</td>\n",
              "      <td>0.0</td>\n",
              "      <td>-0.571054</td>\n",
              "      <td>0.0</td>\n",
              "      <td>0.000000</td>\n",
              "      <td>0.000000</td>\n",
              "      <td>-0.468273</td>\n",
              "      <td>0.000000</td>\n",
              "      <td>0.571054</td>\n",
              "      <td>0.253491</td>\n",
              "      <td>0.000000</td>\n",
              "      <td>0.000000</td>\n",
              "      <td>0.000000</td>\n",
              "      <td>0.000000</td>\n",
              "      <td>0.000000</td>\n",
              "      <td>0.253491</td>\n",
              "      <td>0.000000</td>\n",
              "      <td>0.000000</td>\n",
              "      <td>0.0</td>\n",
              "      <td>0.0</td>\n",
              "    </tr>\n",
              "    <tr>\n",
              "      <th>doc6</th>\n",
              "      <td>-0.571054</td>\n",
              "      <td>0.0</td>\n",
              "      <td>0.0</td>\n",
              "      <td>0.000000</td>\n",
              "      <td>0.0</td>\n",
              "      <td>0.000000</td>\n",
              "      <td>0.000000</td>\n",
              "      <td>0.000000</td>\n",
              "      <td>0.000000</td>\n",
              "      <td>0.000000</td>\n",
              "      <td>0.253491</td>\n",
              "      <td>0.468273</td>\n",
              "      <td>0.000000</td>\n",
              "      <td>0.000000</td>\n",
              "      <td>0.000000</td>\n",
              "      <td>0.000000</td>\n",
              "      <td>0.253491</td>\n",
              "      <td>0.000000</td>\n",
              "      <td>0.571054</td>\n",
              "      <td>0.0</td>\n",
              "      <td>0.0</td>\n",
              "    </tr>\n",
              "  </tbody>\n",
              "</table>\n",
              "</div>"
            ],
            "text/plain": [
              "            0    1    2         3    4   ...        16        17        18   19   20\n",
              "doc1  0.000000  0.0  0.0  0.000000  0.0  ...  0.196875  0.000000  0.000000  0.0  0.0\n",
              "doc2  0.000000  0.0  0.0  0.000000  0.0  ...  0.240337  0.000000  0.000000  0.0  0.0\n",
              "doc3  0.000000  0.0  0.0  0.000000  0.0  ...  0.268221  0.495485  0.000000  0.0  0.0\n",
              "doc4  0.000000  0.0  0.0  0.000000  0.0  ...  0.268221 -0.495485  0.000000  0.0  0.0\n",
              "doc5  0.000000  0.0  0.0 -0.571054  0.0  ...  0.253491  0.000000  0.000000  0.0  0.0\n",
              "doc6 -0.571054  0.0  0.0  0.000000  0.0  ...  0.253491  0.000000  0.571054  0.0  0.0\n",
              "\n",
              "[6 rows x 21 columns]"
            ]
          },
          "metadata": {},
          "execution_count": 195
        }
      ]
    },
    {
      "cell_type": "markdown",
      "metadata": {
        "id": "oW76wcc-zsrE"
      },
      "source": [
        "Sum values"
      ]
    },
    {
      "cell_type": "code",
      "metadata": {
        "colab": {
          "base_uri": "https://localhost:8080/"
        },
        "id": "MjaVFGgWzvgB",
        "outputId": "0ee09ad4-b785-4487-843f-1c25b58cc805"
      },
      "source": [
        "df1_sum = df1.sum(axis=1)\n",
        "df1_sum"
      ],
      "execution_count": 196,
      "outputs": [
        {
          "output_type": "execute_result",
          "data": {
            "text/plain": [
              "doc1    1.121124\n",
              "doc2    1.271173\n",
              "doc3    1.140682\n",
              "doc4    1.140682\n",
              "doc5    0.038709\n",
              "doc6    0.975254\n",
              "dtype: float64"
            ]
          },
          "metadata": {},
          "execution_count": 196
        }
      ]
    },
    {
      "cell_type": "markdown",
      "metadata": {
        "id": "_dXdmRZmwujW"
      },
      "source": [
        "Cosine similarity"
      ]
    },
    {
      "cell_type": "code",
      "metadata": {
        "colab": {
          "base_uri": "https://localhost:8080/"
        },
        "id": "fgRLb5AKwt-a",
        "outputId": "c35b5144-3229-498e-d8d6-bc7331658f1b"
      },
      "source": [
        "from sklearn.metrics.pairwise import cosine_similarity\n",
        "\n",
        "cosine_similarity(df1[0:1], df1)"
      ],
      "execution_count": 197,
      "outputs": [
        {
          "output_type": "execute_result",
          "data": {
            "text/plain": [
              "array([[1.        , 0.41756776, 0.10561219, 0.10561219, 0.09981198,\n",
              "        0.09981198]])"
            ]
          },
          "metadata": {},
          "execution_count": 197
        }
      ]
    },
    {
      "cell_type": "markdown",
      "metadata": {
        "id": "q8iQQadAxTWy"
      },
      "source": [
        "TfidfVectorizer"
      ]
    },
    {
      "cell_type": "code",
      "metadata": {
        "colab": {
          "base_uri": "https://localhost:8080/",
          "height": 257
        },
        "id": "pQh1FG5PxV2w",
        "outputId": "d84929ac-fc84-413a-dc0b-1f8049c504fa"
      },
      "source": [
        "from sklearn.feature_extraction.text import TfidfVectorizer\n",
        "\n",
        "vectorizer = TfidfVectorizer()\n",
        "trsfm=vectorizer.fit_transform(corpus)\n",
        "df2 = pd.DataFrame(trsfm.toarray(),columns=vectorizer.get_feature_names(),index=['doc1','doc2', 'doc3', 'doc4', 'doc5', 'doc6'])\n",
        "df2"
      ],
      "execution_count": 198,
      "outputs": [
        {
          "output_type": "execute_result",
          "data": {
            "text/html": [
              "<div>\n",
              "<style scoped>\n",
              "    .dataframe tbody tr th:only-of-type {\n",
              "        vertical-align: middle;\n",
              "    }\n",
              "\n",
              "    .dataframe tbody tr th {\n",
              "        vertical-align: top;\n",
              "    }\n",
              "\n",
              "    .dataframe thead th {\n",
              "        text-align: right;\n",
              "    }\n",
              "</style>\n",
              "<table border=\"1\" class=\"dataframe\">\n",
              "  <thead>\n",
              "    <tr style=\"text-align: right;\">\n",
              "      <th></th>\n",
              "      <th>about</th>\n",
              "      <th>competitions</th>\n",
              "      <th>data</th>\n",
              "      <th>entering</th>\n",
              "      <th>for</th>\n",
              "      <th>getting</th>\n",
              "      <th>kaggle</th>\n",
              "      <th>loves</th>\n",
              "      <th>making</th>\n",
              "      <th>medium</th>\n",
              "      <th>new</th>\n",
              "      <th>programming</th>\n",
              "      <th>publications</th>\n",
              "      <th>python</th>\n",
              "      <th>science</th>\n",
              "      <th>studying</th>\n",
              "      <th>subscribers</th>\n",
              "      <th>tracy</th>\n",
              "      <th>videos</th>\n",
              "      <th>writing</th>\n",
              "      <th>youtube</th>\n",
              "    </tr>\n",
              "  </thead>\n",
              "  <tbody>\n",
              "    <tr>\n",
              "      <th>doc1</th>\n",
              "      <td>0.495894</td>\n",
              "      <td>0.000000</td>\n",
              "      <td>0.495894</td>\n",
              "      <td>0.000000</td>\n",
              "      <td>0.000000</td>\n",
              "      <td>0.000000</td>\n",
              "      <td>0.000000</td>\n",
              "      <td>0.220127</td>\n",
              "      <td>0.000000</td>\n",
              "      <td>0.000000</td>\n",
              "      <td>0.000000</td>\n",
              "      <td>0.000000</td>\n",
              "      <td>0.000000</td>\n",
              "      <td>0.000000</td>\n",
              "      <td>0.495894</td>\n",
              "      <td>0.000000</td>\n",
              "      <td>0.000000</td>\n",
              "      <td>0.220127</td>\n",
              "      <td>0.000000</td>\n",
              "      <td>0.40664</td>\n",
              "      <td>0.000000</td>\n",
              "    </tr>\n",
              "    <tr>\n",
              "      <th>doc2</th>\n",
              "      <td>0.000000</td>\n",
              "      <td>0.000000</td>\n",
              "      <td>0.000000</td>\n",
              "      <td>0.000000</td>\n",
              "      <td>0.495894</td>\n",
              "      <td>0.000000</td>\n",
              "      <td>0.000000</td>\n",
              "      <td>0.220127</td>\n",
              "      <td>0.000000</td>\n",
              "      <td>0.495894</td>\n",
              "      <td>0.000000</td>\n",
              "      <td>0.000000</td>\n",
              "      <td>0.495894</td>\n",
              "      <td>0.000000</td>\n",
              "      <td>0.000000</td>\n",
              "      <td>0.000000</td>\n",
              "      <td>0.000000</td>\n",
              "      <td>0.220127</td>\n",
              "      <td>0.000000</td>\n",
              "      <td>0.40664</td>\n",
              "      <td>0.000000</td>\n",
              "    </tr>\n",
              "    <tr>\n",
              "      <th>doc3</th>\n",
              "      <td>0.000000</td>\n",
              "      <td>0.000000</td>\n",
              "      <td>0.000000</td>\n",
              "      <td>0.000000</td>\n",
              "      <td>0.000000</td>\n",
              "      <td>0.000000</td>\n",
              "      <td>0.000000</td>\n",
              "      <td>0.240948</td>\n",
              "      <td>0.000000</td>\n",
              "      <td>0.000000</td>\n",
              "      <td>0.000000</td>\n",
              "      <td>0.542798</td>\n",
              "      <td>0.000000</td>\n",
              "      <td>0.542798</td>\n",
              "      <td>0.000000</td>\n",
              "      <td>0.542798</td>\n",
              "      <td>0.000000</td>\n",
              "      <td>0.240948</td>\n",
              "      <td>0.000000</td>\n",
              "      <td>0.00000</td>\n",
              "      <td>0.000000</td>\n",
              "    </tr>\n",
              "    <tr>\n",
              "      <th>doc4</th>\n",
              "      <td>0.000000</td>\n",
              "      <td>0.542798</td>\n",
              "      <td>0.000000</td>\n",
              "      <td>0.542798</td>\n",
              "      <td>0.000000</td>\n",
              "      <td>0.000000</td>\n",
              "      <td>0.542798</td>\n",
              "      <td>0.240948</td>\n",
              "      <td>0.000000</td>\n",
              "      <td>0.000000</td>\n",
              "      <td>0.000000</td>\n",
              "      <td>0.000000</td>\n",
              "      <td>0.000000</td>\n",
              "      <td>0.000000</td>\n",
              "      <td>0.000000</td>\n",
              "      <td>0.000000</td>\n",
              "      <td>0.000000</td>\n",
              "      <td>0.240948</td>\n",
              "      <td>0.000000</td>\n",
              "      <td>0.00000</td>\n",
              "      <td>0.000000</td>\n",
              "    </tr>\n",
              "    <tr>\n",
              "      <th>doc5</th>\n",
              "      <td>0.000000</td>\n",
              "      <td>0.000000</td>\n",
              "      <td>0.000000</td>\n",
              "      <td>0.000000</td>\n",
              "      <td>0.000000</td>\n",
              "      <td>0.000000</td>\n",
              "      <td>0.000000</td>\n",
              "      <td>0.240948</td>\n",
              "      <td>0.542798</td>\n",
              "      <td>0.000000</td>\n",
              "      <td>0.000000</td>\n",
              "      <td>0.000000</td>\n",
              "      <td>0.000000</td>\n",
              "      <td>0.000000</td>\n",
              "      <td>0.000000</td>\n",
              "      <td>0.000000</td>\n",
              "      <td>0.000000</td>\n",
              "      <td>0.240948</td>\n",
              "      <td>0.542798</td>\n",
              "      <td>0.00000</td>\n",
              "      <td>0.542798</td>\n",
              "    </tr>\n",
              "    <tr>\n",
              "      <th>doc6</th>\n",
              "      <td>0.000000</td>\n",
              "      <td>0.000000</td>\n",
              "      <td>0.000000</td>\n",
              "      <td>0.000000</td>\n",
              "      <td>0.000000</td>\n",
              "      <td>0.542798</td>\n",
              "      <td>0.000000</td>\n",
              "      <td>0.240948</td>\n",
              "      <td>0.000000</td>\n",
              "      <td>0.000000</td>\n",
              "      <td>0.542798</td>\n",
              "      <td>0.000000</td>\n",
              "      <td>0.000000</td>\n",
              "      <td>0.000000</td>\n",
              "      <td>0.000000</td>\n",
              "      <td>0.000000</td>\n",
              "      <td>0.542798</td>\n",
              "      <td>0.240948</td>\n",
              "      <td>0.000000</td>\n",
              "      <td>0.00000</td>\n",
              "      <td>0.000000</td>\n",
              "    </tr>\n",
              "  </tbody>\n",
              "</table>\n",
              "</div>"
            ],
            "text/plain": [
              "         about  competitions      data  ...    videos  writing   youtube\n",
              "doc1  0.495894      0.000000  0.495894  ...  0.000000  0.40664  0.000000\n",
              "doc2  0.000000      0.000000  0.000000  ...  0.000000  0.40664  0.000000\n",
              "doc3  0.000000      0.000000  0.000000  ...  0.000000  0.00000  0.000000\n",
              "doc4  0.000000      0.542798  0.000000  ...  0.000000  0.00000  0.000000\n",
              "doc5  0.000000      0.000000  0.000000  ...  0.542798  0.00000  0.542798\n",
              "doc6  0.000000      0.000000  0.000000  ...  0.000000  0.00000  0.000000\n",
              "\n",
              "[6 rows x 21 columns]"
            ]
          },
          "metadata": {},
          "execution_count": 198
        }
      ]
    },
    {
      "cell_type": "code",
      "metadata": {
        "colab": {
          "base_uri": "https://localhost:8080/"
        },
        "id": "Tc7GW38KyPvI",
        "outputId": "15379eb9-76a5-403e-df69-484deb30710b"
      },
      "source": [
        "df2.shape"
      ],
      "execution_count": 199,
      "outputs": [
        {
          "output_type": "execute_result",
          "data": {
            "text/plain": [
              "(6, 21)"
            ]
          },
          "metadata": {},
          "execution_count": 199
        }
      ]
    },
    {
      "cell_type": "markdown",
      "metadata": {
        "id": "RKa29VLPz6g8"
      },
      "source": [
        "Sum values"
      ]
    },
    {
      "cell_type": "code",
      "metadata": {
        "colab": {
          "base_uri": "https://localhost:8080/"
        },
        "id": "vyroGRVnz_Du",
        "outputId": "578562b8-9e4c-4e4c-f4aa-b13f7ad7773f"
      },
      "source": [
        "df2_sum = df2.sum(axis=1)\n",
        "df2_sum"
      ],
      "execution_count": 200,
      "outputs": [
        {
          "output_type": "execute_result",
          "data": {
            "text/plain": [
              "doc1    2.334575\n",
              "doc2    2.334575\n",
              "doc3    2.110289\n",
              "doc4    2.110289\n",
              "doc5    2.110289\n",
              "doc6    2.110289\n",
              "dtype: float64"
            ]
          },
          "metadata": {},
          "execution_count": 200
        }
      ]
    },
    {
      "cell_type": "markdown",
      "metadata": {
        "id": "Fix_xEO8yAWW"
      },
      "source": [
        "Cosine similarity"
      ]
    },
    {
      "cell_type": "code",
      "metadata": {
        "colab": {
          "base_uri": "https://localhost:8080/"
        },
        "id": "0mIOqh4VyDrG",
        "outputId": "4a757e5f-4bd4-4bc6-ef6f-ae1c24ed9bfd"
      },
      "source": [
        "from sklearn.metrics.pairwise import cosine_similarity\n",
        "\n",
        "cosine_similarity(df2[0:1], df2)"
      ],
      "execution_count": 201,
      "outputs": [
        {
          "output_type": "execute_result",
          "data": {
            "text/plain": [
              "array([[1.        , 0.26226788, 0.10607812, 0.10607812, 0.10607812,\n",
              "        0.10607812]])"
            ]
          },
          "metadata": {},
          "execution_count": 201
        }
      ]
    },
    {
      "cell_type": "markdown",
      "metadata": {
        "id": "lyKVwOzGdI2O"
      },
      "source": [
        "Feature Hasher"
      ]
    },
    {
      "cell_type": "code",
      "metadata": {
        "colab": {
          "base_uri": "https://localhost:8080/"
        },
        "id": "iSk-d87RdK7x",
        "outputId": "0b5f2fa5-8172-4ad4-a631-83002bc492d3"
      },
      "source": [
        "from sklearn.feature_extraction import FeatureHasher\n",
        "\n",
        "hasher = FeatureHasher(n_features=21, alternate_sign=False, input_type='string')\n",
        "\n",
        "vectors = hasher.transform(corpus)\n",
        "vectors"
      ],
      "execution_count": 202,
      "outputs": [
        {
          "output_type": "execute_result",
          "data": {
            "text/plain": [
              "<6x21 sparse matrix of type '<class 'numpy.float64'>'\n",
              "\twith 77 stored elements in Compressed Sparse Row format>"
            ]
          },
          "metadata": {},
          "execution_count": 202
        }
      ]
    },
    {
      "cell_type": "code",
      "metadata": {
        "colab": {
          "base_uri": "https://localhost:8080/"
        },
        "id": "474qX9hndvQN",
        "outputId": "2f6f9055-0dd2-4ce1-d721-8ad40d829900"
      },
      "source": [
        "vectors.shape"
      ],
      "execution_count": 203,
      "outputs": [
        {
          "output_type": "execute_result",
          "data": {
            "text/plain": [
              "(6, 21)"
            ]
          },
          "metadata": {},
          "execution_count": 203
        }
      ]
    },
    {
      "cell_type": "markdown",
      "metadata": {
        "id": "hJNn5sJzeIBi"
      },
      "source": [
        "TdidfTransformer"
      ]
    },
    {
      "cell_type": "code",
      "metadata": {
        "colab": {
          "base_uri": "https://localhost:8080/"
        },
        "id": "aoSPxvNpeKj6",
        "outputId": "7261e7e5-f334-495a-8d68-e41688c79bff"
      },
      "source": [
        "from sklearn.feature_extraction.text import TfidfTransformer \n",
        "\n",
        "tf_transformer = TfidfTransformer().fit(vectors)\n",
        "word_count_vec_tf = tf_transformer.transform(vectors)\n",
        "word_count_vec_tf.shape"
      ],
      "execution_count": 204,
      "outputs": [
        {
          "output_type": "execute_result",
          "data": {
            "text/plain": [
              "(6, 21)"
            ]
          },
          "metadata": {},
          "execution_count": 204
        }
      ]
    },
    {
      "cell_type": "code",
      "metadata": {
        "colab": {
          "base_uri": "https://localhost:8080/",
          "height": 257
        },
        "id": "8QPWkSIOeR2g",
        "outputId": "edd99972-8576-4fa5-e730-02c9e14033ec"
      },
      "source": [
        "df3 = pd.DataFrame(word_count_vec_tf.toarray(),index=['doc1','doc2', 'doc3', 'doc4', 'doc5', 'doc6'])\n",
        "df3"
      ],
      "execution_count": 205,
      "outputs": [
        {
          "output_type": "execute_result",
          "data": {
            "text/html": [
              "<div>\n",
              "<style scoped>\n",
              "    .dataframe tbody tr th:only-of-type {\n",
              "        vertical-align: middle;\n",
              "    }\n",
              "\n",
              "    .dataframe tbody tr th {\n",
              "        vertical-align: top;\n",
              "    }\n",
              "\n",
              "    .dataframe thead th {\n",
              "        text-align: right;\n",
              "    }\n",
              "</style>\n",
              "<table border=\"1\" class=\"dataframe\">\n",
              "  <thead>\n",
              "    <tr style=\"text-align: right;\">\n",
              "      <th></th>\n",
              "      <th>0</th>\n",
              "      <th>1</th>\n",
              "      <th>2</th>\n",
              "      <th>3</th>\n",
              "      <th>4</th>\n",
              "      <th>5</th>\n",
              "      <th>6</th>\n",
              "      <th>7</th>\n",
              "      <th>8</th>\n",
              "      <th>9</th>\n",
              "      <th>10</th>\n",
              "      <th>11</th>\n",
              "      <th>12</th>\n",
              "      <th>13</th>\n",
              "      <th>14</th>\n",
              "      <th>15</th>\n",
              "      <th>16</th>\n",
              "      <th>17</th>\n",
              "      <th>18</th>\n",
              "      <th>19</th>\n",
              "      <th>20</th>\n",
              "    </tr>\n",
              "  </thead>\n",
              "  <tbody>\n",
              "    <tr>\n",
              "      <th>doc1</th>\n",
              "      <td>0.0</td>\n",
              "      <td>0.000000</td>\n",
              "      <td>0.310267</td>\n",
              "      <td>0.0</td>\n",
              "      <td>0.232700</td>\n",
              "      <td>0.0</td>\n",
              "      <td>0.0</td>\n",
              "      <td>0.077567</td>\n",
              "      <td>0.0000</td>\n",
              "      <td>0.0</td>\n",
              "      <td>0.077567</td>\n",
              "      <td>0.387833</td>\n",
              "      <td>0.268571</td>\n",
              "      <td>0.120974</td>\n",
              "      <td>0.465400</td>\n",
              "      <td>0.310267</td>\n",
              "      <td>0.465400</td>\n",
              "      <td>0.103666</td>\n",
              "      <td>0.232700</td>\n",
              "      <td>0.0</td>\n",
              "      <td>0.077567</td>\n",
              "    </tr>\n",
              "    <tr>\n",
              "      <th>doc2</th>\n",
              "      <td>0.0</td>\n",
              "      <td>0.190754</td>\n",
              "      <td>0.214094</td>\n",
              "      <td>0.0</td>\n",
              "      <td>0.285458</td>\n",
              "      <td>0.0</td>\n",
              "      <td>0.0</td>\n",
              "      <td>0.071365</td>\n",
              "      <td>0.0000</td>\n",
              "      <td>0.0</td>\n",
              "      <td>0.071365</td>\n",
              "      <td>0.285458</td>\n",
              "      <td>0.247096</td>\n",
              "      <td>0.111301</td>\n",
              "      <td>0.428187</td>\n",
              "      <td>0.285458</td>\n",
              "      <td>0.499552</td>\n",
              "      <td>0.095377</td>\n",
              "      <td>0.356823</td>\n",
              "      <td>0.0</td>\n",
              "      <td>0.142729</td>\n",
              "    </tr>\n",
              "    <tr>\n",
              "      <th>doc3</th>\n",
              "      <td>0.0</td>\n",
              "      <td>0.208590</td>\n",
              "      <td>0.390187</td>\n",
              "      <td>0.0</td>\n",
              "      <td>0.312149</td>\n",
              "      <td>0.0</td>\n",
              "      <td>0.0</td>\n",
              "      <td>0.078037</td>\n",
              "      <td>0.1758</td>\n",
              "      <td>0.0</td>\n",
              "      <td>0.234112</td>\n",
              "      <td>0.234112</td>\n",
              "      <td>0.270201</td>\n",
              "      <td>0.000000</td>\n",
              "      <td>0.390187</td>\n",
              "      <td>0.390187</td>\n",
              "      <td>0.390187</td>\n",
              "      <td>0.000000</td>\n",
              "      <td>0.156075</td>\n",
              "      <td>0.0</td>\n",
              "      <td>0.078037</td>\n",
              "    </tr>\n",
              "    <tr>\n",
              "      <th>doc4</th>\n",
              "      <td>0.0</td>\n",
              "      <td>0.096679</td>\n",
              "      <td>0.361693</td>\n",
              "      <td>0.0</td>\n",
              "      <td>0.289355</td>\n",
              "      <td>0.0</td>\n",
              "      <td>0.0</td>\n",
              "      <td>0.072339</td>\n",
              "      <td>0.0000</td>\n",
              "      <td>0.0</td>\n",
              "      <td>0.072339</td>\n",
              "      <td>0.289355</td>\n",
              "      <td>0.333959</td>\n",
              "      <td>0.000000</td>\n",
              "      <td>0.361693</td>\n",
              "      <td>0.361693</td>\n",
              "      <td>0.506371</td>\n",
              "      <td>0.000000</td>\n",
              "      <td>0.217016</td>\n",
              "      <td>0.0</td>\n",
              "      <td>0.072339</td>\n",
              "    </tr>\n",
              "    <tr>\n",
              "      <th>doc5</th>\n",
              "      <td>0.0</td>\n",
              "      <td>0.118326</td>\n",
              "      <td>0.177073</td>\n",
              "      <td>0.0</td>\n",
              "      <td>0.354146</td>\n",
              "      <td>0.0</td>\n",
              "      <td>0.0</td>\n",
              "      <td>0.177073</td>\n",
              "      <td>0.0000</td>\n",
              "      <td>0.0</td>\n",
              "      <td>0.088536</td>\n",
              "      <td>0.265609</td>\n",
              "      <td>0.000000</td>\n",
              "      <td>0.000000</td>\n",
              "      <td>0.442682</td>\n",
              "      <td>0.354146</td>\n",
              "      <td>0.531218</td>\n",
              "      <td>0.118326</td>\n",
              "      <td>0.177073</td>\n",
              "      <td>0.0</td>\n",
              "      <td>0.265609</td>\n",
              "    </tr>\n",
              "    <tr>\n",
              "      <th>doc6</th>\n",
              "      <td>0.0</td>\n",
              "      <td>0.000000</td>\n",
              "      <td>0.308694</td>\n",
              "      <td>0.0</td>\n",
              "      <td>0.077173</td>\n",
              "      <td>0.0</td>\n",
              "      <td>0.0</td>\n",
              "      <td>0.077173</td>\n",
              "      <td>0.0000</td>\n",
              "      <td>0.0</td>\n",
              "      <td>0.077173</td>\n",
              "      <td>0.154347</td>\n",
              "      <td>0.178140</td>\n",
              "      <td>0.120361</td>\n",
              "      <td>0.385867</td>\n",
              "      <td>0.463041</td>\n",
              "      <td>0.617387</td>\n",
              "      <td>0.206280</td>\n",
              "      <td>0.154347</td>\n",
              "      <td>0.0</td>\n",
              "      <td>0.077173</td>\n",
              "    </tr>\n",
              "  </tbody>\n",
              "</table>\n",
              "</div>"
            ],
            "text/plain": [
              "       0         1         2    3   ...        17        18   19        20\n",
              "doc1  0.0  0.000000  0.310267  0.0  ...  0.103666  0.232700  0.0  0.077567\n",
              "doc2  0.0  0.190754  0.214094  0.0  ...  0.095377  0.356823  0.0  0.142729\n",
              "doc3  0.0  0.208590  0.390187  0.0  ...  0.000000  0.156075  0.0  0.078037\n",
              "doc4  0.0  0.096679  0.361693  0.0  ...  0.000000  0.217016  0.0  0.072339\n",
              "doc5  0.0  0.118326  0.177073  0.0  ...  0.118326  0.177073  0.0  0.265609\n",
              "doc6  0.0  0.000000  0.308694  0.0  ...  0.206280  0.154347  0.0  0.077173\n",
              "\n",
              "[6 rows x 21 columns]"
            ]
          },
          "metadata": {},
          "execution_count": 205
        }
      ]
    },
    {
      "cell_type": "markdown",
      "metadata": {
        "id": "ujALx1AwfXxz"
      },
      "source": [
        "Sum Values"
      ]
    },
    {
      "cell_type": "code",
      "metadata": {
        "colab": {
          "base_uri": "https://localhost:8080/"
        },
        "id": "pcUpxGiSfZeR",
        "outputId": "c8db129f-23e6-4344-a6a0-d001db8a7d28"
      },
      "source": [
        "df3_sum = df3.sum(axis=1)\n",
        "df3_sum"
      ],
      "execution_count": 206,
      "outputs": [
        {
          "output_type": "execute_result",
          "data": {
            "text/plain": [
              "doc1    3.130478\n",
              "doc2    3.285017\n",
              "doc3    3.307861\n",
              "doc4    3.034830\n",
              "doc5    3.069817\n",
              "doc6    2.897157\n",
              "dtype: float64"
            ]
          },
          "metadata": {},
          "execution_count": 206
        }
      ]
    },
    {
      "cell_type": "markdown",
      "metadata": {
        "id": "rD6PKDx7fk5e"
      },
      "source": [
        "Cosine similarity"
      ]
    },
    {
      "cell_type": "code",
      "metadata": {
        "colab": {
          "base_uri": "https://localhost:8080/"
        },
        "id": "sM2K1NuefnVr",
        "outputId": "242cb857-aa66-4947-a627-896ba03c2e75"
      },
      "source": [
        "from sklearn.metrics.pairwise import cosine_similarity\n",
        "\n",
        "cosine_similarity(df3[0:1], df3)"
      ],
      "execution_count": 207,
      "outputs": [
        {
          "output_type": "execute_result",
          "data": {
            "text/plain": [
              "array([[1.        , 0.9587901 , 0.90789578, 0.96501872, 0.89817039,\n",
              "        0.92183995]])"
            ]
          },
          "metadata": {},
          "execution_count": 207
        }
      ]
    }
  ]
}