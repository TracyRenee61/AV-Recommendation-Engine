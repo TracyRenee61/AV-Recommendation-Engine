{
  "nbformat": 4,
  "nbformat_minor": 0,
  "metadata": {
    "colab": {
      "name": "Things to Do Recommendation System - Geeks.ipynb",
      "provenance": []
    },
    "kernelspec": {
      "name": "python3",
      "display_name": "Python 3"
    },
    "language_info": {
      "name": "python"
    }
  },
  "cells": [
    {
      "cell_type": "markdown",
      "metadata": {
        "id": "YVe3OrtNiUeI"
      },
      "source": [
        "See:- https://www.geeksforgeeks.org/python-implementation-of-movie-recommender-system/"
      ]
    },
    {
      "cell_type": "code",
      "metadata": {
        "colab": {
          "base_uri": "https://localhost:8080/",
          "height": 423
        },
        "id": "vDIT84inikKK",
        "outputId": "ba778893-c70c-449b-aa2f-79ef1db3a05e"
      },
      "source": [
        "# import pandas library\n",
        "import pandas as pd\n",
        " \n",
        "# Get the data\n",
        " \n",
        "path = 'https://raw.githubusercontent.com/TracyRenee61/AV-Recommendation-Engine/master/Things_to_do_weekend%20-%20Sheet1.csv'\n",
        " \n",
        "df = pd.read_csv(path)\n",
        " \n",
        "# Check the head of the data\n",
        "df"
      ],
      "execution_count": 87,
      "outputs": [
        {
          "output_type": "execute_result",
          "data": {
            "text/html": [
              "<div>\n",
              "<style scoped>\n",
              "    .dataframe tbody tr th:only-of-type {\n",
              "        vertical-align: middle;\n",
              "    }\n",
              "\n",
              "    .dataframe tbody tr th {\n",
              "        vertical-align: top;\n",
              "    }\n",
              "\n",
              "    .dataframe thead th {\n",
              "        text-align: right;\n",
              "    }\n",
              "</style>\n",
              "<table border=\"1\" class=\"dataframe\">\n",
              "  <thead>\n",
              "    <tr style=\"text-align: right;\">\n",
              "      <th></th>\n",
              "      <th>user_id</th>\n",
              "      <th>activity_id</th>\n",
              "      <th>thing_to_do</th>\n",
              "      <th>genre</th>\n",
              "      <th>rating</th>\n",
              "    </tr>\n",
              "  </thead>\n",
              "  <tbody>\n",
              "    <tr>\n",
              "      <th>0</th>\n",
              "      <td>1</td>\n",
              "      <td>1</td>\n",
              "      <td>make beds</td>\n",
              "      <td>housework</td>\n",
              "      <td>3</td>\n",
              "    </tr>\n",
              "    <tr>\n",
              "      <th>1</th>\n",
              "      <td>1</td>\n",
              "      <td>2</td>\n",
              "      <td>mop floors</td>\n",
              "      <td>housework</td>\n",
              "      <td>3</td>\n",
              "    </tr>\n",
              "    <tr>\n",
              "      <th>2</th>\n",
              "      <td>1</td>\n",
              "      <td>3</td>\n",
              "      <td>vacuum</td>\n",
              "      <td>housework</td>\n",
              "      <td>4</td>\n",
              "    </tr>\n",
              "    <tr>\n",
              "      <th>3</th>\n",
              "      <td>1</td>\n",
              "      <td>4</td>\n",
              "      <td>clean toilet</td>\n",
              "      <td>housework</td>\n",
              "      <td>1</td>\n",
              "    </tr>\n",
              "    <tr>\n",
              "      <th>4</th>\n",
              "      <td>1</td>\n",
              "      <td>5</td>\n",
              "      <td>dust furniture</td>\n",
              "      <td>housework</td>\n",
              "      <td>4</td>\n",
              "    </tr>\n",
              "    <tr>\n",
              "      <th>...</th>\n",
              "      <td>...</td>\n",
              "      <td>...</td>\n",
              "      <td>...</td>\n",
              "      <td>...</td>\n",
              "      <td>...</td>\n",
              "    </tr>\n",
              "    <tr>\n",
              "      <th>298</th>\n",
              "      <td>3</td>\n",
              "      <td>97</td>\n",
              "      <td>read a book</td>\n",
              "      <td>outing</td>\n",
              "      <td>7</td>\n",
              "    </tr>\n",
              "    <tr>\n",
              "      <th>299</th>\n",
              "      <td>3</td>\n",
              "      <td>98</td>\n",
              "      <td>write a book</td>\n",
              "      <td>work</td>\n",
              "      <td>3</td>\n",
              "    </tr>\n",
              "    <tr>\n",
              "      <th>300</th>\n",
              "      <td>3</td>\n",
              "      <td>99</td>\n",
              "      <td>write a blog post</td>\n",
              "      <td>work</td>\n",
              "      <td>3</td>\n",
              "    </tr>\n",
              "    <tr>\n",
              "      <th>301</th>\n",
              "      <td>3</td>\n",
              "      <td>100</td>\n",
              "      <td>work a part time job</td>\n",
              "      <td>work</td>\n",
              "      <td>3</td>\n",
              "    </tr>\n",
              "    <tr>\n",
              "      <th>302</th>\n",
              "      <td>3</td>\n",
              "      <td>101</td>\n",
              "      <td>sleep</td>\n",
              "      <td>self care</td>\n",
              "      <td>9</td>\n",
              "    </tr>\n",
              "  </tbody>\n",
              "</table>\n",
              "<p>303 rows × 5 columns</p>\n",
              "</div>"
            ],
            "text/plain": [
              "     user_id  activity_id           thing_to_do      genre  rating\n",
              "0          1            1             make beds  housework       3\n",
              "1          1            2            mop floors  housework       3\n",
              "2          1            3                vacuum  housework       4\n",
              "3          1            4          clean toilet  housework       1\n",
              "4          1            5        dust furniture  housework       4\n",
              "..       ...          ...                   ...        ...     ...\n",
              "298        3           97           read a book     outing       7\n",
              "299        3           98          write a book       work       3\n",
              "300        3           99     write a blog post       work       3\n",
              "301        3          100  work a part time job       work       3\n",
              "302        3          101                sleep   self care       9\n",
              "\n",
              "[303 rows x 5 columns]"
            ]
          },
          "metadata": {
            "tags": []
          },
          "execution_count": 87
        }
      ]
    },
    {
      "cell_type": "code",
      "metadata": {
        "id": "PfcB2K_qlZ4P"
      },
      "source": [
        "#remove white space\n",
        "df.columns = df.columns.str.replace(' ', '')"
      ],
      "execution_count": 88,
      "outputs": []
    },
    {
      "cell_type": "code",
      "metadata": {
        "colab": {
          "base_uri": "https://localhost:8080/",
          "height": 423
        },
        "id": "ktqm-u9GlmFk",
        "outputId": "a35dc5ce-42dc-41da-eb7f-1fc6859addc9"
      },
      "source": [
        "#add column count ratings\n",
        "\n",
        "df['rate_count'] = df['user_id'].groupby(df['activity_id']).transform('count')\n",
        "df['rate_count'] = df['rate_count'].astype(float)\n",
        "df"
      ],
      "execution_count": 89,
      "outputs": [
        {
          "output_type": "execute_result",
          "data": {
            "text/html": [
              "<div>\n",
              "<style scoped>\n",
              "    .dataframe tbody tr th:only-of-type {\n",
              "        vertical-align: middle;\n",
              "    }\n",
              "\n",
              "    .dataframe tbody tr th {\n",
              "        vertical-align: top;\n",
              "    }\n",
              "\n",
              "    .dataframe thead th {\n",
              "        text-align: right;\n",
              "    }\n",
              "</style>\n",
              "<table border=\"1\" class=\"dataframe\">\n",
              "  <thead>\n",
              "    <tr style=\"text-align: right;\">\n",
              "      <th></th>\n",
              "      <th>user_id</th>\n",
              "      <th>activity_id</th>\n",
              "      <th>thing_to_do</th>\n",
              "      <th>genre</th>\n",
              "      <th>rating</th>\n",
              "      <th>rate_count</th>\n",
              "    </tr>\n",
              "  </thead>\n",
              "  <tbody>\n",
              "    <tr>\n",
              "      <th>0</th>\n",
              "      <td>1</td>\n",
              "      <td>1</td>\n",
              "      <td>make beds</td>\n",
              "      <td>housework</td>\n",
              "      <td>3</td>\n",
              "      <td>3.0</td>\n",
              "    </tr>\n",
              "    <tr>\n",
              "      <th>1</th>\n",
              "      <td>1</td>\n",
              "      <td>2</td>\n",
              "      <td>mop floors</td>\n",
              "      <td>housework</td>\n",
              "      <td>3</td>\n",
              "      <td>3.0</td>\n",
              "    </tr>\n",
              "    <tr>\n",
              "      <th>2</th>\n",
              "      <td>1</td>\n",
              "      <td>3</td>\n",
              "      <td>vacuum</td>\n",
              "      <td>housework</td>\n",
              "      <td>4</td>\n",
              "      <td>3.0</td>\n",
              "    </tr>\n",
              "    <tr>\n",
              "      <th>3</th>\n",
              "      <td>1</td>\n",
              "      <td>4</td>\n",
              "      <td>clean toilet</td>\n",
              "      <td>housework</td>\n",
              "      <td>1</td>\n",
              "      <td>3.0</td>\n",
              "    </tr>\n",
              "    <tr>\n",
              "      <th>4</th>\n",
              "      <td>1</td>\n",
              "      <td>5</td>\n",
              "      <td>dust furniture</td>\n",
              "      <td>housework</td>\n",
              "      <td>4</td>\n",
              "      <td>3.0</td>\n",
              "    </tr>\n",
              "    <tr>\n",
              "      <th>...</th>\n",
              "      <td>...</td>\n",
              "      <td>...</td>\n",
              "      <td>...</td>\n",
              "      <td>...</td>\n",
              "      <td>...</td>\n",
              "      <td>...</td>\n",
              "    </tr>\n",
              "    <tr>\n",
              "      <th>298</th>\n",
              "      <td>3</td>\n",
              "      <td>97</td>\n",
              "      <td>read a book</td>\n",
              "      <td>outing</td>\n",
              "      <td>7</td>\n",
              "      <td>3.0</td>\n",
              "    </tr>\n",
              "    <tr>\n",
              "      <th>299</th>\n",
              "      <td>3</td>\n",
              "      <td>98</td>\n",
              "      <td>write a book</td>\n",
              "      <td>work</td>\n",
              "      <td>3</td>\n",
              "      <td>3.0</td>\n",
              "    </tr>\n",
              "    <tr>\n",
              "      <th>300</th>\n",
              "      <td>3</td>\n",
              "      <td>99</td>\n",
              "      <td>write a blog post</td>\n",
              "      <td>work</td>\n",
              "      <td>3</td>\n",
              "      <td>3.0</td>\n",
              "    </tr>\n",
              "    <tr>\n",
              "      <th>301</th>\n",
              "      <td>3</td>\n",
              "      <td>100</td>\n",
              "      <td>work a part time job</td>\n",
              "      <td>work</td>\n",
              "      <td>3</td>\n",
              "      <td>3.0</td>\n",
              "    </tr>\n",
              "    <tr>\n",
              "      <th>302</th>\n",
              "      <td>3</td>\n",
              "      <td>101</td>\n",
              "      <td>sleep</td>\n",
              "      <td>self care</td>\n",
              "      <td>9</td>\n",
              "      <td>3.0</td>\n",
              "    </tr>\n",
              "  </tbody>\n",
              "</table>\n",
              "<p>303 rows × 6 columns</p>\n",
              "</div>"
            ],
            "text/plain": [
              "     user_id  activity_id           thing_to_do      genre  rating  rate_count\n",
              "0          1            1             make beds  housework       3         3.0\n",
              "1          1            2            mop floors  housework       3         3.0\n",
              "2          1            3                vacuum  housework       4         3.0\n",
              "3          1            4          clean toilet  housework       1         3.0\n",
              "4          1            5        dust furniture  housework       4         3.0\n",
              "..       ...          ...                   ...        ...     ...         ...\n",
              "298        3           97           read a book     outing       7         3.0\n",
              "299        3           98          write a book       work       3         3.0\n",
              "300        3           99     write a blog post       work       3         3.0\n",
              "301        3          100  work a part time job       work       3         3.0\n",
              "302        3          101                sleep   self care       9         3.0\n",
              "\n",
              "[303 rows x 6 columns]"
            ]
          },
          "metadata": {
            "tags": []
          },
          "execution_count": 89
        }
      ]
    },
    {
      "cell_type": "code",
      "metadata": {
        "colab": {
          "base_uri": "https://localhost:8080/",
          "height": 423
        },
        "id": "F2RyBnAOl2Yt",
        "outputId": "9d6218d3-887d-4ea6-d28c-f48c59a57420"
      },
      "source": [
        "#average ratings\n",
        "\n",
        "df['average_rating'] = df['rating'].groupby(df['thing_to_do']).transform('sum')/df['rate_count']\n",
        "df"
      ],
      "execution_count": 90,
      "outputs": [
        {
          "output_type": "execute_result",
          "data": {
            "text/html": [
              "<div>\n",
              "<style scoped>\n",
              "    .dataframe tbody tr th:only-of-type {\n",
              "        vertical-align: middle;\n",
              "    }\n",
              "\n",
              "    .dataframe tbody tr th {\n",
              "        vertical-align: top;\n",
              "    }\n",
              "\n",
              "    .dataframe thead th {\n",
              "        text-align: right;\n",
              "    }\n",
              "</style>\n",
              "<table border=\"1\" class=\"dataframe\">\n",
              "  <thead>\n",
              "    <tr style=\"text-align: right;\">\n",
              "      <th></th>\n",
              "      <th>user_id</th>\n",
              "      <th>activity_id</th>\n",
              "      <th>thing_to_do</th>\n",
              "      <th>genre</th>\n",
              "      <th>rating</th>\n",
              "      <th>rate_count</th>\n",
              "      <th>average_rating</th>\n",
              "    </tr>\n",
              "  </thead>\n",
              "  <tbody>\n",
              "    <tr>\n",
              "      <th>0</th>\n",
              "      <td>1</td>\n",
              "      <td>1</td>\n",
              "      <td>make beds</td>\n",
              "      <td>housework</td>\n",
              "      <td>3</td>\n",
              "      <td>3.0</td>\n",
              "      <td>3.333333</td>\n",
              "    </tr>\n",
              "    <tr>\n",
              "      <th>1</th>\n",
              "      <td>1</td>\n",
              "      <td>2</td>\n",
              "      <td>mop floors</td>\n",
              "      <td>housework</td>\n",
              "      <td>3</td>\n",
              "      <td>3.0</td>\n",
              "      <td>2.666667</td>\n",
              "    </tr>\n",
              "    <tr>\n",
              "      <th>2</th>\n",
              "      <td>1</td>\n",
              "      <td>3</td>\n",
              "      <td>vacuum</td>\n",
              "      <td>housework</td>\n",
              "      <td>4</td>\n",
              "      <td>3.0</td>\n",
              "      <td>3.333333</td>\n",
              "    </tr>\n",
              "    <tr>\n",
              "      <th>3</th>\n",
              "      <td>1</td>\n",
              "      <td>4</td>\n",
              "      <td>clean toilet</td>\n",
              "      <td>housework</td>\n",
              "      <td>1</td>\n",
              "      <td>3.0</td>\n",
              "      <td>1.666667</td>\n",
              "    </tr>\n",
              "    <tr>\n",
              "      <th>4</th>\n",
              "      <td>1</td>\n",
              "      <td>5</td>\n",
              "      <td>dust furniture</td>\n",
              "      <td>housework</td>\n",
              "      <td>4</td>\n",
              "      <td>3.0</td>\n",
              "      <td>3.333333</td>\n",
              "    </tr>\n",
              "    <tr>\n",
              "      <th>...</th>\n",
              "      <td>...</td>\n",
              "      <td>...</td>\n",
              "      <td>...</td>\n",
              "      <td>...</td>\n",
              "      <td>...</td>\n",
              "      <td>...</td>\n",
              "      <td>...</td>\n",
              "    </tr>\n",
              "    <tr>\n",
              "      <th>298</th>\n",
              "      <td>3</td>\n",
              "      <td>97</td>\n",
              "      <td>read a book</td>\n",
              "      <td>outing</td>\n",
              "      <td>7</td>\n",
              "      <td>3.0</td>\n",
              "      <td>7.666667</td>\n",
              "    </tr>\n",
              "    <tr>\n",
              "      <th>299</th>\n",
              "      <td>3</td>\n",
              "      <td>98</td>\n",
              "      <td>write a book</td>\n",
              "      <td>work</td>\n",
              "      <td>3</td>\n",
              "      <td>3.0</td>\n",
              "      <td>5.000000</td>\n",
              "    </tr>\n",
              "    <tr>\n",
              "      <th>300</th>\n",
              "      <td>3</td>\n",
              "      <td>99</td>\n",
              "      <td>write a blog post</td>\n",
              "      <td>work</td>\n",
              "      <td>3</td>\n",
              "      <td>3.0</td>\n",
              "      <td>4.666667</td>\n",
              "    </tr>\n",
              "    <tr>\n",
              "      <th>301</th>\n",
              "      <td>3</td>\n",
              "      <td>100</td>\n",
              "      <td>work a part time job</td>\n",
              "      <td>work</td>\n",
              "      <td>3</td>\n",
              "      <td>3.0</td>\n",
              "      <td>3.333333</td>\n",
              "    </tr>\n",
              "    <tr>\n",
              "      <th>302</th>\n",
              "      <td>3</td>\n",
              "      <td>101</td>\n",
              "      <td>sleep</td>\n",
              "      <td>self care</td>\n",
              "      <td>9</td>\n",
              "      <td>3.0</td>\n",
              "      <td>7.333333</td>\n",
              "    </tr>\n",
              "  </tbody>\n",
              "</table>\n",
              "<p>303 rows × 7 columns</p>\n",
              "</div>"
            ],
            "text/plain": [
              "     user_id  activity_id  ... rate_count average_rating\n",
              "0          1            1  ...        3.0       3.333333\n",
              "1          1            2  ...        3.0       2.666667\n",
              "2          1            3  ...        3.0       3.333333\n",
              "3          1            4  ...        3.0       1.666667\n",
              "4          1            5  ...        3.0       3.333333\n",
              "..       ...          ...  ...        ...            ...\n",
              "298        3           97  ...        3.0       7.666667\n",
              "299        3           98  ...        3.0       5.000000\n",
              "300        3           99  ...        3.0       4.666667\n",
              "301        3          100  ...        3.0       3.333333\n",
              "302        3          101  ...        3.0       7.333333\n",
              "\n",
              "[303 rows x 7 columns]"
            ]
          },
          "metadata": {
            "tags": []
          },
          "execution_count": 90
        }
      ]
    },
    {
      "cell_type": "code",
      "metadata": {
        "colab": {
          "base_uri": "https://localhost:8080/"
        },
        "id": "CgYF_iZtmEes",
        "outputId": "8f4afacb-dbae-47e3-a070-c82ebf8af44b"
      },
      "source": [
        "#calculate average\n",
        "# Calculate mean of rating average column\n",
        "C = df['average_rating'].mean()\n",
        "print(C)"
      ],
      "execution_count": 91,
      "outputs": [
        {
          "output_type": "stream",
          "text": [
            "6.026402640264028\n"
          ],
          "name": "stdout"
        }
      ]
    },
    {
      "cell_type": "code",
      "metadata": {
        "colab": {
          "base_uri": "https://localhost:8080/"
        },
        "id": "RGnBLnynmIdK",
        "outputId": "c10e7d69-d1e3-4199-9322-310359c7eaf0"
      },
      "source": [
        "# Calculate the minimum number of ratings required to be in the chart, m\n",
        "m = df['rate_count'].quantile(0.90)\n",
        "print(m)"
      ],
      "execution_count": 92,
      "outputs": [
        {
          "output_type": "stream",
          "text": [
            "3.0\n"
          ],
          "name": "stdout"
        }
      ]
    },
    {
      "cell_type": "code",
      "metadata": {
        "colab": {
          "base_uri": "https://localhost:8080/",
          "height": 423
        },
        "id": "--bA-g2zmSEr",
        "outputId": "b13d3ff3-1ae4-4de6-b08c-27a7098a6e29"
      },
      "source": [
        "#calculate weighted average\n",
        "v = df['rate_count']\n",
        "R = df['average_rating']\n",
        "df['score'] = (v/(v+m) * R) + (m/(m+v) * C)\n",
        "df"
      ],
      "execution_count": 93,
      "outputs": [
        {
          "output_type": "execute_result",
          "data": {
            "text/html": [
              "<div>\n",
              "<style scoped>\n",
              "    .dataframe tbody tr th:only-of-type {\n",
              "        vertical-align: middle;\n",
              "    }\n",
              "\n",
              "    .dataframe tbody tr th {\n",
              "        vertical-align: top;\n",
              "    }\n",
              "\n",
              "    .dataframe thead th {\n",
              "        text-align: right;\n",
              "    }\n",
              "</style>\n",
              "<table border=\"1\" class=\"dataframe\">\n",
              "  <thead>\n",
              "    <tr style=\"text-align: right;\">\n",
              "      <th></th>\n",
              "      <th>user_id</th>\n",
              "      <th>activity_id</th>\n",
              "      <th>thing_to_do</th>\n",
              "      <th>genre</th>\n",
              "      <th>rating</th>\n",
              "      <th>rate_count</th>\n",
              "      <th>average_rating</th>\n",
              "      <th>score</th>\n",
              "    </tr>\n",
              "  </thead>\n",
              "  <tbody>\n",
              "    <tr>\n",
              "      <th>0</th>\n",
              "      <td>1</td>\n",
              "      <td>1</td>\n",
              "      <td>make beds</td>\n",
              "      <td>housework</td>\n",
              "      <td>3</td>\n",
              "      <td>3.0</td>\n",
              "      <td>3.333333</td>\n",
              "      <td>4.679868</td>\n",
              "    </tr>\n",
              "    <tr>\n",
              "      <th>1</th>\n",
              "      <td>1</td>\n",
              "      <td>2</td>\n",
              "      <td>mop floors</td>\n",
              "      <td>housework</td>\n",
              "      <td>3</td>\n",
              "      <td>3.0</td>\n",
              "      <td>2.666667</td>\n",
              "      <td>4.346535</td>\n",
              "    </tr>\n",
              "    <tr>\n",
              "      <th>2</th>\n",
              "      <td>1</td>\n",
              "      <td>3</td>\n",
              "      <td>vacuum</td>\n",
              "      <td>housework</td>\n",
              "      <td>4</td>\n",
              "      <td>3.0</td>\n",
              "      <td>3.333333</td>\n",
              "      <td>4.679868</td>\n",
              "    </tr>\n",
              "    <tr>\n",
              "      <th>3</th>\n",
              "      <td>1</td>\n",
              "      <td>4</td>\n",
              "      <td>clean toilet</td>\n",
              "      <td>housework</td>\n",
              "      <td>1</td>\n",
              "      <td>3.0</td>\n",
              "      <td>1.666667</td>\n",
              "      <td>3.846535</td>\n",
              "    </tr>\n",
              "    <tr>\n",
              "      <th>4</th>\n",
              "      <td>1</td>\n",
              "      <td>5</td>\n",
              "      <td>dust furniture</td>\n",
              "      <td>housework</td>\n",
              "      <td>4</td>\n",
              "      <td>3.0</td>\n",
              "      <td>3.333333</td>\n",
              "      <td>4.679868</td>\n",
              "    </tr>\n",
              "    <tr>\n",
              "      <th>...</th>\n",
              "      <td>...</td>\n",
              "      <td>...</td>\n",
              "      <td>...</td>\n",
              "      <td>...</td>\n",
              "      <td>...</td>\n",
              "      <td>...</td>\n",
              "      <td>...</td>\n",
              "      <td>...</td>\n",
              "    </tr>\n",
              "    <tr>\n",
              "      <th>298</th>\n",
              "      <td>3</td>\n",
              "      <td>97</td>\n",
              "      <td>read a book</td>\n",
              "      <td>outing</td>\n",
              "      <td>7</td>\n",
              "      <td>3.0</td>\n",
              "      <td>7.666667</td>\n",
              "      <td>6.846535</td>\n",
              "    </tr>\n",
              "    <tr>\n",
              "      <th>299</th>\n",
              "      <td>3</td>\n",
              "      <td>98</td>\n",
              "      <td>write a book</td>\n",
              "      <td>work</td>\n",
              "      <td>3</td>\n",
              "      <td>3.0</td>\n",
              "      <td>5.000000</td>\n",
              "      <td>5.513201</td>\n",
              "    </tr>\n",
              "    <tr>\n",
              "      <th>300</th>\n",
              "      <td>3</td>\n",
              "      <td>99</td>\n",
              "      <td>write a blog post</td>\n",
              "      <td>work</td>\n",
              "      <td>3</td>\n",
              "      <td>3.0</td>\n",
              "      <td>4.666667</td>\n",
              "      <td>5.346535</td>\n",
              "    </tr>\n",
              "    <tr>\n",
              "      <th>301</th>\n",
              "      <td>3</td>\n",
              "      <td>100</td>\n",
              "      <td>work a part time job</td>\n",
              "      <td>work</td>\n",
              "      <td>3</td>\n",
              "      <td>3.0</td>\n",
              "      <td>3.333333</td>\n",
              "      <td>4.679868</td>\n",
              "    </tr>\n",
              "    <tr>\n",
              "      <th>302</th>\n",
              "      <td>3</td>\n",
              "      <td>101</td>\n",
              "      <td>sleep</td>\n",
              "      <td>self care</td>\n",
              "      <td>9</td>\n",
              "      <td>3.0</td>\n",
              "      <td>7.333333</td>\n",
              "      <td>6.679868</td>\n",
              "    </tr>\n",
              "  </tbody>\n",
              "</table>\n",
              "<p>303 rows × 8 columns</p>\n",
              "</div>"
            ],
            "text/plain": [
              "     user_id  activity_id  ... average_rating     score\n",
              "0          1            1  ...       3.333333  4.679868\n",
              "1          1            2  ...       2.666667  4.346535\n",
              "2          1            3  ...       3.333333  4.679868\n",
              "3          1            4  ...       1.666667  3.846535\n",
              "4          1            5  ...       3.333333  4.679868\n",
              "..       ...          ...  ...            ...       ...\n",
              "298        3           97  ...       7.666667  6.846535\n",
              "299        3           98  ...       5.000000  5.513201\n",
              "300        3           99  ...       4.666667  5.346535\n",
              "301        3          100  ...       3.333333  4.679868\n",
              "302        3          101  ...       7.333333  6.679868\n",
              "\n",
              "[303 rows x 8 columns]"
            ]
          },
          "metadata": {
            "tags": []
          },
          "execution_count": 93
        }
      ]
    },
    {
      "cell_type": "code",
      "metadata": {
        "colab": {
          "base_uri": "https://localhost:8080/"
        },
        "id": "SZOjpoYTi3Af",
        "outputId": "cfd625a5-d6fa-427a-e397-3de1c89aa521"
      },
      "source": [
        "# Calculate mean rating of all movies\n",
        "df.groupby('thing_to_do')['rating'].mean().sort_values(ascending=False)\n"
      ],
      "execution_count": 94,
      "outputs": [
        {
          "output_type": "execute_result",
          "data": {
            "text/plain": [
              "thing_to_do\n",
              "retire from work        9.000000\n",
              "go to london            8.666667\n",
              "go to isle of wight     8.666667\n",
              "go to hollywood         8.666667\n",
              "go to bournemouth       8.333333\n",
              "                          ...   \n",
              "clean floorboards       2.333333\n",
              "clean sideboards        2.000000\n",
              "clean oven              2.000000\n",
              "clean toilet            1.666667\n",
              "clean mold off walls    1.666667\n",
              "Name: rating, Length: 101, dtype: float64"
            ]
          },
          "metadata": {
            "tags": []
          },
          "execution_count": 94
        }
      ]
    },
    {
      "cell_type": "code",
      "metadata": {
        "colab": {
          "base_uri": "https://localhost:8080/"
        },
        "id": "KEJRmCvOi9yR",
        "outputId": "ec523cae-2d43-47ec-a702-31e72d2567e1"
      },
      "source": [
        "# Calculate count rating of all movies\n",
        "df.groupby('thing_to_do')['rating'].count().sort_values(ascending=False)\n"
      ],
      "execution_count": 95,
      "outputs": [
        {
          "output_type": "execute_result",
          "data": {
            "text/plain": [
              "thing_to_do\n",
              "write a book                 3\n",
              "go to burger king            3\n",
              "go rollar skating            3\n",
              "go scuba diving              3\n",
              "go shopping                  3\n",
              "                            ..\n",
              "make fruitcake               3\n",
              "make spaghetti bolenaise     3\n",
              "make strawberry shortcake    3\n",
              "make sushi                   3\n",
              "bake a cake                  3\n",
              "Name: rating, Length: 101, dtype: int64"
            ]
          },
          "metadata": {
            "tags": []
          },
          "execution_count": 95
        }
      ]
    },
    {
      "cell_type": "code",
      "metadata": {
        "colab": {
          "base_uri": "https://localhost:8080/",
          "height": 455
        },
        "id": "Wf9UZTdXjDIr",
        "outputId": "3b86601c-9bd6-4263-de05-04ca1bcdf939"
      },
      "source": [
        "# creating dataframe with 'rating' count values\n",
        "ratings = pd.DataFrame(df.groupby('thing_to_do')['rating'].mean())\n",
        "ratings['num_ratings'] = pd.DataFrame(df.groupby('thing_to_do')['rating'].count())\n",
        "ratings"
      ],
      "execution_count": 96,
      "outputs": [
        {
          "output_type": "execute_result",
          "data": {
            "text/html": [
              "<div>\n",
              "<style scoped>\n",
              "    .dataframe tbody tr th:only-of-type {\n",
              "        vertical-align: middle;\n",
              "    }\n",
              "\n",
              "    .dataframe tbody tr th {\n",
              "        vertical-align: top;\n",
              "    }\n",
              "\n",
              "    .dataframe thead th {\n",
              "        text-align: right;\n",
              "    }\n",
              "</style>\n",
              "<table border=\"1\" class=\"dataframe\">\n",
              "  <thead>\n",
              "    <tr style=\"text-align: right;\">\n",
              "      <th></th>\n",
              "      <th>rating</th>\n",
              "      <th>num_ratings</th>\n",
              "    </tr>\n",
              "    <tr>\n",
              "      <th>thing_to_do</th>\n",
              "      <th></th>\n",
              "      <th></th>\n",
              "    </tr>\n",
              "  </thead>\n",
              "  <tbody>\n",
              "    <tr>\n",
              "      <th>bake a cake</th>\n",
              "      <td>4.333333</td>\n",
              "      <td>3</td>\n",
              "    </tr>\n",
              "    <tr>\n",
              "      <th>clean floorboards</th>\n",
              "      <td>2.333333</td>\n",
              "      <td>3</td>\n",
              "    </tr>\n",
              "    <tr>\n",
              "      <th>clean mold off walls</th>\n",
              "      <td>1.666667</td>\n",
              "      <td>3</td>\n",
              "    </tr>\n",
              "    <tr>\n",
              "      <th>clean oven</th>\n",
              "      <td>2.000000</td>\n",
              "      <td>3</td>\n",
              "    </tr>\n",
              "    <tr>\n",
              "      <th>clean sideboards</th>\n",
              "      <td>2.000000</td>\n",
              "      <td>3</td>\n",
              "    </tr>\n",
              "    <tr>\n",
              "      <th>...</th>\n",
              "      <td>...</td>\n",
              "      <td>...</td>\n",
              "    </tr>\n",
              "    <tr>\n",
              "      <th>watch a youtube video</th>\n",
              "      <td>6.666667</td>\n",
              "      <td>3</td>\n",
              "    </tr>\n",
              "    <tr>\n",
              "      <th>watch an american football game</th>\n",
              "      <td>4.666667</td>\n",
              "      <td>3</td>\n",
              "    </tr>\n",
              "    <tr>\n",
              "      <th>work a part time job</th>\n",
              "      <td>3.333333</td>\n",
              "      <td>3</td>\n",
              "    </tr>\n",
              "    <tr>\n",
              "      <th>write a blog post</th>\n",
              "      <td>4.666667</td>\n",
              "      <td>3</td>\n",
              "    </tr>\n",
              "    <tr>\n",
              "      <th>write a book</th>\n",
              "      <td>5.000000</td>\n",
              "      <td>3</td>\n",
              "    </tr>\n",
              "  </tbody>\n",
              "</table>\n",
              "<p>101 rows × 2 columns</p>\n",
              "</div>"
            ],
            "text/plain": [
              "                                   rating  num_ratings\n",
              "thing_to_do                                           \n",
              "bake a cake                      4.333333            3\n",
              "clean floorboards                2.333333            3\n",
              "clean mold off walls             1.666667            3\n",
              "clean oven                       2.000000            3\n",
              "clean sideboards                 2.000000            3\n",
              "...                                   ...          ...\n",
              "watch a youtube video            6.666667            3\n",
              "watch an american football game  4.666667            3\n",
              "work a part time job             3.333333            3\n",
              "write a blog post                4.666667            3\n",
              "write a book                     5.000000            3\n",
              "\n",
              "[101 rows x 2 columns]"
            ]
          },
          "metadata": {
            "tags": []
          },
          "execution_count": 96
        }
      ]
    },
    {
      "cell_type": "code",
      "metadata": {
        "id": "mVCtFqiBjJNK"
      },
      "source": [
        "import matplotlib.pyplot as plt\n",
        "import seaborn as sns\n",
        "sns.set_style('white')\n",
        "%matplotlib inline"
      ],
      "execution_count": 97,
      "outputs": []
    },
    {
      "cell_type": "code",
      "metadata": {
        "colab": {
          "base_uri": "https://localhost:8080/",
          "height": 283
        },
        "id": "jgDtmJhBjPEp",
        "outputId": "c050f56e-9d14-44f0-c2e2-253ee37062eb"
      },
      "source": [
        "# plot graph of 'num of ratings column'\n",
        "plt.figure(figsize =(10, 4))\n",
        " \n",
        "ratings['num_ratings'].hist(bins = 70)"
      ],
      "execution_count": 98,
      "outputs": [
        {
          "output_type": "execute_result",
          "data": {
            "text/plain": [
              "<matplotlib.axes._subplots.AxesSubplot at 0x7fc75f6de690>"
            ]
          },
          "metadata": {
            "tags": []
          },
          "execution_count": 98
        },
        {
          "output_type": "display_data",
          "data": {
            "image/png": "[encoded data removed]",
            "text/plain": [
              "<Figure size 720x288 with 1 Axes>"
            ]
          },
          "metadata": {
            "tags": [],
            "needs_background": "light"
          }
        }
      ]
    },
    {
      "cell_type": "code",
      "metadata": {
        "colab": {
          "base_uri": "https://localhost:8080/",
          "height": 283
        },
        "id": "cD_YPJjAjUgA",
        "outputId": "659ba43c-183b-4cf6-e809-80dfd3f9e493"
      },
      "source": [
        "# plot graph of 'ratings' column\n",
        "plt.figure(figsize =(10, 4))\n",
        "ratings['rating'].hist(bins = 70)\n"
      ],
      "execution_count": 99,
      "outputs": [
        {
          "output_type": "execute_result",
          "data": {
            "text/plain": [
              "<matplotlib.axes._subplots.AxesSubplot at 0x7fc75f82ce50>"
            ]
          },
          "metadata": {
            "tags": []
          },
          "execution_count": 99
        },
        {
          "output_type": "display_data",
          "data": {
            "image/png": "[encoded data removed]",
            "text/plain": [
              "<Figure size 720x288 with 1 Axes>"
            ]
          },
          "metadata": {
            "tags": [],
            "needs_background": "light"
          }
        }
      ]
    },
    {
      "cell_type": "code",
      "metadata": {
        "colab": {
          "base_uri": "https://localhost:8080/",
          "height": 283
        },
        "id": "s0Qu5RvbrdIE",
        "outputId": "f2d42db6-562b-46bd-c4c7-49f73ed77204"
      },
      "source": [
        "# plot graph of 'score' column\n",
        "plt.figure(figsize =(10, 4))\n",
        "df['score'].hist(bins = 70)"
      ],
      "execution_count": 100,
      "outputs": [
        {
          "output_type": "execute_result",
          "data": {
            "text/plain": [
              "<matplotlib.axes._subplots.AxesSubplot at 0x7fc75eb56e10>"
            ]
          },
          "metadata": {
            "tags": []
          },
          "execution_count": 100
        },
        {
          "output_type": "display_data",
          "data": {
            "image/png": "[encoded data removed]",
            "text/plain": [
              "<Figure size 720x288 with 1 Axes>"
            ]
          },
          "metadata": {
            "tags": [],
            "needs_background": "light"
          }
        }
      ]
    },
    {
      "cell_type": "code",
      "metadata": {
        "colab": {
          "base_uri": "https://localhost:8080/",
          "height": 283
        },
        "id": "FP0pFz-Fr2xf",
        "outputId": "213144ab-762a-46c8-ed7c-18f814816613"
      },
      "source": [
        "# plot graph of 'score' column\n",
        "plt.figure(figsize =(10, 4))\n",
        "df['genre'].hist(bins = 70)\n"
      ],
      "execution_count": 101,
      "outputs": [
        {
          "output_type": "execute_result",
          "data": {
            "text/plain": [
              "<matplotlib.axes._subplots.AxesSubplot at 0x7fc75ea10ad0>"
            ]
          },
          "metadata": {
            "tags": []
          },
          "execution_count": 101
        },
        {
          "output_type": "display_data",
          "data": {
            "image/png": "[encoded data removed]",
            "text/plain": [
              "<Figure size 720x288 with 1 Axes>"
            ]
          },
          "metadata": {
            "tags": [],
            "needs_background": "light"
          }
        }
      ]
    },
    {
      "cell_type": "code",
      "metadata": {
        "colab": {
          "base_uri": "https://localhost:8080/"
        },
        "id": "R1qeSBvfjpVM",
        "outputId": "f2993ddf-84fa-466b-fc38-4a5c9311f15e"
      },
      "source": [
        "# Sorting values according to\n",
        "# the 'num of rating column'\n",
        "activity_mat = df.pivot_table(index ='user_id',columns ='thing_to_do', values ='rating')\n",
        "print(activity_mat)"
      ],
      "execution_count": 102,
      "outputs": [
        {
          "output_type": "stream",
          "text": [
            "thing_to_do  bake a cake  clean floorboards  ...  write a blog post  write a book\n",
            "user_id                                      ...                                 \n",
            "1                      6                  2  ...                  8             8\n",
            "2                      3                  1  ...                  3             4\n",
            "3                      4                  4  ...                  3             3\n",
            "\n",
            "[3 rows x 101 columns]\n"
          ],
          "name": "stdout"
        }
      ]
    },
    {
      "cell_type": "code",
      "metadata": {
        "colab": {
          "base_uri": "https://localhost:8080/",
          "height": 394
        },
        "id": "n8QasUpMoDwD",
        "outputId": "40be07a4-8faf-4305-dd64-9cab081466f8"
      },
      "source": [
        "ratings.sort_values('num_ratings', ascending = False).head(10)"
      ],
      "execution_count": 103,
      "outputs": [
        {
          "output_type": "execute_result",
          "data": {
            "text/html": [
              "<div>\n",
              "<style scoped>\n",
              "    .dataframe tbody tr th:only-of-type {\n",
              "        vertical-align: middle;\n",
              "    }\n",
              "\n",
              "    .dataframe tbody tr th {\n",
              "        vertical-align: top;\n",
              "    }\n",
              "\n",
              "    .dataframe thead th {\n",
              "        text-align: right;\n",
              "    }\n",
              "</style>\n",
              "<table border=\"1\" class=\"dataframe\">\n",
              "  <thead>\n",
              "    <tr style=\"text-align: right;\">\n",
              "      <th></th>\n",
              "      <th>rating</th>\n",
              "      <th>num_ratings</th>\n",
              "    </tr>\n",
              "    <tr>\n",
              "      <th>thing_to_do</th>\n",
              "      <th></th>\n",
              "      <th></th>\n",
              "    </tr>\n",
              "  </thead>\n",
              "  <tbody>\n",
              "    <tr>\n",
              "      <th>bake a cake</th>\n",
              "      <td>4.333333</td>\n",
              "      <td>3</td>\n",
              "    </tr>\n",
              "    <tr>\n",
              "      <th>make beds</th>\n",
              "      <td>3.333333</td>\n",
              "      <td>3</td>\n",
              "    </tr>\n",
              "    <tr>\n",
              "      <th>make tiramasu</th>\n",
              "      <td>5.333333</td>\n",
              "      <td>3</td>\n",
              "    </tr>\n",
              "    <tr>\n",
              "      <th>make tempura</th>\n",
              "      <td>4.666667</td>\n",
              "      <td>3</td>\n",
              "    </tr>\n",
              "    <tr>\n",
              "      <th>make sushi</th>\n",
              "      <td>4.666667</td>\n",
              "      <td>3</td>\n",
              "    </tr>\n",
              "    <tr>\n",
              "      <th>make strawberry shortcake</th>\n",
              "      <td>6.000000</td>\n",
              "      <td>3</td>\n",
              "    </tr>\n",
              "    <tr>\n",
              "      <th>make spaghetti bolenaise</th>\n",
              "      <td>5.000000</td>\n",
              "      <td>3</td>\n",
              "    </tr>\n",
              "    <tr>\n",
              "      <th>make fruitcake</th>\n",
              "      <td>4.333333</td>\n",
              "      <td>3</td>\n",
              "    </tr>\n",
              "    <tr>\n",
              "      <th>make chocolate cake</th>\n",
              "      <td>5.666667</td>\n",
              "      <td>3</td>\n",
              "    </tr>\n",
              "    <tr>\n",
              "      <th>make carrot cake</th>\n",
              "      <td>6.000000</td>\n",
              "      <td>3</td>\n",
              "    </tr>\n",
              "  </tbody>\n",
              "</table>\n",
              "</div>"
            ],
            "text/plain": [
              "                             rating  num_ratings\n",
              "thing_to_do                                     \n",
              "bake a cake                4.333333            3\n",
              "make beds                  3.333333            3\n",
              "make tiramasu              5.333333            3\n",
              "make tempura               4.666667            3\n",
              "make sushi                 4.666667            3\n",
              "make strawberry shortcake  6.000000            3\n",
              "make spaghetti bolenaise   5.000000            3\n",
              "make fruitcake             4.333333            3\n",
              "make chocolate cake        5.666667            3\n",
              "make carrot cake           6.000000            3"
            ]
          },
          "metadata": {
            "tags": []
          },
          "execution_count": 103
        }
      ]
    },
    {
      "cell_type": "code",
      "metadata": {
        "colab": {
          "base_uri": "https://localhost:8080/"
        },
        "id": "S6l9s-GMjwYS",
        "outputId": "4b387df8-3250-44b8-928f-343b66d89cec"
      },
      "source": [
        "# analysing correlation with similar movies\n",
        "cake_user_ratings = activity_mat['make carrot cake']\n",
        "clean_user_ratings = activity_mat['make beds']\n",
        "cake_user_ratings\n"
      ],
      "execution_count": 104,
      "outputs": [
        {
          "output_type": "execute_result",
          "data": {
            "text/plain": [
              "user_id\n",
              "1    8\n",
              "2    6\n",
              "3    4\n",
              "Name: make carrot cake, dtype: int64"
            ]
          },
          "metadata": {
            "tags": []
          },
          "execution_count": 104
        }
      ]
    },
    {
      "cell_type": "code",
      "metadata": {
        "colab": {
          "base_uri": "https://localhost:8080/",
          "height": 237
        },
        "id": "AYZ5UWh4j2oi",
        "outputId": "40ddd8a8-cc2a-4101-e596-04494c0c87dd"
      },
      "source": [
        "# analysing correlation with similar movies\n",
        "similar_to_cake = activity_mat.corrwith(cake_user_ratings)\n",
        "similar_to_clean = activity_mat.corrwith(clean_user_ratings)\n",
        " \n",
        "corr_cake = pd.DataFrame(similar_to_cake, columns =['Correlation'])\n",
        "corr_cake.dropna(inplace = True)\n",
        " \n",
        "corr_cake.head()\n"
      ],
      "execution_count": 105,
      "outputs": [
        {
          "output_type": "execute_result",
          "data": {
            "text/html": [
              "<div>\n",
              "<style scoped>\n",
              "    .dataframe tbody tr th:only-of-type {\n",
              "        vertical-align: middle;\n",
              "    }\n",
              "\n",
              "    .dataframe tbody tr th {\n",
              "        vertical-align: top;\n",
              "    }\n",
              "\n",
              "    .dataframe thead th {\n",
              "        text-align: right;\n",
              "    }\n",
              "</style>\n",
              "<table border=\"1\" class=\"dataframe\">\n",
              "  <thead>\n",
              "    <tr style=\"text-align: right;\">\n",
              "      <th></th>\n",
              "      <th>Correlation</th>\n",
              "    </tr>\n",
              "    <tr>\n",
              "      <th>thing_to_do</th>\n",
              "      <th></th>\n",
              "    </tr>\n",
              "  </thead>\n",
              "  <tbody>\n",
              "    <tr>\n",
              "      <th>bake a cake</th>\n",
              "      <td>0.654654</td>\n",
              "    </tr>\n",
              "    <tr>\n",
              "      <th>clean floorboards</th>\n",
              "      <td>-0.654654</td>\n",
              "    </tr>\n",
              "    <tr>\n",
              "      <th>clean mold off walls</th>\n",
              "      <td>-0.866025</td>\n",
              "    </tr>\n",
              "    <tr>\n",
              "      <th>clean oven</th>\n",
              "      <td>-0.500000</td>\n",
              "    </tr>\n",
              "    <tr>\n",
              "      <th>clean sideboards</th>\n",
              "      <td>-0.500000</td>\n",
              "    </tr>\n",
              "  </tbody>\n",
              "</table>\n",
              "</div>"
            ],
            "text/plain": [
              "                      Correlation\n",
              "thing_to_do                      \n",
              "bake a cake              0.654654\n",
              "clean floorboards       -0.654654\n",
              "clean mold off walls    -0.866025\n",
              "clean oven              -0.500000\n",
              "clean sideboards        -0.500000"
            ]
          },
          "metadata": {
            "tags": []
          },
          "execution_count": 105
        }
      ]
    },
    {
      "cell_type": "code",
      "metadata": {
        "colab": {
          "base_uri": "https://localhost:8080/",
          "height": 237
        },
        "id": "3cIYqO-cj_ae",
        "outputId": "ff060cdf-bd65-4929-af97-1e64e0d301fd"
      },
      "source": [
        "# Similar movies like starwars\n",
        "corr_cake.sort_values('Correlation', ascending = False).head(10)\n",
        "corr_cake = corr_cake.join(ratings['num_ratings'])\n",
        " \n",
        "corr_cake.head()\n",
        " \n",
        "corr_cake[corr_cake['num_ratings']>2].sort_values('Correlation', ascending = False).head()\n"
      ],
      "execution_count": 106,
      "outputs": [
        {
          "output_type": "execute_result",
          "data": {
            "text/html": [
              "<div>\n",
              "<style scoped>\n",
              "    .dataframe tbody tr th:only-of-type {\n",
              "        vertical-align: middle;\n",
              "    }\n",
              "\n",
              "    .dataframe tbody tr th {\n",
              "        vertical-align: top;\n",
              "    }\n",
              "\n",
              "    .dataframe thead th {\n",
              "        text-align: right;\n",
              "    }\n",
              "</style>\n",
              "<table border=\"1\" class=\"dataframe\">\n",
              "  <thead>\n",
              "    <tr style=\"text-align: right;\">\n",
              "      <th></th>\n",
              "      <th>Correlation</th>\n",
              "      <th>num_ratings</th>\n",
              "    </tr>\n",
              "    <tr>\n",
              "      <th>thing_to_do</th>\n",
              "      <th></th>\n",
              "      <th></th>\n",
              "    </tr>\n",
              "  </thead>\n",
              "  <tbody>\n",
              "    <tr>\n",
              "      <th>make carrot cake</th>\n",
              "      <td>1.000000</td>\n",
              "      <td>3</td>\n",
              "    </tr>\n",
              "    <tr>\n",
              "      <th>make strawberry shortcake</th>\n",
              "      <td>1.000000</td>\n",
              "      <td>3</td>\n",
              "    </tr>\n",
              "    <tr>\n",
              "      <th>go to wendys</th>\n",
              "      <td>1.000000</td>\n",
              "      <td>3</td>\n",
              "    </tr>\n",
              "    <tr>\n",
              "      <th>go to japanese restaurant</th>\n",
              "      <td>0.981981</td>\n",
              "      <td>3</td>\n",
              "    </tr>\n",
              "    <tr>\n",
              "      <th>see stepchildren</th>\n",
              "      <td>0.981981</td>\n",
              "      <td>3</td>\n",
              "    </tr>\n",
              "  </tbody>\n",
              "</table>\n",
              "</div>"
            ],
            "text/plain": [
              "                           Correlation  num_ratings\n",
              "thing_to_do                                        \n",
              "make carrot cake              1.000000            3\n",
              "make strawberry shortcake     1.000000            3\n",
              "go to wendys                  1.000000            3\n",
              "go to japanese restaurant     0.981981            3\n",
              "see stepchildren              0.981981            3"
            ]
          },
          "metadata": {
            "tags": []
          },
          "execution_count": 106
        }
      ]
    },
    {
      "cell_type": "code",
      "metadata": {
        "colab": {
          "base_uri": "https://localhost:8080/",
          "height": 237
        },
        "id": "-fxpDyqWkJYY",
        "outputId": "d60f65f9-1d06-43fd-934f-a7afc1248db2"
      },
      "source": [
        "# Similar movies as of liarliar\n",
        "corr_clean = pd.DataFrame(similar_to_clean, columns =['Correlation'])\n",
        "corr_clean.dropna(inplace = True)\n",
        " \n",
        "corr_clean = corr_clean.join(ratings['num_ratings'])\n",
        "corr_clean[corr_clean['num_ratings']>2].sort_values('Correlation', ascending = False).head()\n"
      ],
      "execution_count": 107,
      "outputs": [
        {
          "output_type": "execute_result",
          "data": {
            "text/html": [
              "<div>\n",
              "<style scoped>\n",
              "    .dataframe tbody tr th:only-of-type {\n",
              "        vertical-align: middle;\n",
              "    }\n",
              "\n",
              "    .dataframe tbody tr th {\n",
              "        vertical-align: top;\n",
              "    }\n",
              "\n",
              "    .dataframe thead th {\n",
              "        text-align: right;\n",
              "    }\n",
              "</style>\n",
              "<table border=\"1\" class=\"dataframe\">\n",
              "  <thead>\n",
              "    <tr style=\"text-align: right;\">\n",
              "      <th></th>\n",
              "      <th>Correlation</th>\n",
              "      <th>num_ratings</th>\n",
              "    </tr>\n",
              "    <tr>\n",
              "      <th>thing_to_do</th>\n",
              "      <th></th>\n",
              "      <th></th>\n",
              "    </tr>\n",
              "  </thead>\n",
              "  <tbody>\n",
              "    <tr>\n",
              "      <th>go to the movies</th>\n",
              "      <td>1.0</td>\n",
              "      <td>3</td>\n",
              "    </tr>\n",
              "    <tr>\n",
              "      <th>clean windows</th>\n",
              "      <td>1.0</td>\n",
              "      <td>3</td>\n",
              "    </tr>\n",
              "    <tr>\n",
              "      <th>make beds</th>\n",
              "      <td>1.0</td>\n",
              "      <td>3</td>\n",
              "    </tr>\n",
              "    <tr>\n",
              "      <th>go to art gallery</th>\n",
              "      <td>1.0</td>\n",
              "      <td>3</td>\n",
              "    </tr>\n",
              "    <tr>\n",
              "      <th>go to a wildlife park</th>\n",
              "      <td>1.0</td>\n",
              "      <td>3</td>\n",
              "    </tr>\n",
              "  </tbody>\n",
              "</table>\n",
              "</div>"
            ],
            "text/plain": [
              "                       Correlation  num_ratings\n",
              "thing_to_do                                    \n",
              "go to the movies               1.0            3\n",
              "clean windows                  1.0            3\n",
              "make beds                      1.0            3\n",
              "go to art gallery              1.0            3\n",
              "go to a wildlife park          1.0            3"
            ]
          },
          "metadata": {
            "tags": []
          },
          "execution_count": 107
        }
      ]
    }
  ]
}