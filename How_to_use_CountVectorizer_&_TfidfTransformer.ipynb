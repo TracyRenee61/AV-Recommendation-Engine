{
  "nbformat": 4,
  "nbformat_minor": 0,
  "metadata": {
    "colab": {
      "name": "How to use CountVectorizer & TfidfTransformer.ipynb",
      "provenance": []
    },
    "kernelspec": {
      "name": "python3",
      "display_name": "Python 3"
    },
    "language_info": {
      "name": "python"
    }
  },
  "cells": [
    {
      "cell_type": "markdown",
      "metadata": {
        "id": "ZxyshVJaL9oE"
      },
      "source": [
        "Import"
      ]
    },
    {
      "cell_type": "code",
      "metadata": {
        "id": "8xaR52ZeLpQu"
      },
      "source": [
        "import pandas as pd\n",
        "import numpy as np"
      ],
      "execution_count": 1016,
      "outputs": []
    },
    {
      "cell_type": "markdown",
      "metadata": {
        "id": "yQK1rpU_gPhI"
      },
      "source": [
        "Load file"
      ]
    },
    {
      "cell_type": "code",
      "metadata": {
        "id": "izn48HX9gSDJ"
      },
      "source": [
        "text1 ='''Tracy loves writing about data science.'''"
      ],
      "execution_count": 1017,
      "outputs": []
    },
    {
      "cell_type": "code",
      "metadata": {
        "id": "yMq7Sh9Qjh6D"
      },
      "source": [
        "text2 = '''Tracy loves writing for medium publications.'''"
      ],
      "execution_count": 1018,
      "outputs": []
    },
    {
      "cell_type": "code",
      "metadata": {
        "id": "yFT7Rf5vNoEM"
      },
      "source": [
        "text3 = '''Tracy loves studying Python programming.'''"
      ],
      "execution_count": 1019,
      "outputs": []
    },
    {
      "cell_type": "code",
      "metadata": {
        "id": "zvfN2SY_Nyn1"
      },
      "source": [
        "text4 = '''Tracy loves entering Kaggle competitions.'''"
      ],
      "execution_count": 1020,
      "outputs": []
    },
    {
      "cell_type": "markdown",
      "metadata": {
        "id": "ypT6KrFisQ-y"
      },
      "source": [
        "Corpus"
      ]
    },
    {
      "cell_type": "code",
      "metadata": {
        "id": "IVTBfWNIsTJg",
        "colab": {
          "base_uri": "https://localhost:8080/"
        },
        "outputId": "184795d7-6e0d-4e31-8e35-ea2bb23cd5cc"
      },
      "source": [
        "corpus = [text1, text2, text3, text4]\n",
        "corpus"
      ],
      "execution_count": 1021,
      "outputs": [
        {
          "output_type": "execute_result",
          "data": {
            "text/plain": [
              "['Tracy loves writing about data science.',\n",
              " 'Tracy loves writing for medium publications.',\n",
              " 'Tracy loves studying Python programming.',\n",
              " 'Tracy loves entering Kaggle competitions.']"
            ]
          },
          "metadata": {
            "tags": []
          },
          "execution_count": 1021
        }
      ]
    },
    {
      "cell_type": "markdown",
      "metadata": {
        "id": "EqYSlFk_hXBt"
      },
      "source": [
        "CounterVectorizer"
      ]
    },
    {
      "cell_type": "code",
      "metadata": {
        "id": "yftIa0Lxskbs",
        "colab": {
          "base_uri": "https://localhost:8080/"
        },
        "outputId": "4d5ba510-62c0-4b22-93d7-610ad50ceac1"
      },
      "source": [
        "\n",
        "from sklearn.feature_extraction.text import CountVectorizer\n",
        "\n",
        "count_vec = CountVectorizer()\n",
        "\n",
        "word_count_vec = count_vec.fit_transform(corpus)\n",
        "word_count_vec.shape"
      ],
      "execution_count": 1022,
      "outputs": [
        {
          "output_type": "execute_result",
          "data": {
            "text/plain": [
              "(4, 15)"
            ]
          },
          "metadata": {
            "tags": []
          },
          "execution_count": 1022
        }
      ]
    },
    {
      "cell_type": "markdown",
      "metadata": {
        "id": "klYn6_hSPKil"
      },
      "source": [
        "Print vocabulary"
      ]
    },
    {
      "cell_type": "code",
      "metadata": {
        "colab": {
          "base_uri": "https://localhost:8080/"
        },
        "id": "7kNfL6HASZfF",
        "outputId": "66854b9a-48e1-4710-c1f1-640864133d9f"
      },
      "source": [
        "print(count_vec.get_feature_names())"
      ],
      "execution_count": 1023,
      "outputs": [
        {
          "output_type": "stream",
          "text": [
            "['about', 'competitions', 'data', 'entering', 'for', 'kaggle', 'loves', 'medium', 'programming', 'publications', 'python', 'science', 'studying', 'tracy', 'writing']\n"
          ],
          "name": "stdout"
        }
      ]
    },
    {
      "cell_type": "code",
      "metadata": {
        "colab": {
          "base_uri": "https://localhost:8080/"
        },
        "id": "LtpUFSYTPMmH",
        "outputId": "64c91d4b-ef7e-4992-a964-323dc8a56ef0"
      },
      "source": [
        "print(\"Vocabulary: \", count_vec.vocabulary_)"
      ],
      "execution_count": 1024,
      "outputs": [
        {
          "output_type": "stream",
          "text": [
            "Vocabulary:  {'tracy': 13, 'loves': 6, 'writing': 14, 'about': 0, 'data': 2, 'science': 11, 'for': 4, 'medium': 7, 'publications': 9, 'studying': 12, 'python': 10, 'programming': 8, 'entering': 3, 'kaggle': 5, 'competitions': 1}\n"
          ],
          "name": "stdout"
        }
      ]
    },
    {
      "cell_type": "code",
      "metadata": {
        "colab": {
          "base_uri": "https://localhost:8080/"
        },
        "id": "306Fh4bZStDy",
        "outputId": "f51f361c-4f30-48f9-d51b-96750e06e048"
      },
      "source": [
        "print(word_count_vec.toarray())"
      ],
      "execution_count": 1025,
      "outputs": [
        {
          "output_type": "stream",
          "text": [
            "[[1 0 1 0 0 0 1 0 0 0 0 1 0 1 1]\n",
            " [0 0 0 0 1 0 1 1 0 1 0 0 0 1 1]\n",
            " [0 0 0 0 0 0 1 0 1 0 1 0 1 1 0]\n",
            " [0 1 0 1 0 1 1 0 0 0 0 0 0 1 0]]\n"
          ],
          "name": "stdout"
        }
      ]
    },
    {
      "cell_type": "markdown",
      "metadata": {
        "id": "7LpFuWVoPnce"
      },
      "source": [
        "Encode document"
      ]
    },
    {
      "cell_type": "code",
      "metadata": {
        "colab": {
          "base_uri": "https://localhost:8080/"
        },
        "id": "MKzgtzXPPt5p",
        "outputId": "d5bbe88f-952a-4e66-edff-70f93fff0b2b"
      },
      "source": [
        "vector = count_vec.transform(corpus)\n",
        "print(vector)"
      ],
      "execution_count": 1026,
      "outputs": [
        {
          "output_type": "stream",
          "text": [
            "  (0, 0)\t1\n",
            "  (0, 2)\t1\n",
            "  (0, 6)\t1\n",
            "  (0, 11)\t1\n",
            "  (0, 13)\t1\n",
            "  (0, 14)\t1\n",
            "  (1, 4)\t1\n",
            "  (1, 6)\t1\n",
            "  (1, 7)\t1\n",
            "  (1, 9)\t1\n",
            "  (1, 13)\t1\n",
            "  (1, 14)\t1\n",
            "  (2, 6)\t1\n",
            "  (2, 8)\t1\n",
            "  (2, 10)\t1\n",
            "  (2, 12)\t1\n",
            "  (2, 13)\t1\n",
            "  (3, 1)\t1\n",
            "  (3, 3)\t1\n",
            "  (3, 5)\t1\n",
            "  (3, 6)\t1\n",
            "  (3, 13)\t1\n"
          ],
          "name": "stdout"
        }
      ]
    },
    {
      "cell_type": "code",
      "metadata": {
        "colab": {
          "base_uri": "https://localhost:8080/"
        },
        "id": "C_E5pEuPQZxX",
        "outputId": "072385e3-28a5-4807-c51d-f2ab88294327"
      },
      "source": [
        "print(\"Encoded Document is:\")\n",
        "print(vector.toarray())"
      ],
      "execution_count": 1027,
      "outputs": [
        {
          "output_type": "stream",
          "text": [
            "Encoded Document is:\n",
            "[[1 0 1 0 0 0 1 0 0 0 0 1 0 1 1]\n",
            " [0 0 0 0 1 0 1 1 0 1 0 0 0 1 1]\n",
            " [0 0 0 0 0 0 1 0 1 0 1 0 1 1 0]\n",
            " [0 1 0 1 0 1 1 0 0 0 0 0 0 1 0]]\n"
          ],
          "name": "stdout"
        }
      ]
    },
    {
      "cell_type": "code",
      "metadata": {
        "colab": {
          "base_uri": "https://localhost:8080/",
          "height": 175
        },
        "id": "WYBODwYMdkqH",
        "outputId": "9204a9e2-175b-4f34-8285-d3d376bebc98"
      },
      "source": [
        "\n",
        "# Use the content column instead of our single text variable\n",
        "matrix = count_vec.fit_transform(corpus)\n",
        "counts = pd.DataFrame(matrix.toarray(), index=['doc1','doc2', 'doc3', 'doc4'],columns=count_vec.get_feature_names())\n",
        "counts"
      ],
      "execution_count": 1028,
      "outputs": [
        {
          "output_type": "execute_result",
          "data": {
            "text/html": [
              "<div>\n",
              "<style scoped>\n",
              "    .dataframe tbody tr th:only-of-type {\n",
              "        vertical-align: middle;\n",
              "    }\n",
              "\n",
              "    .dataframe tbody tr th {\n",
              "        vertical-align: top;\n",
              "    }\n",
              "\n",
              "    .dataframe thead th {\n",
              "        text-align: right;\n",
              "    }\n",
              "</style>\n",
              "<table border=\"1\" class=\"dataframe\">\n",
              "  <thead>\n",
              "    <tr style=\"text-align: right;\">\n",
              "      <th></th>\n",
              "      <th>about</th>\n",
              "      <th>competitions</th>\n",
              "      <th>data</th>\n",
              "      <th>entering</th>\n",
              "      <th>for</th>\n",
              "      <th>kaggle</th>\n",
              "      <th>loves</th>\n",
              "      <th>medium</th>\n",
              "      <th>programming</th>\n",
              "      <th>publications</th>\n",
              "      <th>python</th>\n",
              "      <th>science</th>\n",
              "      <th>studying</th>\n",
              "      <th>tracy</th>\n",
              "      <th>writing</th>\n",
              "    </tr>\n",
              "  </thead>\n",
              "  <tbody>\n",
              "    <tr>\n",
              "      <th>doc1</th>\n",
              "      <td>1</td>\n",
              "      <td>0</td>\n",
              "      <td>1</td>\n",
              "      <td>0</td>\n",
              "      <td>0</td>\n",
              "      <td>0</td>\n",
              "      <td>1</td>\n",
              "      <td>0</td>\n",
              "      <td>0</td>\n",
              "      <td>0</td>\n",
              "      <td>0</td>\n",
              "      <td>1</td>\n",
              "      <td>0</td>\n",
              "      <td>1</td>\n",
              "      <td>1</td>\n",
              "    </tr>\n",
              "    <tr>\n",
              "      <th>doc2</th>\n",
              "      <td>0</td>\n",
              "      <td>0</td>\n",
              "      <td>0</td>\n",
              "      <td>0</td>\n",
              "      <td>1</td>\n",
              "      <td>0</td>\n",
              "      <td>1</td>\n",
              "      <td>1</td>\n",
              "      <td>0</td>\n",
              "      <td>1</td>\n",
              "      <td>0</td>\n",
              "      <td>0</td>\n",
              "      <td>0</td>\n",
              "      <td>1</td>\n",
              "      <td>1</td>\n",
              "    </tr>\n",
              "    <tr>\n",
              "      <th>doc3</th>\n",
              "      <td>0</td>\n",
              "      <td>0</td>\n",
              "      <td>0</td>\n",
              "      <td>0</td>\n",
              "      <td>0</td>\n",
              "      <td>0</td>\n",
              "      <td>1</td>\n",
              "      <td>0</td>\n",
              "      <td>1</td>\n",
              "      <td>0</td>\n",
              "      <td>1</td>\n",
              "      <td>0</td>\n",
              "      <td>1</td>\n",
              "      <td>1</td>\n",
              "      <td>0</td>\n",
              "    </tr>\n",
              "    <tr>\n",
              "      <th>doc4</th>\n",
              "      <td>0</td>\n",
              "      <td>1</td>\n",
              "      <td>0</td>\n",
              "      <td>1</td>\n",
              "      <td>0</td>\n",
              "      <td>1</td>\n",
              "      <td>1</td>\n",
              "      <td>0</td>\n",
              "      <td>0</td>\n",
              "      <td>0</td>\n",
              "      <td>0</td>\n",
              "      <td>0</td>\n",
              "      <td>0</td>\n",
              "      <td>1</td>\n",
              "      <td>0</td>\n",
              "    </tr>\n",
              "  </tbody>\n",
              "</table>\n",
              "</div>"
            ],
            "text/plain": [
              "      about  competitions  data  entering  ...  science  studying  tracy  writing\n",
              "doc1      1             0     1         0  ...        1         0      1        1\n",
              "doc2      0             0     0         0  ...        0         0      1        1\n",
              "doc3      0             0     0         0  ...        0         1      1        0\n",
              "doc4      0             1     0         1  ...        0         0      1        0\n",
              "\n",
              "[4 rows x 15 columns]"
            ]
          },
          "metadata": {
            "tags": []
          },
          "execution_count": 1028
        }
      ]
    },
    {
      "cell_type": "markdown",
      "metadata": {
        "id": "j-lYBfVf4hvY"
      },
      "source": [
        "TfidfTransformer"
      ]
    },
    {
      "cell_type": "code",
      "metadata": {
        "colab": {
          "base_uri": "https://localhost:8080/"
        },
        "id": "ANqzSLa54kcY",
        "outputId": "76065c41-415f-4ec8-8b4d-aa2308e99acf"
      },
      "source": [
        "from sklearn.feature_extraction.text import TfidfTransformer \n",
        "\n",
        "tf_transformer = TfidfTransformer(use_idf=False).fit(matrix)\n",
        "word_count_vec_tf = tf_transformer.transform(matrix)\n",
        "word_count_vec_tf.shape"
      ],
      "execution_count": 1029,
      "outputs": [
        {
          "output_type": "execute_result",
          "data": {
            "text/plain": [
              "(4, 15)"
            ]
          },
          "metadata": {
            "tags": []
          },
          "execution_count": 1029
        }
      ]
    },
    {
      "cell_type": "code",
      "metadata": {
        "colab": {
          "base_uri": "https://localhost:8080/",
          "height": 195
        },
        "id": "VXBiYvTAB-BH",
        "outputId": "b38b8f8f-44ad-464f-bb09-7d1a1178e1bb"
      },
      "source": [
        "df1 = pd.DataFrame(word_count_vec_tf.toarray(),columns=count_vec.get_feature_names(),index=['doc1','doc2', 'doc3', 'doc4'])\n",
        "df1"
      ],
      "execution_count": 1030,
      "outputs": [
        {
          "output_type": "execute_result",
          "data": {
            "text/html": [
              "<div>\n",
              "<style scoped>\n",
              "    .dataframe tbody tr th:only-of-type {\n",
              "        vertical-align: middle;\n",
              "    }\n",
              "\n",
              "    .dataframe tbody tr th {\n",
              "        vertical-align: top;\n",
              "    }\n",
              "\n",
              "    .dataframe thead th {\n",
              "        text-align: right;\n",
              "    }\n",
              "</style>\n",
              "<table border=\"1\" class=\"dataframe\">\n",
              "  <thead>\n",
              "    <tr style=\"text-align: right;\">\n",
              "      <th></th>\n",
              "      <th>about</th>\n",
              "      <th>competitions</th>\n",
              "      <th>data</th>\n",
              "      <th>entering</th>\n",
              "      <th>for</th>\n",
              "      <th>kaggle</th>\n",
              "      <th>loves</th>\n",
              "      <th>medium</th>\n",
              "      <th>programming</th>\n",
              "      <th>publications</th>\n",
              "      <th>python</th>\n",
              "      <th>science</th>\n",
              "      <th>studying</th>\n",
              "      <th>tracy</th>\n",
              "      <th>writing</th>\n",
              "    </tr>\n",
              "  </thead>\n",
              "  <tbody>\n",
              "    <tr>\n",
              "      <th>doc1</th>\n",
              "      <td>0.408248</td>\n",
              "      <td>0.000000</td>\n",
              "      <td>0.408248</td>\n",
              "      <td>0.000000</td>\n",
              "      <td>0.000000</td>\n",
              "      <td>0.000000</td>\n",
              "      <td>0.408248</td>\n",
              "      <td>0.000000</td>\n",
              "      <td>0.000000</td>\n",
              "      <td>0.000000</td>\n",
              "      <td>0.000000</td>\n",
              "      <td>0.408248</td>\n",
              "      <td>0.000000</td>\n",
              "      <td>0.408248</td>\n",
              "      <td>0.408248</td>\n",
              "    </tr>\n",
              "    <tr>\n",
              "      <th>doc2</th>\n",
              "      <td>0.000000</td>\n",
              "      <td>0.000000</td>\n",
              "      <td>0.000000</td>\n",
              "      <td>0.000000</td>\n",
              "      <td>0.408248</td>\n",
              "      <td>0.000000</td>\n",
              "      <td>0.408248</td>\n",
              "      <td>0.408248</td>\n",
              "      <td>0.000000</td>\n",
              "      <td>0.408248</td>\n",
              "      <td>0.000000</td>\n",
              "      <td>0.000000</td>\n",
              "      <td>0.000000</td>\n",
              "      <td>0.408248</td>\n",
              "      <td>0.408248</td>\n",
              "    </tr>\n",
              "    <tr>\n",
              "      <th>doc3</th>\n",
              "      <td>0.000000</td>\n",
              "      <td>0.000000</td>\n",
              "      <td>0.000000</td>\n",
              "      <td>0.000000</td>\n",
              "      <td>0.000000</td>\n",
              "      <td>0.000000</td>\n",
              "      <td>0.447214</td>\n",
              "      <td>0.000000</td>\n",
              "      <td>0.447214</td>\n",
              "      <td>0.000000</td>\n",
              "      <td>0.447214</td>\n",
              "      <td>0.000000</td>\n",
              "      <td>0.447214</td>\n",
              "      <td>0.447214</td>\n",
              "      <td>0.000000</td>\n",
              "    </tr>\n",
              "    <tr>\n",
              "      <th>doc4</th>\n",
              "      <td>0.000000</td>\n",
              "      <td>0.447214</td>\n",
              "      <td>0.000000</td>\n",
              "      <td>0.447214</td>\n",
              "      <td>0.000000</td>\n",
              "      <td>0.447214</td>\n",
              "      <td>0.447214</td>\n",
              "      <td>0.000000</td>\n",
              "      <td>0.000000</td>\n",
              "      <td>0.000000</td>\n",
              "      <td>0.000000</td>\n",
              "      <td>0.000000</td>\n",
              "      <td>0.000000</td>\n",
              "      <td>0.447214</td>\n",
              "      <td>0.000000</td>\n",
              "    </tr>\n",
              "  </tbody>\n",
              "</table>\n",
              "</div>"
            ],
            "text/plain": [
              "         about  competitions      data  ...  studying     tracy   writing\n",
              "doc1  0.408248      0.000000  0.408248  ...  0.000000  0.408248  0.408248\n",
              "doc2  0.000000      0.000000  0.000000  ...  0.000000  0.408248  0.408248\n",
              "doc3  0.000000      0.000000  0.000000  ...  0.447214  0.447214  0.000000\n",
              "doc4  0.000000      0.447214  0.000000  ...  0.000000  0.447214  0.000000\n",
              "\n",
              "[4 rows x 15 columns]"
            ]
          },
          "metadata": {
            "tags": []
          },
          "execution_count": 1030
        }
      ]
    },
    {
      "cell_type": "code",
      "metadata": {
        "colab": {
          "base_uri": "https://localhost:8080/"
        },
        "id": "U7u9frpODXS5",
        "outputId": "dde2fabb-3ccf-4cd6-f226-7c934668bf9a"
      },
      "source": [
        "df1.shape"
      ],
      "execution_count": 1031,
      "outputs": [
        {
          "output_type": "execute_result",
          "data": {
            "text/plain": [
              "(4, 15)"
            ]
          },
          "metadata": {
            "tags": []
          },
          "execution_count": 1031
        }
      ]
    },
    {
      "cell_type": "code",
      "metadata": {
        "colab": {
          "base_uri": "https://localhost:8080/"
        },
        "id": "V8mxFx-YDa08",
        "outputId": "8bc0e8dd-e903-4d31-ee79-2d279fcb208f"
      },
      "source": [
        "df1.info()"
      ],
      "execution_count": 1032,
      "outputs": [
        {
          "output_type": "stream",
          "text": [
            "<class 'pandas.core.frame.DataFrame'>\n",
            "Index: 4 entries, doc1 to doc4\n",
            "Data columns (total 15 columns):\n",
            " #   Column        Non-Null Count  Dtype  \n",
            "---  ------        --------------  -----  \n",
            " 0   about         4 non-null      float64\n",
            " 1   competitions  4 non-null      float64\n",
            " 2   data          4 non-null      float64\n",
            " 3   entering      4 non-null      float64\n",
            " 4   for           4 non-null      float64\n",
            " 5   kaggle        4 non-null      float64\n",
            " 6   loves         4 non-null      float64\n",
            " 7   medium        4 non-null      float64\n",
            " 8   programming   4 non-null      float64\n",
            " 9   publications  4 non-null      float64\n",
            " 10  python        4 non-null      float64\n",
            " 11  science       4 non-null      float64\n",
            " 12  studying      4 non-null      float64\n",
            " 13  tracy         4 non-null      float64\n",
            " 14  writing       4 non-null      float64\n",
            "dtypes: float64(15)\n",
            "memory usage: 512.0+ bytes\n"
          ],
          "name": "stdout"
        }
      ]
    },
    {
      "cell_type": "markdown",
      "metadata": {
        "id": "GQfgdBBmtod1"
      },
      "source": [
        "Cosine similarity - sklearn"
      ]
    },
    {
      "cell_type": "code",
      "metadata": {
        "colab": {
          "base_uri": "https://localhost:8080/"
        },
        "id": "Dv-7SiOvtrrN",
        "outputId": "650e54a2-65d5-44b2-8893-dde1f6ccf2e8"
      },
      "source": [
        "from sklearn.metrics.pairwise import cosine_similarity\n",
        "\n",
        "cosine_similarity(df1[0:1], df1)"
      ],
      "execution_count": 1033,
      "outputs": [
        {
          "output_type": "execute_result",
          "data": {
            "text/plain": [
              "array([[1.        , 0.5       , 0.36514837, 0.36514837]])"
            ]
          },
          "metadata": {
            "tags": []
          },
          "execution_count": 1033
        }
      ]
    }
  ]
}