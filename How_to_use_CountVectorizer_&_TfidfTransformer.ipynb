{
  "nbformat": 4,
  "nbformat_minor": 0,
  "metadata": {
    "colab": {
      "name": "How to use CountVectorizer & TfidfTransformer.ipynb",
      "provenance": []
    },
    "kernelspec": {
      "name": "python3",
      "display_name": "Python 3"
    },
    "language_info": {
      "name": "python"
    }
  },
  "cells": [
    {
      "cell_type": "markdown",
      "metadata": {
        "id": "ZxyshVJaL9oE"
      },
      "source": [
        "Import"
      ]
    },
    {
      "cell_type": "code",
      "metadata": {
        "id": "8xaR52ZeLpQu"
      },
      "source": [
        "import pandas as pd\n",
        "import numpy as np"
      ],
      "execution_count": 35,
      "outputs": []
    },
    {
      "cell_type": "markdown",
      "metadata": {
        "id": "yQK1rpU_gPhI"
      },
      "source": [
        "Load file"
      ]
    },
    {
      "cell_type": "code",
      "metadata": {
        "id": "izn48HX9gSDJ"
      },
      "source": [
        "text1 ='''Tracy loves writing about data science.'''"
      ],
      "execution_count": 36,
      "outputs": []
    },
    {
      "cell_type": "code",
      "metadata": {
        "id": "yMq7Sh9Qjh6D"
      },
      "source": [
        "text2 = '''Tracy loves writing for medium publications.'''"
      ],
      "execution_count": 37,
      "outputs": []
    },
    {
      "cell_type": "code",
      "metadata": {
        "id": "yFT7Rf5vNoEM"
      },
      "source": [
        "text3 = '''Tracy loves studying Python programming.'''"
      ],
      "execution_count": 38,
      "outputs": []
    },
    {
      "cell_type": "code",
      "metadata": {
        "id": "zvfN2SY_Nyn1"
      },
      "source": [
        "text4 = '''Tracy loves entering Kaggle competitions.'''"
      ],
      "execution_count": 39,
      "outputs": []
    },
    {
      "cell_type": "markdown",
      "metadata": {
        "id": "ypT6KrFisQ-y"
      },
      "source": [
        "Corpus"
      ]
    },
    {
      "cell_type": "code",
      "metadata": {
        "id": "IVTBfWNIsTJg",
        "colab": {
          "base_uri": "https://localhost:8080/"
        },
        "outputId": "0113b575-22ef-4962-a196-d477d0271494"
      },
      "source": [
        "corpus = [text1, text2, text3, text4]\n",
        "corpus"
      ],
      "execution_count": 40,
      "outputs": [
        {
          "output_type": "execute_result",
          "data": {
            "text/plain": [
              "['Tracy loves writing about data science.',\n",
              " 'Tracy loves writing for medium publications.',\n",
              " 'Tracy loves studying Python programming.',\n",
              " 'Tracy loves entering Kaggle competitions.']"
            ]
          },
          "metadata": {
            "tags": []
          },
          "execution_count": 40
        }
      ]
    },
    {
      "cell_type": "markdown",
      "metadata": {
        "id": "EqYSlFk_hXBt"
      },
      "source": [
        "CounterVectorizer"
      ]
    },
    {
      "cell_type": "code",
      "metadata": {
        "id": "yftIa0Lxskbs",
        "colab": {
          "base_uri": "https://localhost:8080/"
        },
        "outputId": "d54e2a51-6e2b-4a3c-e0f8-b311d8beaae8"
      },
      "source": [
        "\n",
        "from sklearn.feature_extraction.text import CountVectorizer\n",
        "\n",
        "count_vec = CountVectorizer()\n",
        "\n",
        "word_count_vec = count_vec.fit_transform(corpus)\n",
        "word_count_vec.shape"
      ],
      "execution_count": 41,
      "outputs": [
        {
          "output_type": "execute_result",
          "data": {
            "text/plain": [
              "(4, 15)"
            ]
          },
          "metadata": {
            "tags": []
          },
          "execution_count": 41
        }
      ]
    },
    {
      "cell_type": "markdown",
      "metadata": {
        "id": "klYn6_hSPKil"
      },
      "source": [
        "Print vocabulary"
      ]
    },
    {
      "cell_type": "code",
      "metadata": {
        "colab": {
          "base_uri": "https://localhost:8080/"
        },
        "id": "7kNfL6HASZfF",
        "outputId": "186d1341-b6e9-40e9-a8c9-e5a40938609a"
      },
      "source": [
        "print(count_vec.get_feature_names())"
      ],
      "execution_count": 42,
      "outputs": [
        {
          "output_type": "stream",
          "text": [
            "['about', 'competitions', 'data', 'entering', 'for', 'kaggle', 'loves', 'medium', 'programming', 'publications', 'python', 'science', 'studying', 'tracy', 'writing']\n"
          ],
          "name": "stdout"
        }
      ]
    },
    {
      "cell_type": "code",
      "metadata": {
        "colab": {
          "base_uri": "https://localhost:8080/"
        },
        "id": "LtpUFSYTPMmH",
        "outputId": "94b939e7-b33c-4ab6-9886-ebeabe198216"
      },
      "source": [
        "print(\"Vocabulary: \", count_vec.vocabulary_)"
      ],
      "execution_count": 43,
      "outputs": [
        {
          "output_type": "stream",
          "text": [
            "Vocabulary:  {'tracy': 13, 'loves': 6, 'writing': 14, 'about': 0, 'data': 2, 'science': 11, 'for': 4, 'medium': 7, 'publications': 9, 'studying': 12, 'python': 10, 'programming': 8, 'entering': 3, 'kaggle': 5, 'competitions': 1}\n"
          ],
          "name": "stdout"
        }
      ]
    },
    {
      "cell_type": "code",
      "metadata": {
        "colab": {
          "base_uri": "https://localhost:8080/"
        },
        "id": "306Fh4bZStDy",
        "outputId": "cf118fe3-d878-4bf7-9d15-f48c764b9b2e"
      },
      "source": [
        "print(word_count_vec.toarray())"
      ],
      "execution_count": 44,
      "outputs": [
        {
          "output_type": "stream",
          "text": [
            "[[1 0 1 0 0 0 1 0 0 0 0 1 0 1 1]\n",
            " [0 0 0 0 1 0 1 1 0 1 0 0 0 1 1]\n",
            " [0 0 0 0 0 0 1 0 1 0 1 0 1 1 0]\n",
            " [0 1 0 1 0 1 1 0 0 0 0 0 0 1 0]]\n"
          ],
          "name": "stdout"
        }
      ]
    },
    {
      "cell_type": "markdown",
      "metadata": {
        "id": "7LpFuWVoPnce"
      },
      "source": [
        "Encode document"
      ]
    },
    {
      "cell_type": "code",
      "metadata": {
        "colab": {
          "base_uri": "https://localhost:8080/"
        },
        "id": "MKzgtzXPPt5p",
        "outputId": "1350322c-16a6-40d8-a90e-5d49bdfe51d8"
      },
      "source": [
        "vector = count_vec.transform(corpus)\n",
        "print(vector)"
      ],
      "execution_count": 45,
      "outputs": [
        {
          "output_type": "stream",
          "text": [
            "  (0, 0)\t1\n",
            "  (0, 2)\t1\n",
            "  (0, 6)\t1\n",
            "  (0, 11)\t1\n",
            "  (0, 13)\t1\n",
            "  (0, 14)\t1\n",
            "  (1, 4)\t1\n",
            "  (1, 6)\t1\n",
            "  (1, 7)\t1\n",
            "  (1, 9)\t1\n",
            "  (1, 13)\t1\n",
            "  (1, 14)\t1\n",
            "  (2, 6)\t1\n",
            "  (2, 8)\t1\n",
            "  (2, 10)\t1\n",
            "  (2, 12)\t1\n",
            "  (2, 13)\t1\n",
            "  (3, 1)\t1\n",
            "  (3, 3)\t1\n",
            "  (3, 5)\t1\n",
            "  (3, 6)\t1\n",
            "  (3, 13)\t1\n"
          ],
          "name": "stdout"
        }
      ]
    },
    {
      "cell_type": "code",
      "metadata": {
        "colab": {
          "base_uri": "https://localhost:8080/"
        },
        "id": "C_E5pEuPQZxX",
        "outputId": "fc7488f0-5a3f-4518-9cb6-8e136add9d5b"
      },
      "source": [
        "print(\"Encoded Document is:\")\n",
        "print(vector.toarray())"
      ],
      "execution_count": 46,
      "outputs": [
        {
          "output_type": "stream",
          "text": [
            "Encoded Document is:\n",
            "[[1 0 1 0 0 0 1 0 0 0 0 1 0 1 1]\n",
            " [0 0 0 0 1 0 1 1 0 1 0 0 0 1 1]\n",
            " [0 0 0 0 0 0 1 0 1 0 1 0 1 1 0]\n",
            " [0 1 0 1 0 1 1 0 0 0 0 0 0 1 0]]\n"
          ],
          "name": "stdout"
        }
      ]
    },
    {
      "cell_type": "code",
      "metadata": {
        "colab": {
          "base_uri": "https://localhost:8080/",
          "height": 175
        },
        "id": "WYBODwYMdkqH",
        "outputId": "efd500d7-e7bb-4228-ac59-1ddfda51e830"
      },
      "source": [
        "\n",
        "# Use the content column instead of our single text variable\n",
        "matrix = count_vec.fit_transform(corpus)\n",
        "counts = pd.DataFrame(matrix.toarray(), index=['doc1','doc2', 'doc3', 'doc4'],columns=count_vec.get_feature_names())\n",
        "counts"
      ],
      "execution_count": 47,
      "outputs": [
        {
          "output_type": "execute_result",
          "data": {
            "text/html": [
              "<div>\n",
              "<style scoped>\n",
              "    .dataframe tbody tr th:only-of-type {\n",
              "        vertical-align: middle;\n",
              "    }\n",
              "\n",
              "    .dataframe tbody tr th {\n",
              "        vertical-align: top;\n",
              "    }\n",
              "\n",
              "    .dataframe thead th {\n",
              "        text-align: right;\n",
              "    }\n",
              "</style>\n",
              "<table border=\"1\" class=\"dataframe\">\n",
              "  <thead>\n",
              "    <tr style=\"text-align: right;\">\n",
              "      <th></th>\n",
              "      <th>about</th>\n",
              "      <th>competitions</th>\n",
              "      <th>data</th>\n",
              "      <th>entering</th>\n",
              "      <th>for</th>\n",
              "      <th>kaggle</th>\n",
              "      <th>loves</th>\n",
              "      <th>medium</th>\n",
              "      <th>programming</th>\n",
              "      <th>publications</th>\n",
              "      <th>python</th>\n",
              "      <th>science</th>\n",
              "      <th>studying</th>\n",
              "      <th>tracy</th>\n",
              "      <th>writing</th>\n",
              "    </tr>\n",
              "  </thead>\n",
              "  <tbody>\n",
              "    <tr>\n",
              "      <th>doc1</th>\n",
              "      <td>1</td>\n",
              "      <td>0</td>\n",
              "      <td>1</td>\n",
              "      <td>0</td>\n",
              "      <td>0</td>\n",
              "      <td>0</td>\n",
              "      <td>1</td>\n",
              "      <td>0</td>\n",
              "      <td>0</td>\n",
              "      <td>0</td>\n",
              "      <td>0</td>\n",
              "      <td>1</td>\n",
              "      <td>0</td>\n",
              "      <td>1</td>\n",
              "      <td>1</td>\n",
              "    </tr>\n",
              "    <tr>\n",
              "      <th>doc2</th>\n",
              "      <td>0</td>\n",
              "      <td>0</td>\n",
              "      <td>0</td>\n",
              "      <td>0</td>\n",
              "      <td>1</td>\n",
              "      <td>0</td>\n",
              "      <td>1</td>\n",
              "      <td>1</td>\n",
              "      <td>0</td>\n",
              "      <td>1</td>\n",
              "      <td>0</td>\n",
              "      <td>0</td>\n",
              "      <td>0</td>\n",
              "      <td>1</td>\n",
              "      <td>1</td>\n",
              "    </tr>\n",
              "    <tr>\n",
              "      <th>doc3</th>\n",
              "      <td>0</td>\n",
              "      <td>0</td>\n",
              "      <td>0</td>\n",
              "      <td>0</td>\n",
              "      <td>0</td>\n",
              "      <td>0</td>\n",
              "      <td>1</td>\n",
              "      <td>0</td>\n",
              "      <td>1</td>\n",
              "      <td>0</td>\n",
              "      <td>1</td>\n",
              "      <td>0</td>\n",
              "      <td>1</td>\n",
              "      <td>1</td>\n",
              "      <td>0</td>\n",
              "    </tr>\n",
              "    <tr>\n",
              "      <th>doc4</th>\n",
              "      <td>0</td>\n",
              "      <td>1</td>\n",
              "      <td>0</td>\n",
              "      <td>1</td>\n",
              "      <td>0</td>\n",
              "      <td>1</td>\n",
              "      <td>1</td>\n",
              "      <td>0</td>\n",
              "      <td>0</td>\n",
              "      <td>0</td>\n",
              "      <td>0</td>\n",
              "      <td>0</td>\n",
              "      <td>0</td>\n",
              "      <td>1</td>\n",
              "      <td>0</td>\n",
              "    </tr>\n",
              "  </tbody>\n",
              "</table>\n",
              "</div>"
            ],
            "text/plain": [
              "      about  competitions  data  entering  ...  science  studying  tracy  writing\n",
              "doc1      1             0     1         0  ...        1         0      1        1\n",
              "doc2      0             0     0         0  ...        0         0      1        1\n",
              "doc3      0             0     0         0  ...        0         1      1        0\n",
              "doc4      0             1     0         1  ...        0         0      1        0\n",
              "\n",
              "[4 rows x 15 columns]"
            ]
          },
          "metadata": {
            "tags": []
          },
          "execution_count": 47
        }
      ]
    },
    {
      "cell_type": "markdown",
      "metadata": {
        "id": "j-lYBfVf4hvY"
      },
      "source": [
        "TfidfTransformer"
      ]
    },
    {
      "cell_type": "code",
      "metadata": {
        "colab": {
          "base_uri": "https://localhost:8080/"
        },
        "id": "ANqzSLa54kcY",
        "outputId": "8b0e51dc-857c-492a-c6fd-4efa48c4c3d9"
      },
      "source": [
        "from sklearn.feature_extraction.text import TfidfTransformer \n",
        "\n",
        "tf_transformer = TfidfTransformer(use_idf=True).fit(matrix)\n",
        "word_count_vec_tf = tf_transformer.transform(matrix)\n",
        "word_count_vec_tf.shape"
      ],
      "execution_count": 48,
      "outputs": [
        {
          "output_type": "execute_result",
          "data": {
            "text/plain": [
              "(4, 15)"
            ]
          },
          "metadata": {
            "tags": []
          },
          "execution_count": 48
        }
      ]
    },
    {
      "cell_type": "code",
      "metadata": {
        "colab": {
          "base_uri": "https://localhost:8080/",
          "height": 195
        },
        "id": "VXBiYvTAB-BH",
        "outputId": "3beab483-26a3-47f8-f9ff-5b43b0df09a7"
      },
      "source": [
        "df1 = pd.DataFrame(word_count_vec_tf.toarray(),columns=count_vec.get_feature_names(),index=['doc1','doc2', 'doc3', 'doc4'])\n",
        "df1"
      ],
      "execution_count": 49,
      "outputs": [
        {
          "output_type": "execute_result",
          "data": {
            "text/html": [
              "<div>\n",
              "<style scoped>\n",
              "    .dataframe tbody tr th:only-of-type {\n",
              "        vertical-align: middle;\n",
              "    }\n",
              "\n",
              "    .dataframe tbody tr th {\n",
              "        vertical-align: top;\n",
              "    }\n",
              "\n",
              "    .dataframe thead th {\n",
              "        text-align: right;\n",
              "    }\n",
              "</style>\n",
              "<table border=\"1\" class=\"dataframe\">\n",
              "  <thead>\n",
              "    <tr style=\"text-align: right;\">\n",
              "      <th></th>\n",
              "      <th>about</th>\n",
              "      <th>competitions</th>\n",
              "      <th>data</th>\n",
              "      <th>entering</th>\n",
              "      <th>for</th>\n",
              "      <th>kaggle</th>\n",
              "      <th>loves</th>\n",
              "      <th>medium</th>\n",
              "      <th>programming</th>\n",
              "      <th>publications</th>\n",
              "      <th>python</th>\n",
              "      <th>science</th>\n",
              "      <th>studying</th>\n",
              "      <th>tracy</th>\n",
              "      <th>writing</th>\n",
              "    </tr>\n",
              "  </thead>\n",
              "  <tbody>\n",
              "    <tr>\n",
              "      <th>doc1</th>\n",
              "      <td>0.489924</td>\n",
              "      <td>0.000000</td>\n",
              "      <td>0.489924</td>\n",
              "      <td>0.000000</td>\n",
              "      <td>0.000000</td>\n",
              "      <td>0.000000</td>\n",
              "      <td>0.255662</td>\n",
              "      <td>0.000000</td>\n",
              "      <td>0.000000</td>\n",
              "      <td>0.000000</td>\n",
              "      <td>0.000000</td>\n",
              "      <td>0.489924</td>\n",
              "      <td>0.000000</td>\n",
              "      <td>0.255662</td>\n",
              "      <td>0.386261</td>\n",
              "    </tr>\n",
              "    <tr>\n",
              "      <th>doc2</th>\n",
              "      <td>0.000000</td>\n",
              "      <td>0.000000</td>\n",
              "      <td>0.000000</td>\n",
              "      <td>0.000000</td>\n",
              "      <td>0.489924</td>\n",
              "      <td>0.000000</td>\n",
              "      <td>0.255662</td>\n",
              "      <td>0.489924</td>\n",
              "      <td>0.000000</td>\n",
              "      <td>0.489924</td>\n",
              "      <td>0.000000</td>\n",
              "      <td>0.000000</td>\n",
              "      <td>0.000000</td>\n",
              "      <td>0.255662</td>\n",
              "      <td>0.386261</td>\n",
              "    </tr>\n",
              "    <tr>\n",
              "      <th>doc3</th>\n",
              "      <td>0.000000</td>\n",
              "      <td>0.000000</td>\n",
              "      <td>0.000000</td>\n",
              "      <td>0.000000</td>\n",
              "      <td>0.000000</td>\n",
              "      <td>0.000000</td>\n",
              "      <td>0.277174</td>\n",
              "      <td>0.000000</td>\n",
              "      <td>0.531146</td>\n",
              "      <td>0.000000</td>\n",
              "      <td>0.531146</td>\n",
              "      <td>0.000000</td>\n",
              "      <td>0.531146</td>\n",
              "      <td>0.277174</td>\n",
              "      <td>0.000000</td>\n",
              "    </tr>\n",
              "    <tr>\n",
              "      <th>doc4</th>\n",
              "      <td>0.000000</td>\n",
              "      <td>0.531146</td>\n",
              "      <td>0.000000</td>\n",
              "      <td>0.531146</td>\n",
              "      <td>0.000000</td>\n",
              "      <td>0.531146</td>\n",
              "      <td>0.277174</td>\n",
              "      <td>0.000000</td>\n",
              "      <td>0.000000</td>\n",
              "      <td>0.000000</td>\n",
              "      <td>0.000000</td>\n",
              "      <td>0.000000</td>\n",
              "      <td>0.000000</td>\n",
              "      <td>0.277174</td>\n",
              "      <td>0.000000</td>\n",
              "    </tr>\n",
              "  </tbody>\n",
              "</table>\n",
              "</div>"
            ],
            "text/plain": [
              "         about  competitions      data  ...  studying     tracy   writing\n",
              "doc1  0.489924      0.000000  0.489924  ...  0.000000  0.255662  0.386261\n",
              "doc2  0.000000      0.000000  0.000000  ...  0.000000  0.255662  0.386261\n",
              "doc3  0.000000      0.000000  0.000000  ...  0.531146  0.277174  0.000000\n",
              "doc4  0.000000      0.531146  0.000000  ...  0.000000  0.277174  0.000000\n",
              "\n",
              "[4 rows x 15 columns]"
            ]
          },
          "metadata": {
            "tags": []
          },
          "execution_count": 49
        }
      ]
    },
    {
      "cell_type": "code",
      "metadata": {
        "colab": {
          "base_uri": "https://localhost:8080/"
        },
        "id": "U7u9frpODXS5",
        "outputId": "a28bc9d7-b974-46a7-b690-75a72147514e"
      },
      "source": [
        "df1.shape"
      ],
      "execution_count": 50,
      "outputs": [
        {
          "output_type": "execute_result",
          "data": {
            "text/plain": [
              "(4, 15)"
            ]
          },
          "metadata": {
            "tags": []
          },
          "execution_count": 50
        }
      ]
    },
    {
      "cell_type": "code",
      "metadata": {
        "colab": {
          "base_uri": "https://localhost:8080/"
        },
        "id": "V8mxFx-YDa08",
        "outputId": "9d3dbc8e-cd64-4236-f3e8-853087a7a8ae"
      },
      "source": [
        "df1.info()"
      ],
      "execution_count": 51,
      "outputs": [
        {
          "output_type": "stream",
          "text": [
            "<class 'pandas.core.frame.DataFrame'>\n",
            "Index: 4 entries, doc1 to doc4\n",
            "Data columns (total 15 columns):\n",
            " #   Column        Non-Null Count  Dtype  \n",
            "---  ------        --------------  -----  \n",
            " 0   about         4 non-null      float64\n",
            " 1   competitions  4 non-null      float64\n",
            " 2   data          4 non-null      float64\n",
            " 3   entering      4 non-null      float64\n",
            " 4   for           4 non-null      float64\n",
            " 5   kaggle        4 non-null      float64\n",
            " 6   loves         4 non-null      float64\n",
            " 7   medium        4 non-null      float64\n",
            " 8   programming   4 non-null      float64\n",
            " 9   publications  4 non-null      float64\n",
            " 10  python        4 non-null      float64\n",
            " 11  science       4 non-null      float64\n",
            " 12  studying      4 non-null      float64\n",
            " 13  tracy         4 non-null      float64\n",
            " 14  writing       4 non-null      float64\n",
            "dtypes: float64(15)\n",
            "memory usage: 512.0+ bytes\n"
          ],
          "name": "stdout"
        }
      ]
    },
    {
      "cell_type": "markdown",
      "metadata": {
        "id": "GQfgdBBmtod1"
      },
      "source": [
        "Cosine similarity - sklearn"
      ]
    },
    {
      "cell_type": "code",
      "metadata": {
        "colab": {
          "base_uri": "https://localhost:8080/"
        },
        "id": "Dv-7SiOvtrrN",
        "outputId": "4a6e8f59-152d-49ac-c118-1fc035010177"
      },
      "source": [
        "from sklearn.metrics.pairwise import cosine_similarity\n",
        "\n",
        "cosine_similarity(df1[0:1], df1)"
      ],
      "execution_count": 52,
      "outputs": [
        {
          "output_type": "execute_result",
          "data": {
            "text/plain": [
              "array([[1.        , 0.27992449, 0.14172606, 0.14172606]])"
            ]
          },
          "metadata": {
            "tags": []
          },
          "execution_count": 52
        }
      ]
    },
    {
      "cell_type": "markdown",
      "metadata": {
        "id": "MKhLyXLTndNs"
      },
      "source": [
        "TfidfVectorizer"
      ]
    },
    {
      "cell_type": "code",
      "metadata": {
        "colab": {
          "base_uri": "https://localhost:8080/",
          "height": 195
        },
        "id": "31hufoRIngJv",
        "outputId": "1305d702-8285-4bdb-e01a-59399ccfb7ee"
      },
      "source": [
        "from sklearn.feature_extraction.text import TfidfVectorizer\n",
        "\n",
        "vectorizer = TfidfVectorizer()\n",
        "trsfm=vectorizer.fit_transform(corpus)\n",
        "pd.DataFrame(trsfm.toarray(),columns=vectorizer.get_feature_names(),index=['doc1','doc2', 'doc3', 'doc4'])"
      ],
      "execution_count": 53,
      "outputs": [
        {
          "output_type": "execute_result",
          "data": {
            "text/html": [
              "<div>\n",
              "<style scoped>\n",
              "    .dataframe tbody tr th:only-of-type {\n",
              "        vertical-align: middle;\n",
              "    }\n",
              "\n",
              "    .dataframe tbody tr th {\n",
              "        vertical-align: top;\n",
              "    }\n",
              "\n",
              "    .dataframe thead th {\n",
              "        text-align: right;\n",
              "    }\n",
              "</style>\n",
              "<table border=\"1\" class=\"dataframe\">\n",
              "  <thead>\n",
              "    <tr style=\"text-align: right;\">\n",
              "      <th></th>\n",
              "      <th>about</th>\n",
              "      <th>competitions</th>\n",
              "      <th>data</th>\n",
              "      <th>entering</th>\n",
              "      <th>for</th>\n",
              "      <th>kaggle</th>\n",
              "      <th>loves</th>\n",
              "      <th>medium</th>\n",
              "      <th>programming</th>\n",
              "      <th>publications</th>\n",
              "      <th>python</th>\n",
              "      <th>science</th>\n",
              "      <th>studying</th>\n",
              "      <th>tracy</th>\n",
              "      <th>writing</th>\n",
              "    </tr>\n",
              "  </thead>\n",
              "  <tbody>\n",
              "    <tr>\n",
              "      <th>doc1</th>\n",
              "      <td>0.489924</td>\n",
              "      <td>0.000000</td>\n",
              "      <td>0.489924</td>\n",
              "      <td>0.000000</td>\n",
              "      <td>0.000000</td>\n",
              "      <td>0.000000</td>\n",
              "      <td>0.255662</td>\n",
              "      <td>0.000000</td>\n",
              "      <td>0.000000</td>\n",
              "      <td>0.000000</td>\n",
              "      <td>0.000000</td>\n",
              "      <td>0.489924</td>\n",
              "      <td>0.000000</td>\n",
              "      <td>0.255662</td>\n",
              "      <td>0.386261</td>\n",
              "    </tr>\n",
              "    <tr>\n",
              "      <th>doc2</th>\n",
              "      <td>0.000000</td>\n",
              "      <td>0.000000</td>\n",
              "      <td>0.000000</td>\n",
              "      <td>0.000000</td>\n",
              "      <td>0.489924</td>\n",
              "      <td>0.000000</td>\n",
              "      <td>0.255662</td>\n",
              "      <td>0.489924</td>\n",
              "      <td>0.000000</td>\n",
              "      <td>0.489924</td>\n",
              "      <td>0.000000</td>\n",
              "      <td>0.000000</td>\n",
              "      <td>0.000000</td>\n",
              "      <td>0.255662</td>\n",
              "      <td>0.386261</td>\n",
              "    </tr>\n",
              "    <tr>\n",
              "      <th>doc3</th>\n",
              "      <td>0.000000</td>\n",
              "      <td>0.000000</td>\n",
              "      <td>0.000000</td>\n",
              "      <td>0.000000</td>\n",
              "      <td>0.000000</td>\n",
              "      <td>0.000000</td>\n",
              "      <td>0.277174</td>\n",
              "      <td>0.000000</td>\n",
              "      <td>0.531146</td>\n",
              "      <td>0.000000</td>\n",
              "      <td>0.531146</td>\n",
              "      <td>0.000000</td>\n",
              "      <td>0.531146</td>\n",
              "      <td>0.277174</td>\n",
              "      <td>0.000000</td>\n",
              "    </tr>\n",
              "    <tr>\n",
              "      <th>doc4</th>\n",
              "      <td>0.000000</td>\n",
              "      <td>0.531146</td>\n",
              "      <td>0.000000</td>\n",
              "      <td>0.531146</td>\n",
              "      <td>0.000000</td>\n",
              "      <td>0.531146</td>\n",
              "      <td>0.277174</td>\n",
              "      <td>0.000000</td>\n",
              "      <td>0.000000</td>\n",
              "      <td>0.000000</td>\n",
              "      <td>0.000000</td>\n",
              "      <td>0.000000</td>\n",
              "      <td>0.000000</td>\n",
              "      <td>0.277174</td>\n",
              "      <td>0.000000</td>\n",
              "    </tr>\n",
              "  </tbody>\n",
              "</table>\n",
              "</div>"
            ],
            "text/plain": [
              "         about  competitions      data  ...  studying     tracy   writing\n",
              "doc1  0.489924      0.000000  0.489924  ...  0.000000  0.255662  0.386261\n",
              "doc2  0.000000      0.000000  0.000000  ...  0.000000  0.255662  0.386261\n",
              "doc3  0.000000      0.000000  0.000000  ...  0.531146  0.277174  0.000000\n",
              "doc4  0.000000      0.531146  0.000000  ...  0.000000  0.277174  0.000000\n",
              "\n",
              "[4 rows x 15 columns]"
            ]
          },
          "metadata": {
            "tags": []
          },
          "execution_count": 53
        }
      ]
    },
    {
      "cell_type": "markdown",
      "metadata": {
        "id": "NeWSzD1Xn03M"
      },
      "source": [
        "Cosine similarity"
      ]
    },
    {
      "cell_type": "code",
      "metadata": {
        "colab": {
          "base_uri": "https://localhost:8080/"
        },
        "id": "kPkv3G8an3-S",
        "outputId": "a3a7ee2d-66e0-4c14-981c-210373df8eb8"
      },
      "source": [
        "from sklearn.metrics.pairwise import cosine_similarity\n",
        "\n",
        "cosine_similarity(trsfm[0], trsfm)"
      ],
      "execution_count": 54,
      "outputs": [
        {
          "output_type": "execute_result",
          "data": {
            "text/plain": [
              "array([[1.        , 0.27992449, 0.14172606, 0.14172606]])"
            ]
          },
          "metadata": {
            "tags": []
          },
          "execution_count": 54
        }
      ]
    }
  ]
}