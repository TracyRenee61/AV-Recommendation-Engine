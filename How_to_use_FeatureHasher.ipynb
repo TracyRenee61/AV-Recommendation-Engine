{
  "nbformat": 4,
  "nbformat_minor": 0,
  "metadata": {
    "colab": {
      "name": "How to use FeatureHasher.ipynb",
      "provenance": []
    },
    "kernelspec": {
      "name": "python3",
      "display_name": "Python 3"
    },
    "language_info": {
      "name": "python"
    }
  },
  "cells": [
    {
      "cell_type": "markdown",
      "metadata": {
        "id": "DbHP1LBA1YyP"
      },
      "source": [
        "Import"
      ]
    },
    {
      "cell_type": "code",
      "metadata": {
        "id": "Fcvzb2Yi1SCy"
      },
      "source": [
        "import pandas as pd\n",
        "import numpy as np"
      ],
      "execution_count": 47,
      "outputs": []
    },
    {
      "cell_type": "markdown",
      "metadata": {
        "id": "oaOggbQJ1kQ-"
      },
      "source": [
        "Create dictionary"
      ]
    },
    {
      "cell_type": "code",
      "metadata": {
        "id": "TRC1W8a985bZ"
      },
      "source": [
        "my_map = {\"name\": \"name\", \"from\": \"from\", \"sex\": \"sex\", \"age\": \"age\"}"
      ],
      "execution_count": 48,
      "outputs": []
    },
    {
      "cell_type": "code",
      "metadata": {
        "id": "UbbJAN4D1okH"
      },
      "source": [
        " dict = [{'name': 'Tracy', 'from': 'Little Rock', 'sex':'female', 'age': 60},\n",
        "         {'name': 'Mike', 'from': 'Reading', 'sex':'male', 'age': 54},\n",
        "         {'name': 'Martina', 'from': 'Berlin', 'sex':'female', 'age':62},\n",
        "         {'name': 'Gerry', 'from':'Heerlen', 'sex':'female', 'age': 80},\n",
        "         {'name': 'Paz', 'from': 'Manila', 'sex':'female', 'age': 61},\n",
        "         {'name': 'Doug', 'from': 'Aberdeen', 'sex':'male', 'age': 55},\n",
        "         {'name': 'Jeff', 'from': 'Cardiff', 'sex':'male', 'age': 57},\n",
        "         {'name': 'Cindy', 'from':'Little Rock', 'sex': 'female', 'age':60},\n",
        "         {'name': 'Keith', 'from': 'Reading', 'sex': 'male', 'age':57},\n",
        "         {'name': 'Adrian', 'from': 'Tercera', 'sex': 'male', 'age': 38},\n",
        "         {'name': 'Katherine', 'from': 'Fayeteville', 'sex': 'female', 'age': 38}]\n"
      ],
      "execution_count": 49,
      "outputs": []
    },
    {
      "cell_type": "code",
      "metadata": {
        "colab": {
          "base_uri": "https://localhost:8080/"
        },
        "id": "aV5Mndpw8J-G",
        "outputId": "355d5c29-b1ca-46f5-9647-e5d4ead49345"
      },
      "source": [
        "df = pd.DataFrame(dict).rename(columns=my_map)\n",
        "print(df)"
      ],
      "execution_count": 50,
      "outputs": [
        {
          "output_type": "stream",
          "text": [
            "         name         from     sex  age\n",
            "0       Tracy  Little Rock  female   60\n",
            "1        Mike      Reading    male   54\n",
            "2     Martina       Berlin  female   62\n",
            "3       Gerry      Heerlen  female   80\n",
            "4         Paz       Manila  female   61\n",
            "5        Doug     Aberdeen    male   55\n",
            "6        Jeff      Cardiff    male   57\n",
            "7       Cindy  Little Rock  female   60\n",
            "8       Keith      Reading    male   57\n",
            "9      Adrian      Tercera    male   38\n",
            "10  Katherine  Fayeteville  female   38\n"
          ],
          "name": "stdout"
        }
      ]
    },
    {
      "cell_type": "markdown",
      "metadata": {
        "id": "9k30nd1W3ri5"
      },
      "source": [
        "Feature Hasher"
      ]
    },
    {
      "cell_type": "code",
      "metadata": {
        "colab": {
          "base_uri": "https://localhost:8080/"
        },
        "id": "8O60jl_y3vJo",
        "outputId": "290f6c01-7571-490d-82a9-78f4b3fd4fc1"
      },
      "source": [
        "from sklearn.feature_extraction import FeatureHasher\n",
        "\n",
        "hasher = FeatureHasher(n_features=10, alternate_sign=False)\n",
        "\n",
        "vectors = hasher.transform(dict)\n",
        "vectors"
      ],
      "execution_count": 51,
      "outputs": [
        {
          "output_type": "execute_result",
          "data": {
            "text/plain": [
              "<11x10 sparse matrix of type '<class 'numpy.float64'>'\n",
              "\twith 40 stored elements in Compressed Sparse Row format>"
            ]
          },
          "metadata": {},
          "execution_count": 51
        }
      ]
    },
    {
      "cell_type": "code",
      "metadata": {
        "colab": {
          "base_uri": "https://localhost:8080/"
        },
        "id": "WBfvBlptZZYq",
        "outputId": "49a0f8ac-0675-4808-95b7-d7bb0eecde51"
      },
      "source": [
        "vectors.shape"
      ],
      "execution_count": 52,
      "outputs": [
        {
          "output_type": "execute_result",
          "data": {
            "text/plain": [
              "(11, 10)"
            ]
          },
          "metadata": {},
          "execution_count": 52
        }
      ]
    },
    {
      "cell_type": "markdown",
      "metadata": {
        "id": "jlJZgm9dbpBn"
      },
      "source": [
        "Tfidf Transformer"
      ]
    },
    {
      "cell_type": "code",
      "metadata": {
        "colab": {
          "base_uri": "https://localhost:8080/"
        },
        "id": "J1HR1-13bsDP",
        "outputId": "bab73aad-d756-476c-f002-cd9e5fe88029"
      },
      "source": [
        "from sklearn.feature_extraction.text import TfidfTransformer \n",
        "\n",
        "tf_transformer = TfidfTransformer().fit(vectors)\n",
        "word_count_vec_tf = tf_transformer.transform(vectors)\n",
        "word_count_vec_tf.shape"
      ],
      "execution_count": 53,
      "outputs": [
        {
          "output_type": "execute_result",
          "data": {
            "text/plain": [
              "(11, 10)"
            ]
          },
          "metadata": {},
          "execution_count": 53
        }
      ]
    },
    {
      "cell_type": "code",
      "metadata": {
        "colab": {
          "base_uri": "https://localhost:8080/",
          "height": 394
        },
        "id": "ngU-lWKib3Cf",
        "outputId": "3be027e4-dea7-4bba-b345-e455b5a9a1b7"
      },
      "source": [
        "df0 = pd.DataFrame(word_count_vec_tf.toarray())\n",
        "df0"
      ],
      "execution_count": 54,
      "outputs": [
        {
          "output_type": "execute_result",
          "data": {
            "text/html": [
              "<div>\n",
              "<style scoped>\n",
              "    .dataframe tbody tr th:only-of-type {\n",
              "        vertical-align: middle;\n",
              "    }\n",
              "\n",
              "    .dataframe tbody tr th {\n",
              "        vertical-align: top;\n",
              "    }\n",
              "\n",
              "    .dataframe thead th {\n",
              "        text-align: right;\n",
              "    }\n",
              "</style>\n",
              "<table border=\"1\" class=\"dataframe\">\n",
              "  <thead>\n",
              "    <tr style=\"text-align: right;\">\n",
              "      <th></th>\n",
              "      <th>0</th>\n",
              "      <th>1</th>\n",
              "      <th>2</th>\n",
              "      <th>3</th>\n",
              "      <th>4</th>\n",
              "      <th>5</th>\n",
              "      <th>6</th>\n",
              "      <th>7</th>\n",
              "      <th>8</th>\n",
              "      <th>9</th>\n",
              "    </tr>\n",
              "  </thead>\n",
              "  <tbody>\n",
              "    <tr>\n",
              "      <th>0</th>\n",
              "      <td>0.000000</td>\n",
              "      <td>0.000000</td>\n",
              "      <td>0.025614</td>\n",
              "      <td>0.023392</td>\n",
              "      <td>0.000000</td>\n",
              "      <td>0.039716</td>\n",
              "      <td>0.000000</td>\n",
              "      <td>0.000000</td>\n",
              "      <td>0.000000</td>\n",
              "      <td>0.998609</td>\n",
              "    </tr>\n",
              "    <tr>\n",
              "      <th>1</th>\n",
              "      <td>0.000000</td>\n",
              "      <td>0.000000</td>\n",
              "      <td>0.056884</td>\n",
              "      <td>0.000000</td>\n",
              "      <td>0.000000</td>\n",
              "      <td>0.000000</td>\n",
              "      <td>0.000000</td>\n",
              "      <td>0.000000</td>\n",
              "      <td>0.028442</td>\n",
              "      <td>0.997976</td>\n",
              "    </tr>\n",
              "    <tr>\n",
              "      <th>2</th>\n",
              "      <td>0.000000</td>\n",
              "      <td>0.038438</td>\n",
              "      <td>0.024790</td>\n",
              "      <td>0.022639</td>\n",
              "      <td>0.000000</td>\n",
              "      <td>0.000000</td>\n",
              "      <td>0.000000</td>\n",
              "      <td>0.000000</td>\n",
              "      <td>0.000000</td>\n",
              "      <td>0.998697</td>\n",
              "    </tr>\n",
              "    <tr>\n",
              "      <th>3</th>\n",
              "      <td>0.000000</td>\n",
              "      <td>0.000000</td>\n",
              "      <td>0.000000</td>\n",
              "      <td>0.017341</td>\n",
              "      <td>0.000000</td>\n",
              "      <td>0.000000</td>\n",
              "      <td>0.000000</td>\n",
              "      <td>0.029443</td>\n",
              "      <td>0.000000</td>\n",
              "      <td>0.999416</td>\n",
              "    </tr>\n",
              "    <tr>\n",
              "      <th>4</th>\n",
              "      <td>0.000000</td>\n",
              "      <td>0.000000</td>\n",
              "      <td>0.000000</td>\n",
              "      <td>0.023003</td>\n",
              "      <td>0.045692</td>\n",
              "      <td>0.000000</td>\n",
              "      <td>0.000000</td>\n",
              "      <td>0.000000</td>\n",
              "      <td>0.025188</td>\n",
              "      <td>0.998373</td>\n",
              "    </tr>\n",
              "    <tr>\n",
              "      <th>5</th>\n",
              "      <td>0.043313</td>\n",
              "      <td>0.000000</td>\n",
              "      <td>0.027934</td>\n",
              "      <td>0.000000</td>\n",
              "      <td>0.000000</td>\n",
              "      <td>0.000000</td>\n",
              "      <td>0.000000</td>\n",
              "      <td>0.000000</td>\n",
              "      <td>0.027934</td>\n",
              "      <td>0.998280</td>\n",
              "    </tr>\n",
              "    <tr>\n",
              "      <th>6</th>\n",
              "      <td>0.041776</td>\n",
              "      <td>0.041776</td>\n",
              "      <td>0.000000</td>\n",
              "      <td>0.000000</td>\n",
              "      <td>0.000000</td>\n",
              "      <td>0.000000</td>\n",
              "      <td>0.000000</td>\n",
              "      <td>0.000000</td>\n",
              "      <td>0.026943</td>\n",
              "      <td>0.997890</td>\n",
              "    </tr>\n",
              "    <tr>\n",
              "      <th>7</th>\n",
              "      <td>0.000000</td>\n",
              "      <td>0.000000</td>\n",
              "      <td>0.025614</td>\n",
              "      <td>0.023392</td>\n",
              "      <td>0.000000</td>\n",
              "      <td>0.039716</td>\n",
              "      <td>0.000000</td>\n",
              "      <td>0.000000</td>\n",
              "      <td>0.000000</td>\n",
              "      <td>0.998609</td>\n",
              "    </tr>\n",
              "    <tr>\n",
              "      <th>8</th>\n",
              "      <td>0.000000</td>\n",
              "      <td>0.000000</td>\n",
              "      <td>0.026948</td>\n",
              "      <td>0.000000</td>\n",
              "      <td>0.000000</td>\n",
              "      <td>0.000000</td>\n",
              "      <td>0.048884</td>\n",
              "      <td>0.000000</td>\n",
              "      <td>0.026948</td>\n",
              "      <td>0.998077</td>\n",
              "    </tr>\n",
              "    <tr>\n",
              "      <th>9</th>\n",
              "      <td>0.000000</td>\n",
              "      <td>0.000000</td>\n",
              "      <td>0.000000</td>\n",
              "      <td>0.036858</td>\n",
              "      <td>0.000000</td>\n",
              "      <td>0.000000</td>\n",
              "      <td>0.000000</td>\n",
              "      <td>0.062580</td>\n",
              "      <td>0.040360</td>\n",
              "      <td>0.996542</td>\n",
              "    </tr>\n",
              "    <tr>\n",
              "      <th>10</th>\n",
              "      <td>0.000000</td>\n",
              "      <td>0.000000</td>\n",
              "      <td>0.000000</td>\n",
              "      <td>0.035115</td>\n",
              "      <td>0.000000</td>\n",
              "      <td>0.000000</td>\n",
              "      <td>0.000000</td>\n",
              "      <td>0.000000</td>\n",
              "      <td>0.000000</td>\n",
              "      <td>0.999383</td>\n",
              "    </tr>\n",
              "  </tbody>\n",
              "</table>\n",
              "</div>"
            ],
            "text/plain": [
              "           0         1         2  ...         7         8         9\n",
              "0   0.000000  0.000000  0.025614  ...  0.000000  0.000000  0.998609\n",
              "1   0.000000  0.000000  0.056884  ...  0.000000  0.028442  0.997976\n",
              "2   0.000000  0.038438  0.024790  ...  0.000000  0.000000  0.998697\n",
              "3   0.000000  0.000000  0.000000  ...  0.029443  0.000000  0.999416\n",
              "4   0.000000  0.000000  0.000000  ...  0.000000  0.025188  0.998373\n",
              "5   0.043313  0.000000  0.027934  ...  0.000000  0.027934  0.998280\n",
              "6   0.041776  0.041776  0.000000  ...  0.000000  0.026943  0.997890\n",
              "7   0.000000  0.000000  0.025614  ...  0.000000  0.000000  0.998609\n",
              "8   0.000000  0.000000  0.026948  ...  0.000000  0.026948  0.998077\n",
              "9   0.000000  0.000000  0.000000  ...  0.062580  0.040360  0.996542\n",
              "10  0.000000  0.000000  0.000000  ...  0.000000  0.000000  0.999383\n",
              "\n",
              "[11 rows x 10 columns]"
            ]
          },
          "metadata": {},
          "execution_count": 54
        }
      ]
    },
    {
      "cell_type": "markdown",
      "metadata": {
        "id": "n648sliMcA8Z"
      },
      "source": [
        "Sum values"
      ]
    },
    {
      "cell_type": "code",
      "metadata": {
        "colab": {
          "base_uri": "https://localhost:8080/"
        },
        "id": "wIPWM0fYcDi5",
        "outputId": "db7eb97f-aab0-4e92-abb8-7aa8a31eacef"
      },
      "source": [
        "df0_sum = df0.sum(axis=1)\n",
        "df0_sum"
      ],
      "execution_count": 55,
      "outputs": [
        {
          "output_type": "execute_result",
          "data": {
            "text/plain": [
              "0     1.087331\n",
              "1     1.083302\n",
              "2     1.084565\n",
              "3     1.046201\n",
              "4     1.092256\n",
              "5     1.097460\n",
              "6     1.108385\n",
              "7     1.087331\n",
              "8     1.100857\n",
              "9     1.136340\n",
              "10    1.034498\n",
              "dtype: float64"
            ]
          },
          "metadata": {},
          "execution_count": 55
        }
      ]
    }
  ]
}