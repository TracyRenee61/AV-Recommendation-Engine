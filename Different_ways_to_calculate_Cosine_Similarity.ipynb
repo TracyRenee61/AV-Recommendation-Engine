{
  "nbformat": 4,
  "nbformat_minor": 0,
  "metadata": {
    "colab": {
      "name": "Different ways to calculate Cosine_Similarity.ipynb",
      "provenance": []
    },
    "kernelspec": {
      "name": "python3",
      "display_name": "Python 3"
    },
    "language_info": {
      "name": "python"
    }
  },
  "cells": [
    {
      "cell_type": "markdown",
      "metadata": {
        "id": "ZxyshVJaL9oE"
      },
      "source": [
        "Import"
      ]
    },
    {
      "cell_type": "code",
      "metadata": {
        "id": "8xaR52ZeLpQu"
      },
      "source": [
        "import pandas as pd\n",
        "import numpy as np"
      ],
      "execution_count": 497,
      "outputs": []
    },
    {
      "cell_type": "markdown",
      "metadata": {
        "id": "yQK1rpU_gPhI"
      },
      "source": [
        "Load file"
      ]
    },
    {
      "cell_type": "code",
      "metadata": {
        "id": "izn48HX9gSDJ"
      },
      "source": [
        "text1 ='''Tracy loves writing about data science'''"
      ],
      "execution_count": 498,
      "outputs": []
    },
    {
      "cell_type": "code",
      "metadata": {
        "id": "yMq7Sh9Qjh6D"
      },
      "source": [
        "text2 = '''Tracy loves writing for medium publications'''"
      ],
      "execution_count": 499,
      "outputs": []
    },
    {
      "cell_type": "markdown",
      "metadata": {
        "id": "ypT6KrFisQ-y"
      },
      "source": [
        "Corpus"
      ]
    },
    {
      "cell_type": "code",
      "metadata": {
        "id": "IVTBfWNIsTJg"
      },
      "source": [
        "corpus = [text1, text2]"
      ],
      "execution_count": 500,
      "outputs": []
    },
    {
      "cell_type": "markdown",
      "metadata": {
        "id": "EqYSlFk_hXBt"
      },
      "source": [
        "TdIdf Vectorizer"
      ]
    },
    {
      "cell_type": "code",
      "metadata": {
        "colab": {
          "base_uri": "https://localhost:8080/",
          "height": 112
        },
        "id": "yftIa0Lxskbs",
        "outputId": "5ec8d3c2-8d52-439a-e2f0-63a47537a30c"
      },
      "source": [
        "#see:- https://kanoki.org/2018/12/27/text-matching-cosine-similarity/\n",
        "\n",
        "from sklearn.feature_extraction.text import TfidfVectorizer\n",
        "\n",
        "vectorizer = TfidfVectorizer()\n",
        "trsfm=vectorizer.fit_transform(corpus)\n",
        "pd.DataFrame(trsfm.toarray(),columns=vectorizer.get_feature_names(),index=['doc1','doc2'])"
      ],
      "execution_count": 501,
      "outputs": [
        {
          "output_type": "execute_result",
          "data": {
            "text/html": [
              "<div>\n",
              "<style scoped>\n",
              "    .dataframe tbody tr th:only-of-type {\n",
              "        vertical-align: middle;\n",
              "    }\n",
              "\n",
              "    .dataframe tbody tr th {\n",
              "        vertical-align: top;\n",
              "    }\n",
              "\n",
              "    .dataframe thead th {\n",
              "        text-align: right;\n",
              "    }\n",
              "</style>\n",
              "<table border=\"1\" class=\"dataframe\">\n",
              "  <thead>\n",
              "    <tr style=\"text-align: right;\">\n",
              "      <th></th>\n",
              "      <th>about</th>\n",
              "      <th>data</th>\n",
              "      <th>for</th>\n",
              "      <th>loves</th>\n",
              "      <th>medium</th>\n",
              "      <th>publications</th>\n",
              "      <th>science</th>\n",
              "      <th>tracy</th>\n",
              "      <th>writing</th>\n",
              "    </tr>\n",
              "  </thead>\n",
              "  <tbody>\n",
              "    <tr>\n",
              "      <th>doc1</th>\n",
              "      <td>0.470426</td>\n",
              "      <td>0.470426</td>\n",
              "      <td>0.000000</td>\n",
              "      <td>0.334712</td>\n",
              "      <td>0.000000</td>\n",
              "      <td>0.000000</td>\n",
              "      <td>0.470426</td>\n",
              "      <td>0.334712</td>\n",
              "      <td>0.334712</td>\n",
              "    </tr>\n",
              "    <tr>\n",
              "      <th>doc2</th>\n",
              "      <td>0.000000</td>\n",
              "      <td>0.000000</td>\n",
              "      <td>0.470426</td>\n",
              "      <td>0.334712</td>\n",
              "      <td>0.470426</td>\n",
              "      <td>0.470426</td>\n",
              "      <td>0.000000</td>\n",
              "      <td>0.334712</td>\n",
              "      <td>0.334712</td>\n",
              "    </tr>\n",
              "  </tbody>\n",
              "</table>\n",
              "</div>"
            ],
            "text/plain": [
              "         about      data       for  ...   science     tracy   writing\n",
              "doc1  0.470426  0.470426  0.000000  ...  0.470426  0.334712  0.334712\n",
              "doc2  0.000000  0.000000  0.470426  ...  0.000000  0.334712  0.334712\n",
              "\n",
              "[2 rows x 9 columns]"
            ]
          },
          "metadata": {
            "tags": []
          },
          "execution_count": 501
        }
      ]
    },
    {
      "cell_type": "markdown",
      "metadata": {
        "id": "GQfgdBBmtod1"
      },
      "source": [
        "Cosine similarity - sklearn"
      ]
    },
    {
      "cell_type": "code",
      "metadata": {
        "colab": {
          "base_uri": "https://localhost:8080/"
        },
        "id": "Dv-7SiOvtrrN",
        "outputId": "92bf215e-c495-4502-bac6-ab1d02c364d9"
      },
      "source": [
        "from sklearn.metrics.pairwise import cosine_similarity\n",
        "\n",
        "cosine_similarity(trsfm[0], trsfm)"
      ],
      "execution_count": 502,
      "outputs": [
        {
          "output_type": "execute_result",
          "data": {
            "text/plain": [
              "array([[1.        , 0.33609693]])"
            ]
          },
          "metadata": {
            "tags": []
          },
          "execution_count": 502
        }
      ]
    },
    {
      "cell_type": "markdown",
      "metadata": {
        "id": "CtqQnFtO12Lc"
      },
      "source": [
        "Cosine similarity - from scratch\n",
        "\n",
        "see:- https://clay-atlas.com/us/blog/2020/03/27/cosine-similarity-text-calculate-python/"
      ]
    },
    {
      "cell_type": "code",
      "metadata": {
        "colab": {
          "base_uri": "https://localhost:8080/"
        },
        "id": "Y7XxDSaW5UJ2",
        "outputId": "1d3a960e-9ea9-4f07-8afd-08f42caaea5b"
      },
      "source": [
        "doc1 = trsfm[0:1].todense()\n",
        "doc2 = trsfm[1:2].todense()\n",
        "\n",
        "doc1.shape, doc2.shape"
      ],
      "execution_count": 503,
      "outputs": [
        {
          "output_type": "execute_result",
          "data": {
            "text/plain": [
              "((1, 9), (1, 9))"
            ]
          },
          "metadata": {
            "tags": []
          },
          "execution_count": 503
        }
      ]
    },
    {
      "cell_type": "markdown",
      "metadata": {
        "id": "-BxDT220DpPH"
      },
      "source": [
        "Convert to list"
      ]
    },
    {
      "cell_type": "code",
      "metadata": {
        "colab": {
          "base_uri": "https://localhost:8080/"
        },
        "id": "HPN7SK7ADsFC",
        "outputId": "7e1d084d-824f-4d34-a352-76752749ed6e"
      },
      "source": [
        "doc_1 = []\n",
        "\n",
        "for i in range(len(doc1[0])):\n",
        "  doc_1.append(doc1[i])\n",
        "print(doc_1)"
      ],
      "execution_count": 504,
      "outputs": [
        {
          "output_type": "stream",
          "text": [
            "[matrix([[0.47042643, 0.47042643, 0.        , 0.33471228, 0.        ,\n",
            "         0.        , 0.47042643, 0.33471228, 0.33471228]])]\n"
          ],
          "name": "stdout"
        }
      ]
    },
    {
      "cell_type": "code",
      "metadata": {
        "colab": {
          "base_uri": "https://localhost:8080/"
        },
        "id": "YsUF3tMmGRJI",
        "outputId": "a8721cd5-1636-4aa3-efa3-55ec44f90ba2"
      },
      "source": [
        "doc_2 = []\n",
        "\n",
        "for i in range(len(doc2[0])):\n",
        "  doc_2.append(doc2[i])\n",
        "print(doc_2)"
      ],
      "execution_count": 505,
      "outputs": [
        {
          "output_type": "stream",
          "text": [
            "[matrix([[0.        , 0.        , 0.47042643, 0.33471228, 0.47042643,\n",
            "         0.47042643, 0.        , 0.33471228, 0.33471228]])]\n"
          ],
          "name": "stdout"
        }
      ]
    },
    {
      "cell_type": "code",
      "metadata": {
        "id": "6RScv6NuG7Qd"
      },
      "source": [
        "doc_1 = np.squeeze(np.asarray(doc_1))\n",
        "doc_2 = np.squeeze(np.asarray(doc_2))"
      ],
      "execution_count": 506,
      "outputs": []
    },
    {
      "cell_type": "code",
      "metadata": {
        "colab": {
          "base_uri": "https://localhost:8080/"
        },
        "id": "naRvJn8z07p3",
        "outputId": "e3d7eb37-bae7-4a88-aee8-8e884d152bf7"
      },
      "source": [
        "# Dot and norm\n",
        "dot = sum(a*b for a, b in zip(doc_1, doc_2))\n",
        "norm_a = sum(a*a for a in doc_1) ** 0.5\n",
        "norm_b = sum(b*b for b in doc_2) ** 0.5\n",
        "\n",
        "# Cosine similarity\n",
        "cos_sim = dot / (norm_a*norm_b)\n",
        "print(cos_sim)"
      ],
      "execution_count": 507,
      "outputs": [
        {
          "output_type": "stream",
          "text": [
            "0.33609692727625745\n"
          ],
          "name": "stdout"
        }
      ]
    },
    {
      "cell_type": "markdown",
      "metadata": {
        "id": "a164jNDLHhvl"
      },
      "source": [
        "Cosine similarity - numpy"
      ]
    },
    {
      "cell_type": "code",
      "metadata": {
        "colab": {
          "base_uri": "https://localhost:8080/"
        },
        "id": "yWAkPOXMIFNe",
        "outputId": "16edeea8-d449-4bc5-d338-71a7b0b919a3"
      },
      "source": [
        "cos = np.dot(doc_1, doc_2) / (np.sqrt(np.dot(doc_1,doc_1)) * np.sqrt(np.dot(doc_2,doc_2)))\n",
        "print(cos)"
      ],
      "execution_count": 508,
      "outputs": [
        {
          "output_type": "stream",
          "text": [
            "0.33609692727625745\n"
          ],
          "name": "stdout"
        }
      ]
    },
    {
      "cell_type": "markdown",
      "metadata": {
        "id": "DbEiQDr9Ijgo"
      },
      "source": [
        "Cosine similarity - scipy"
      ]
    },
    {
      "cell_type": "code",
      "metadata": {
        "colab": {
          "base_uri": "https://localhost:8080/"
        },
        "id": "k60QSrxNI5yE",
        "outputId": "749463f1-085d-43c1-d904-7098115b72d8"
      },
      "source": [
        "from scipy.spatial import distance\n",
        "\n",
        "cosine_similarity = 1 - distance.cosine(doc_1, doc_2)\n",
        "print(cosine_similarity)"
      ],
      "execution_count": 509,
      "outputs": [
        {
          "output_type": "stream",
          "text": [
            "0.3360969272762575\n"
          ],
          "name": "stdout"
        }
      ]
    }
  ]
}